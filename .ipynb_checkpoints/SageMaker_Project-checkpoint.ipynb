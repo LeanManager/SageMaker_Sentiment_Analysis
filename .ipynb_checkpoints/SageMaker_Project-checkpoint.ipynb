{
 "cells": [
  {
   "cell_type": "markdown",
   "metadata": {},
   "source": [
    "# Creating a Sentiment Analysis Web App\n",
    "## Using PyTorch and SageMaker\n",
    "\n",
    "_Deep Learning Nanodegree Program | Deployment_\n",
    "\n",
    "---\n",
    "\n",
    "Now that we have a basic understanding of how SageMaker works we will try to use it to construct a complete project from end to end. Our goal will be to have a simple web page which a user can use to enter a movie review. The web page will then send the review off to our deployed model which will predict the sentiment of the entered review.\n",
    "\n",
    "## Instructions\n",
    "\n",
    "Some template code has already been provided for you, and you will need to implement additional functionality to successfully complete this notebook. You will not need to modify the included code beyond what is requested. Sections that begin with '**TODO**' in the header indicate that you need to complete or implement some portion within them. Instructions will be provided for each section and the specifics of the implementation are marked in the code block with a `# TODO: ...` comment. Please be sure to read the instructions carefully!\n",
    "\n",
    "In addition to implementing code, there will be questions for you to answer which relate to the task and your implementation. Each section where you will answer a question is preceded by a '**Question:**' header. Carefully read each question and provide your answer below the '**Answer:**' header by editing the Markdown cell.\n",
    "\n",
    "> **Note**: Code and Markdown cells can be executed using the **Shift+Enter** keyboard shortcut. In addition, a cell can be edited by typically clicking it (double-click for Markdown cells) or by pressing **Enter** while it is highlighted.\n",
    "\n",
    "## General Outline\n",
    "\n",
    "Recall the general outline for SageMaker projects using a notebook instance.\n",
    "\n",
    "1. Download or otherwise retrieve the data.\n",
    "2. Process / Prepare the data.\n",
    "3. Upload the processed data to S3.\n",
    "4. Train a chosen model.\n",
    "5. Test the trained model (typically using a batch transform job).\n",
    "6. Deploy the trained model.\n",
    "7. Use the deployed model.\n",
    "\n",
    "For this project, you will be following the steps in the general outline with some modifications. \n",
    "\n",
    "First, you will not be testing the model in its own step. You will still be testing the model, however, you will do it by deploying your model and then using the deployed model by sending the test data to it. One of the reasons for doing this is so that you can make sure that your deployed model is working correctly before moving forward.\n",
    "\n",
    "In addition, you will deploy and use your trained model a second time. In the second iteration you will customize the way that your trained model is deployed by including some of your own code. In addition, your newly deployed model will be used in the sentiment analysis web app."
   ]
  },
  {
   "cell_type": "markdown",
   "metadata": {},
   "source": [
    "## Step 1: Downloading the data\n",
    "\n",
    "As in the XGBoost in SageMaker notebook, we will be using the [IMDb dataset](http://ai.stanford.edu/~amaas/data/sentiment/)\n",
    "\n",
    "> Maas, Andrew L., et al. [Learning Word Vectors for Sentiment Analysis](http://ai.stanford.edu/~amaas/data/sentiment/). In _Proceedings of the 49th Annual Meeting of the Association for Computational Linguistics: Human Language Technologies_. Association for Computational Linguistics, 2011."
   ]
  },
  {
   "cell_type": "code",
   "execution_count": null,
   "metadata": {},
   "outputs": [],
   "source": [
    "%mkdir ../data\n",
    "!wget -O ../data/aclImdb_v1.tar.gz http://ai.stanford.edu/~amaas/data/sentiment/aclImdb_v1.tar.gz\n",
    "!tar -zxf ../data/aclImdb_v1.tar.gz -C ../data"
   ]
  },
  {
   "cell_type": "markdown",
   "metadata": {},
   "source": [
    "## Step 2: Preparing and Processing the data\n",
    "\n",
    "Also, as in the XGBoost notebook, we will be doing some initial data processing. The first few steps are the same as in the XGBoost example. To begin with, we will read in each of the reviews and combine them into a single input structure. Then, we will split the dataset into a training set and a testing set."
   ]
  },
  {
   "cell_type": "code",
   "execution_count": 4,
   "metadata": {},
   "outputs": [],
   "source": [
    "import os\n",
    "import glob\n",
    "\n",
    "def read_imdb_data(data_dir='../data/aclImdb'):\n",
    "    data = {}\n",
    "    labels = {}\n",
    "    \n",
    "    for data_type in ['train', 'test']:\n",
    "        data[data_type] = {}\n",
    "        labels[data_type] = {}\n",
    "        \n",
    "        for sentiment in ['pos', 'neg']:\n",
    "            data[data_type][sentiment] = []\n",
    "            labels[data_type][sentiment] = []\n",
    "            \n",
    "            path = os.path.join(data_dir, data_type, sentiment, '*.txt')\n",
    "            files = glob.glob(path)\n",
    "            \n",
    "            for f in files:\n",
    "                with open(f) as review:\n",
    "                    data[data_type][sentiment].append(review.read())\n",
    "                    # Here we represent a positive review by '1' and a negative review by '0'\n",
    "                    labels[data_type][sentiment].append(1 if sentiment == 'pos' else 0)\n",
    "                    \n",
    "            assert len(data[data_type][sentiment]) == len(labels[data_type][sentiment]), \\\n",
    "                    \"{}/{} data size does not match labels size\".format(data_type, sentiment)\n",
    "                \n",
    "    return data, labels"
   ]
  },
  {
   "cell_type": "code",
   "execution_count": 5,
   "metadata": {},
   "outputs": [
    {
     "name": "stdout",
     "output_type": "stream",
     "text": [
      "IMDB reviews: train = 12500 pos / 12500 neg, test = 12500 pos / 12500 neg\n"
     ]
    }
   ],
   "source": [
    "data, labels = read_imdb_data()\n",
    "\n",
    "print(\"IMDB reviews: train = {} pos / {} neg, test = {} pos / {} neg\".format(\n",
    "            len(data['train']['pos']), len(data['train']['neg']),\n",
    "            len(data['test']['pos']), len(data['test']['neg'])))"
   ]
  },
  {
   "cell_type": "markdown",
   "metadata": {},
   "source": [
    "Now that we've read the raw training and testing data from the downloaded dataset, we will combine the positive and negative reviews and shuffle the resulting records."
   ]
  },
  {
   "cell_type": "code",
   "execution_count": 6,
   "metadata": {},
   "outputs": [],
   "source": [
    "from sklearn.utils import shuffle\n",
    "\n",
    "def prepare_imdb_data(data, labels):\n",
    "    \"\"\"Prepare training and test sets from IMDb movie reviews.\"\"\"\n",
    "    \n",
    "    #Combine positive and negative reviews and labels\n",
    "    data_train = data['train']['pos'] + data['train']['neg']\n",
    "    data_test = data['test']['pos'] + data['test']['neg']\n",
    "    labels_train = labels['train']['pos'] + labels['train']['neg']\n",
    "    labels_test = labels['test']['pos'] + labels['test']['neg']\n",
    "    \n",
    "    #Shuffle reviews and corresponding labels within training and test sets\n",
    "    data_train, labels_train = shuffle(data_train, labels_train)\n",
    "    data_test, labels_test = shuffle(data_test, labels_test)\n",
    "    \n",
    "    # Return a unified training data, test data, training labels, test labets\n",
    "    return data_train, data_test, labels_train, labels_test"
   ]
  },
  {
   "cell_type": "code",
   "execution_count": 7,
   "metadata": {},
   "outputs": [
    {
     "name": "stdout",
     "output_type": "stream",
     "text": [
      "IMDb reviews (combined): train = 25000, test = 25000\n"
     ]
    }
   ],
   "source": [
    "train_X, test_X, train_y, test_y = prepare_imdb_data(data, labels)\n",
    "print(\"IMDb reviews (combined): train = {}, test = {}\".format(len(train_X), len(test_X)))"
   ]
  },
  {
   "cell_type": "markdown",
   "metadata": {},
   "source": [
    "Now that we have our training and testing sets unified and prepared, we should do a quick check and see an example of the data our model will be trained on. This is generally a good idea as it allows you to see how each of the further processing steps affects the reviews and it also ensures that the data has been loaded correctly."
   ]
  },
  {
   "cell_type": "code",
   "execution_count": 8,
   "metadata": {},
   "outputs": [
    {
     "name": "stdout",
     "output_type": "stream",
     "text": [
      "In September 2003 36-year-old Jonny Kennedy died. He had a terrible genetic condition called Dystrophic Epidermolysis Bullosa (EB) - which meant that his skin literally fell off at the slightest touch, leaving his body covered in agonising sores and leading to a final fight against skin cancer. In his last months Jonny decided to work with filmmaker Patrick Collerton to document his life and death, and the result was a film, first broadcast in March, that was an uplifting, confounding and provocatively humorous story of a singular man. Not shying away from the grim reality of EB, the film was also a celebration of a life lived to the full. Produced and directed by Patrick Collerton and first shown in March 2004 The Boy Whose Skin Fell Off has become the most talked about documentary of that year. It attracted nearly five million viewers and after the screening the public donated over half a million pounds to Jonny's charity, DEBRA. A Jonny Kennedy Memorial Fund has been set up to raise another half a million with the aim of ensuring that Jonny Kennedy left a one million pound legacy.\n",
      "1\n"
     ]
    }
   ],
   "source": [
    "print(train_X[100])\n",
    "print(train_y[100])"
   ]
  },
  {
   "cell_type": "markdown",
   "metadata": {},
   "source": [
    "The first step in processing the reviews is to make sure that any html tags that appear should be removed. In addition we wish to tokenize our input, that way words such as *entertained* and *entertaining* are considered the same with regard to sentiment analysis."
   ]
  },
  {
   "cell_type": "code",
   "execution_count": 9,
   "metadata": {},
   "outputs": [],
   "source": [
    "import nltk\n",
    "from nltk.corpus import stopwords\n",
    "from nltk.stem.porter import *\n",
    "\n",
    "import re\n",
    "from bs4 import BeautifulSoup\n",
    "\n",
    "def review_to_words(review) -> list:\n",
    "    \n",
    "    nltk.download(\"stopwords\", quiet=True)\n",
    "    \n",
    "    stemmer = PorterStemmer()\n",
    "    \n",
    "    text = BeautifulSoup(review, \"html.parser\").get_text() # Remove HTML tags\n",
    "    text = re.sub(r\"[^a-zA-Z0-9]\", \" \", text.lower()) # Convert to lower case\n",
    "    words = text.split() # Split string into words\n",
    "    words = [w for w in words if w not in stopwords.words(\"english\")] # Remove stopwords\n",
    "    words = [PorterStemmer().stem(w) for w in words] # stem\n",
    "    \n",
    "    return words"
   ]
  },
  {
   "cell_type": "markdown",
   "metadata": {},
   "source": [
    "The `review_to_words` method defined above uses `BeautifulSoup` to remove any html tags that appear and uses the `nltk` package to tokenize the reviews. As a check to ensure we know how everything is working, try applying `review_to_words` to one of the reviews in the training set."
   ]
  },
  {
   "cell_type": "code",
   "execution_count": 10,
   "metadata": {},
   "outputs": [
    {
     "data": {
      "text/plain": [
       "['septemb',\n",
       " '2003',\n",
       " '36',\n",
       " 'year',\n",
       " 'old',\n",
       " 'jonni',\n",
       " 'kennedi',\n",
       " 'die',\n",
       " 'terribl',\n",
       " 'genet',\n",
       " 'condit',\n",
       " 'call',\n",
       " 'dystroph',\n",
       " 'epidermolysi',\n",
       " 'bullosa',\n",
       " 'eb',\n",
       " 'meant',\n",
       " 'skin',\n",
       " 'liter',\n",
       " 'fell',\n",
       " 'slightest',\n",
       " 'touch',\n",
       " 'leav',\n",
       " 'bodi',\n",
       " 'cover',\n",
       " 'agonis',\n",
       " 'sore',\n",
       " 'lead',\n",
       " 'final',\n",
       " 'fight',\n",
       " 'skin',\n",
       " 'cancer',\n",
       " 'last',\n",
       " 'month',\n",
       " 'jonni',\n",
       " 'decid',\n",
       " 'work',\n",
       " 'filmmak',\n",
       " 'patrick',\n",
       " 'collerton',\n",
       " 'document',\n",
       " 'life',\n",
       " 'death',\n",
       " 'result',\n",
       " 'film',\n",
       " 'first',\n",
       " 'broadcast',\n",
       " 'march',\n",
       " 'uplift',\n",
       " 'confound',\n",
       " 'provoc',\n",
       " 'humor',\n",
       " 'stori',\n",
       " 'singular',\n",
       " 'man',\n",
       " 'shi',\n",
       " 'away',\n",
       " 'grim',\n",
       " 'realiti',\n",
       " 'eb',\n",
       " 'film',\n",
       " 'also',\n",
       " 'celebr',\n",
       " 'life',\n",
       " 'live',\n",
       " 'full',\n",
       " 'produc',\n",
       " 'direct',\n",
       " 'patrick',\n",
       " 'collerton',\n",
       " 'first',\n",
       " 'shown',\n",
       " 'march',\n",
       " '2004',\n",
       " 'boy',\n",
       " 'whose',\n",
       " 'skin',\n",
       " 'fell',\n",
       " 'becom',\n",
       " 'talk',\n",
       " 'documentari',\n",
       " 'year',\n",
       " 'attract',\n",
       " 'nearli',\n",
       " 'five',\n",
       " 'million',\n",
       " 'viewer',\n",
       " 'screen',\n",
       " 'public',\n",
       " 'donat',\n",
       " 'half',\n",
       " 'million',\n",
       " 'pound',\n",
       " 'jonni',\n",
       " 'chariti',\n",
       " 'debra',\n",
       " 'jonni',\n",
       " 'kennedi',\n",
       " 'memori',\n",
       " 'fund',\n",
       " 'set',\n",
       " 'rais',\n",
       " 'anoth',\n",
       " 'half',\n",
       " 'million',\n",
       " 'aim',\n",
       " 'ensur',\n",
       " 'jonni',\n",
       " 'kennedi',\n",
       " 'left',\n",
       " 'one',\n",
       " 'million',\n",
       " 'pound',\n",
       " 'legaci']"
      ]
     },
     "execution_count": 10,
     "metadata": {},
     "output_type": "execute_result"
    }
   ],
   "source": [
    "# TODO: Apply review_to_words to a review (train_X[100] or any other review)\n",
    "\n",
    "review_to_words(train_X[100])"
   ]
  },
  {
   "cell_type": "markdown",
   "metadata": {},
   "source": [
    "**Question:** Above we mentioned that `review_to_words` method removes html formatting and allows us to tokenize the words found in a review, for example, converting *entertained* and *entertaining* into *entertain* so that they are treated as though they are the same word. What else, if anything, does this method do to the input?"
   ]
  },
  {
   "cell_type": "markdown",
   "metadata": {},
   "source": [
    "**Answer:**\n",
    "\n",
    "This method converts words to lower-case and removes any non-alphanumeric characters using regex. It also removes stopwords - common words from the English language that (approximately) do not contribute to a review's sentiment. We do this to reduce the number of features of the training dataset to reduce model complexity.\n",
    "\n",
    "This method also applies stemming, but not lemmatization. Stemming reduces words to root forms, but these stemmed words may not be actual words (see 'peopl' in the tokenized review in the cell above). Lemmatization, on the other hand, does transform variations of a word into their single, common root word. This root word is an actual word that belongs to the English language (lemmatization is not performed here). Regardless, stemming also aims to reduce the number of features of the training dataset to reduce model complexity.\n",
    "\n",
    "-"
   ]
  },
  {
   "cell_type": "code",
   "execution_count": 11,
   "metadata": {},
   "outputs": [
    {
     "name": "stdout",
     "output_type": "stream",
     "text": [
      "Total: 108 GiB\n",
      "Used: 71 GiB\n",
      "Free: 36 GiB\n"
     ]
    }
   ],
   "source": [
    "import shutil\n",
    "\n",
    "total, used, free = shutil.disk_usage(\"/\")\n",
    "\n",
    "print(\"Total: %d GiB\" % (total // (2**30)))\n",
    "print(\"Used: %d GiB\" % (used // (2**30)))\n",
    "print(\"Free: %d GiB\" % (free // (2**30)))"
   ]
  },
  {
   "cell_type": "markdown",
   "metadata": {},
   "source": [
    "The method below applies the `review_to_words` method to each of the reviews in the training and testing datasets. In addition it caches the results. This is because performing this processing step can take a long time. This way if you are unable to complete the notebook in the current session, you can come back without needing to process the data a second time."
   ]
  },
  {
   "cell_type": "code",
   "execution_count": 12,
   "metadata": {},
   "outputs": [],
   "source": [
    "import pickle\n",
    "\n",
    "cache_dir = os.path.join(\"../cache\", \"sentiment_analysis\")  # where to store cache files\n",
    "os.makedirs(cache_dir, exist_ok=True)  # ensure cache directory exists\n",
    "\n",
    "def preprocess_data(data_train, data_test, labels_train, labels_test,\n",
    "                    cache_dir=cache_dir, cache_file=\"preprocessed_data.pkl\"):\n",
    "    \"\"\"Convert each review to words; read from cache if available.\"\"\"\n",
    "\n",
    "    # If cache_file is not None, try to read from it first\n",
    "    cache_data = None\n",
    "    if cache_file is not None:\n",
    "        try:\n",
    "            with open(os.path.join(cache_dir, cache_file), \"rb\") as f:\n",
    "                cache_data = pickle.load(f)\n",
    "            print(\"Read preprocessed data from cache file:\", cache_file)\n",
    "        except:\n",
    "            pass  # unable to read from cache, but that's okay\n",
    "    \n",
    "    # If cache is missing, then do the heavy lifting\n",
    "    if cache_data is None:\n",
    "        # Preprocess training and test data to obtain words for each review\n",
    "        #words_train = list(map(review_to_words, data_train))\n",
    "        #words_test = list(map(review_to_words, data_test))\n",
    "        words_train = [review_to_words(review) for review in data_train]\n",
    "        words_test = [review_to_words(review) for review in data_test]\n",
    "        \n",
    "        # Write to cache file for future runs\n",
    "        if cache_file is not None:\n",
    "            cache_data = dict(words_train=words_train, words_test=words_test,\n",
    "                              labels_train=labels_train, labels_test=labels_test)\n",
    "            with open(os.path.join(cache_dir, cache_file), \"wb\") as f:\n",
    "                pickle.dump(cache_data, f)\n",
    "            print(\"Wrote preprocessed data to cache file:\", cache_file)\n",
    "    else:\n",
    "        # Unpack data loaded from cache file\n",
    "        words_train, words_test, labels_train, labels_test = (cache_data['words_train'],\n",
    "                cache_data['words_test'], cache_data['labels_train'], cache_data['labels_test'])\n",
    "    \n",
    "    return words_train, words_test, labels_train, labels_test"
   ]
  },
  {
   "cell_type": "code",
   "execution_count": 13,
   "metadata": {},
   "outputs": [
    {
     "name": "stdout",
     "output_type": "stream",
     "text": [
      "Read preprocessed data from cache file: preprocessed_data.pkl\n"
     ]
    }
   ],
   "source": [
    "# Preprocess data\n",
    "train_X, test_X, train_y, test_y = preprocess_data(train_X, test_X, train_y, test_y)"
   ]
  },
  {
   "cell_type": "markdown",
   "metadata": {},
   "source": [
    "## Transform the data\n",
    "\n",
    "In the XGBoost notebook we transformed the data from its word representation to a bag-of-words feature representation. For the model we are going to construct in this notebook we will construct a feature representation which is very similar. To start, we will represent each word as an integer. Of course, some of the words that appear in the reviews occur very infrequently and so likely don't contain much information for the purposes of sentiment analysis. The way we will deal with this problem is that we will fix the size of our working vocabulary and we will only include the words that appear most frequently. We will then combine all of the infrequent words into a single category and, in our case, we will label it as `1`.\n",
    "\n",
    "Since we will be using a recurrent neural network, it will be convenient if the length of each review is the same. To do this, we will fix a size for our reviews and then pad short reviews with the category 'no word' (which we will label `0`) and truncate long reviews."
   ]
  },
  {
   "cell_type": "markdown",
   "metadata": {},
   "source": [
    "### (TODO) Create a word dictionary\n",
    "\n",
    "To begin with, we need to construct a way to map words that appear in the reviews to integers. Here we fix the size of our vocabulary (including the 'no word' and 'infrequent' categories) to be `5000` but you may wish to change this to see how it affects the model.\n",
    "\n",
    "> **TODO:** Complete the implementation for the `build_dict()` method below. Note that even though the vocab_size is set to `5000`, we only want to construct a mapping for the most frequently appearing `4998` words. This is because we want to reserve the special labels `0` for 'no word' and `1` for 'infrequent word'."
   ]
  },
  {
   "cell_type": "code",
   "execution_count": 14,
   "metadata": {},
   "outputs": [],
   "source": [
    "def check_dictionary(dictionary: dict, limit: int = 20) -> None:\n",
    "    \n",
    "    count: int = 0\n",
    "    \n",
    "    for key, value in dictionary.items():\n",
    "        \n",
    "        print(f\"{key}, {value}\")\n",
    "        \n",
    "        count += 1\n",
    "        \n",
    "        if count == limit:\n",
    "            break\n",
    "            \n",
    "            \n",
    "def check_list(array: list, limit: int = 20) -> None:\n",
    "    \n",
    "    count: int = 0\n",
    "    \n",
    "    for element in array:\n",
    "        \n",
    "        print(f\"{element}\")\n",
    "        \n",
    "        count += 1\n",
    "        \n",
    "        if count == limit:\n",
    "            break"
   ]
  },
  {
   "cell_type": "code",
   "execution_count": 15,
   "metadata": {},
   "outputs": [],
   "source": [
    "import numpy as np\n",
    "\n",
    "def build_dict(data, vocab_size = 5000) -> dict:\n",
    "    \"\"\"Construct and return a dictionary mapping each of the most frequently appearing words to a unique integer.\"\"\"\n",
    "    \n",
    "    # Determine how often each word appears in `data`. Note that `data` is a list of sentences and that a\n",
    "    # sentence is a list of words.\n",
    "    \n",
    "    word_count: dict = {} # A dict storing the words that appear in the reviews along with how often they occur\n",
    "    \n",
    "    for review in data:\n",
    "        for word in review:\n",
    "            if not word_count.get(word):\n",
    "                word_count[word] = 1\n",
    "            else:\n",
    "                word_count[word] += 1\n",
    "                \n",
    "    print(f\"word_count length: {len(word_count)}\")\n",
    "    \n",
    "    check_dictionary(word_count)\n",
    "    \n",
    "    # Sort the words found in `data` so that sorted_words[0] is the most frequently appearing word and\n",
    "    # sorted_words[-1] is the least frequently appearing word.\n",
    "    \n",
    "    sorted_words = [key for key, value in sorted(word_count.items(), key=lambda item: item[1], reverse=True)]\n",
    "    \n",
    "    print()\n",
    "    print(f\"sorted_words length: {len(sorted_words)}\")\n",
    "    \n",
    "    check_list(sorted_words)\n",
    "    \n",
    "    word_dict = {} # This is what we are building, a dictionary that translates words into integers\n",
    "    \n",
    "    for idx, word in enumerate(sorted_words[:vocab_size - 2]): # The -2 is so that we save room for the 'no word'\n",
    "        word_dict[word] = idx + 2                              # 'infrequent' labels\n",
    "        \n",
    "    return word_dict"
   ]
  },
  {
   "cell_type": "code",
   "execution_count": 16,
   "metadata": {},
   "outputs": [
    {
     "name": "stdout",
     "output_type": "stream",
     "text": [
      "word_count length: 51857\n",
      "follow, 2292\n",
      "block, 166\n",
      "head, 2075\n",
      "chump, 10\n",
      "oxford, 13\n",
      "two, 6908\n",
      "film, 48190\n",
      "hard, 2681\n",
      "top, 1957\n",
      "sap, 53\n",
      "sea, 291\n",
      "bad, 9344\n",
      "last, 3158\n",
      "good, 15360\n",
      "comedi, 3686\n",
      "unless, 675\n",
      "one, 27741\n",
      "insist, 209\n",
      "jitterbug, 6\n",
      "anoth, 4325\n",
      "\n",
      "sorted_words length: 51857\n",
      "movi\n",
      "film\n",
      "one\n",
      "like\n",
      "time\n",
      "good\n",
      "make\n",
      "charact\n",
      "get\n",
      "see\n",
      "watch\n",
      "stori\n",
      "even\n",
      "would\n",
      "realli\n",
      "well\n",
      "scene\n",
      "look\n",
      "show\n",
      "much\n"
     ]
    }
   ],
   "source": [
    "word_dict = build_dict(train_X)"
   ]
  },
  {
   "cell_type": "code",
   "execution_count": 17,
   "metadata": {},
   "outputs": [
    {
     "name": "stdout",
     "output_type": "stream",
     "text": [
      "4998\n",
      "{'movi': 2, 'film': 3, 'one': 4, 'like': 5, 'time': 6, 'good': 7, 'make': 8, 'charact': 9, 'get': 10, 'see': 11, 'watch': 12, 'stori': 13, 'even': 14, 'would': 15, 'realli': 16, 'well': 17, 'scene': 18, 'look': 19, 'show': 20, 'much': 21, 'end': 22, 'peopl': 23, 'bad': 24, 'go': 25, 'great': 26, 'also': 27, 'first': 28, 'love': 29, 'think': 30, 'way': 31, 'act': 32, 'play': 33, 'made': 34, 'thing': 35, 'could': 36, 'know': 37, 'say': 38, 'seem': 39, 'work': 40, 'plot': 41, 'two': 42, 'actor': 43, 'year': 44, 'come': 45, 'mani': 46, 'seen': 47, 'take': 48, 'want': 49, 'life': 50, 'never': 51, 'littl': 52, 'best': 53, 'tri': 54, 'man': 55, 'ever': 56, 'give': 57, 'better': 58, 'still': 59, 'perform': 60, 'find': 61, 'feel': 62, 'part': 63, 'back': 64, 'use': 65, 'someth': 66, 'director': 67, 'actual': 68, 'interest': 69, 'lot': 70, 'real': 71, 'old': 72, 'cast': 73, 'though': 74, 'live': 75, 'star': 76, 'enjoy': 77, 'guy': 78, 'anoth': 79, 'new': 80, 'role': 81, 'noth': 82, '10': 83, 'funni': 84, 'music': 85, 'point': 86, 'start': 87, 'set': 88, 'girl': 89, 'origin': 90, 'day': 91, 'world': 92, 'everi': 93, 'believ': 94, 'turn': 95, 'quit': 96, 'direct': 97, 'us': 98, 'thought': 99, 'fact': 100, 'minut': 101, 'horror': 102, 'kill': 103, 'action': 104, 'comedi': 105, 'pretti': 106, 'young': 107, 'wonder': 108, 'happen': 109, 'around': 110, 'got': 111, 'effect': 112, 'right': 113, 'long': 114, 'howev': 115, 'big': 116, 'line': 117, 'famili': 118, 'enough': 119, 'seri': 120, 'may': 121, 'need': 122, 'fan': 123, 'bit': 124, 'script': 125, 'beauti': 126, 'person': 127, 'becom': 128, 'without': 129, 'must': 130, 'alway': 131, 'friend': 132, 'tell': 133, 'reason': 134, 'saw': 135, 'last': 136, 'final': 137, 'kid': 138, 'almost': 139, 'put': 140, 'least': 141, 'sure': 142, 'done': 143, 'whole': 144, 'place': 145, 'complet': 146, 'kind': 147, 'expect': 148, 'differ': 149, 'shot': 150, 'far': 151, 'mean': 152, 'anyth': 153, 'book': 154, 'laugh': 155, 'might': 156, 'name': 157, 'sinc': 158, 'begin': 159, '2': 160, 'probabl': 161, 'woman': 162, 'help': 163, 'entertain': 164, 'let': 165, 'screen': 166, 'call': 167, 'tv': 168, 'moment': 169, 'away': 170, 'read': 171, 'yet': 172, 'rather': 173, 'worst': 174, 'run': 175, 'fun': 176, 'lead': 177, 'hard': 178, 'audienc': 179, 'idea': 180, 'anyon': 181, 'episod': 182, 'american': 183, 'found': 184, 'appear': 185, 'bore': 186, 'especi': 187, 'although': 188, 'hope': 189, 'keep': 190, 'cours': 191, 'anim': 192, 'job': 193, 'goe': 194, 'move': 195, 'sens': 196, 'dvd': 197, 'version': 198, 'war': 199, 'money': 200, 'someon': 201, 'mind': 202, 'mayb': 203, 'problem': 204, 'true': 205, 'hous': 206, 'everyth': 207, 'nice': 208, 'second': 209, 'rate': 210, 'three': 211, 'night': 212, 'follow': 213, 'face': 214, 'recommend': 215, 'product': 216, 'main': 217, 'worth': 218, 'leav': 219, 'human': 220, 'special': 221, 'excel': 222, 'togeth': 223, 'wast': 224, 'sound': 225, 'everyon': 226, 'john': 227, 'hand': 228, '1': 229, 'father': 230, 'later': 231, 'eye': 232, 'said': 233, 'view': 234, 'instead': 235, 'review': 236, 'boy': 237, 'high': 238, 'hour': 239, 'miss': 240, 'classic': 241, 'talk': 242, 'wife': 243, 'understand': 244, 'left': 245, 'care': 246, 'black': 247, 'death': 248, 'open': 249, 'murder': 250, 'write': 251, 'half': 252, 'head': 253, 'rememb': 254, 'chang': 255, 'viewer': 256, 'fight': 257, 'gener': 258, 'surpris': 259, 'short': 260, 'includ': 261, 'die': 262, 'fall': 263, 'less': 264, 'els': 265, 'entir': 266, 'piec': 267, 'involv': 268, 'pictur': 269, 'simpli': 270, 'top': 271, 'home': 272, 'power': 273, 'total': 274, 'usual': 275, 'budget': 276, 'attempt': 277, 'suppos': 278, 'releas': 279, 'hollywood': 280, 'terribl': 281, 'song': 282, 'men': 283, 'possibl': 284, 'featur': 285, 'portray': 286, 'disappoint': 287, 'poor': 288, '3': 289, 'coupl': 290, 'stupid': 291, 'camera': 292, 'dead': 293, 'wrong': 294, 'produc': 295, 'low': 296, 'video': 297, 'either': 298, 'aw': 299, 'definit': 300, 'except': 301, 'rest': 302, 'given': 303, 'absolut': 304, 'women': 305, 'lack': 306, 'word': 307, 'writer': 308, 'titl': 309, 'talent': 310, 'decid': 311, 'full': 312, 'perfect': 313, 'along': 314, 'style': 315, 'close': 316, 'truli': 317, 'school': 318, 'emot': 319, 'save': 320, 'sex': 321, 'age': 322, 'next': 323, 'bring': 324, 'mr': 325, 'case': 326, 'killer': 327, 'heart': 328, 'comment': 329, 'sort': 330, 'creat': 331, 'perhap': 332, 'came': 333, 'brother': 334, 'sever': 335, 'joke': 336, 'art': 337, 'dialogu': 338, 'game': 339, 'small': 340, 'base': 341, 'flick': 342, 'written': 343, 'sequenc': 344, 'meet': 345, 'earli': 346, 'often': 347, 'other': 348, 'mother': 349, 'develop': 350, 'humor': 351, 'actress': 352, 'consid': 353, 'dark': 354, 'guess': 355, 'amaz': 356, 'unfortun': 357, 'light': 358, 'lost': 359, 'exampl': 360, 'cinema': 361, 'drama': 362, 'ye': 363, 'white': 364, 'experi': 365, 'imagin': 366, 'mention': 367, 'stop': 368, 'natur': 369, 'forc': 370, 'manag': 371, 'felt': 372, 'cut': 373, 'present': 374, 'children': 375, 'fail': 376, 'son': 377, 'qualiti': 378, 'support': 379, 'car': 380, 'ask': 381, 'hit': 382, 'side': 383, 'voic': 384, 'extrem': 385, 'impress': 386, 'evil': 387, 'wors': 388, 'stand': 389, 'went': 390, 'certainli': 391, 'basic': 392, 'oh': 393, 'overal': 394, 'favorit': 395, 'horribl': 396, 'mysteri': 397, 'number': 398, 'type': 399, 'danc': 400, 'wait': 401, 'hero': 402, '5': 403, 'alreadi': 404, 'learn': 405, 'matter': 406, '4': 407, 'michael': 408, 'genr': 409, 'fine': 410, 'despit': 411, 'throughout': 412, 'walk': 413, 'success': 414, 'histori': 415, 'question': 416, 'zombi': 417, 'town': 418, 'realiz': 419, 'relationship': 420, 'past': 421, 'child': 422, 'daughter': 423, 'late': 424, 'b': 425, 'wish': 426, 'credit': 427, 'hate': 428, 'event': 429, 'theme': 430, 'touch': 431, 'citi': 432, 'today': 433, 'sometim': 434, 'behind': 435, 'god': 436, 'twist': 437, 'sit': 438, 'deal': 439, 'annoy': 440, 'stay': 441, 'abl': 442, 'rent': 443, 'pleas': 444, 'edit': 445, 'blood': 446, 'deserv': 447, 'anyway': 448, 'comic': 449, 'appar': 450, 'soon': 451, 'gave': 452, 'etc': 453, 'level': 454, 'slow': 455, 'chanc': 456, 'score': 457, 'bodi': 458, 'brilliant': 459, 'incred': 460, 'figur': 461, 'situat': 462, 'self': 463, 'major': 464, 'stuff': 465, 'decent': 466, 'element': 467, 'dream': 468, 'return': 469, 'obvious': 470, 'order': 471, 'continu': 472, 'pace': 473, 'ridicul': 474, 'happi': 475, 'add': 476, 'group': 477, 'highli': 478, 'thank': 479, 'ladi': 480, 'novel': 481, 'speak': 482, 'pain': 483, 'career': 484, 'shoot': 485, 'strang': 486, 'heard': 487, 'sad': 488, 'polic': 489, 'husband': 490, 'import': 491, 'break': 492, 'took': 493, 'cannot': 494, 'strong': 495, 'robert': 496, 'predict': 497, 'violenc': 498, 'hilari': 499, 'recent': 500, 'countri': 501, 'known': 502, 'particularli': 503, 'pick': 504, 'documentari': 505, 'season': 506, 'critic': 507, 'jame': 508, 'compar': 509, 'alon': 510, 'obviou': 511, 'told': 512, 'state': 513, 'rock': 514, 'visual': 515, 'exist': 516, 'offer': 517, 'theater': 518, 'opinion': 519, 'gore': 520, 'crap': 521, 'hold': 522, 'result': 523, 'hear': 524, 'realiti': 525, 'room': 526, 'effort': 527, 'clich': 528, 'thriller': 529, 'caus': 530, 'sequel': 531, 'serious': 532, 'explain': 533, 'king': 534, 'local': 535, 'ago': 536, 'none': 537, 'hell': 538, 'note': 539, 'allow': 540, 'david': 541, 'sister': 542, 'simpl': 543, 'femal': 544, 'deliv': 545, 'ok': 546, 'convinc': 547, 'class': 548, 'check': 549, 'suspens': 550, 'win': 551, 'oscar': 552, 'buy': 553, 'huge': 554, 'valu': 555, 'sexual': 556, 'scari': 557, 'cool': 558, 'similar': 559, 'excit': 560, 'apart': 561, 'provid': 562, 'exactli': 563, 'avoid': 564, 'shown': 565, 'seriou': 566, 'english': 567, 'whose': 568, 'taken': 569, 'cinematographi': 570, 'shock': 571, 'polit': 572, 'spoiler': 573, 'offic': 574, 'across': 575, 'middl': 576, 'pass': 577, 'street': 578, 'messag': 579, 'charm': 580, 'silli': 581, 'somewhat': 582, 'modern': 583, 'confus': 584, 'filmmak': 585, 'form': 586, 'tale': 587, 'singl': 588, 'jack': 589, 'mostli': 590, 'carri': 591, 'attent': 592, 'william': 593, 'sing': 594, 'subject': 595, 'five': 596, 'richard': 597, 'prove': 598, 'team': 599, 'stage': 600, 'cop': 601, 'unlik': 602, 'georg': 603, 'televis': 604, 'monster': 605, 'earth': 606, 'cover': 607, 'villain': 608, 'pay': 609, 'marri': 610, 'toward': 611, 'build': 612, 'pull': 613, 'parent': 614, 'due': 615, 'respect': 616, 'fill': 617, 'four': 618, 'dialog': 619, 'remind': 620, 'futur': 621, 'typic': 622, 'weak': 623, '7': 624, 'cheap': 625, 'intellig': 626, 'atmospher': 627, 'british': 628, 'clearli': 629, '80': 630, 'paul': 631, 'dog': 632, 'non': 633, 'artist': 634, '8': 635, 'fast': 636, 'knew': 637, 'crime': 638, 'easili': 639, 'escap': 640, 'adult': 641, 'doubt': 642, 'detail': 643, 'date': 644, 'fire': 645, 'romant': 646, 'member': 647, 'gun': 648, 'drive': 649, 'straight': 650, 'fit': 651, 'beyond': 652, 'attack': 653, 'imag': 654, 'upon': 655, 'posit': 656, 'whether': 657, 'peter': 658, 'fantast': 659, 'appreci': 660, 'aspect': 661, 'captur': 662, 'ten': 663, 'plan': 664, 'discov': 665, 'remain': 666, 'near': 667, 'period': 668, 'air': 669, 'realist': 670, 'mark': 671, 'red': 672, 'dull': 673, 'adapt': 674, 'within': 675, 'lose': 676, 'spend': 677, 'materi': 678, 'color': 679, 'chase': 680, 'mari': 681, 'storylin': 682, 'forget': 683, 'bunch': 684, 'clear': 685, 'lee': 686, 'victim': 687, 'nearli': 688, 'box': 689, 'york': 690, 'inspir': 691, 'match': 692, 'mess': 693, 'finish': 694, 'standard': 695, 'easi': 696, 'truth': 697, 'busi': 698, 'suffer': 699, 'dramat': 700, 'space': 701, 'bill': 702, 'western': 703, 'e': 704, 'list': 705, 'battl': 706, 'notic': 707, 'de': 708, 'french': 709, 'ad': 710, '9': 711, 'tom': 712, 'larg': 713, 'among': 714, 'eventu': 715, 'accept': 716, 'train': 717, 'agre': 718, 'soundtrack': 719, 'spirit': 720, 'third': 721, 'teenag': 722, 'adventur': 723, 'soldier': 724, 'sorri': 725, 'suggest': 726, 'drug': 727, 'famou': 728, 'babi': 729, 'cri': 730, 'normal': 731, 'troubl': 732, 'ultim': 733, 'contain': 734, 'certain': 735, 'cultur': 736, 'romanc': 737, 'rare': 738, 'lame': 739, 'somehow': 740, 'disney': 741, 'mix': 742, 'gone': 743, 'cartoon': 744, 'student': 745, 'reveal': 746, 'fear': 747, 'suck': 748, 'kept': 749, 'attract': 750, 'appeal': 751, 'premis': 752, 'greatest': 753, 'design': 754, 'secret': 755, 'shame': 756, 'throw': 757, 'copi': 758, 'scare': 759, 'wit': 760, 'admit': 761, 'america': 762, 'relat': 763, 'particular': 764, 'brought': 765, 'screenplay': 766, 'whatev': 767, 'pure': 768, '70': 769, 'harri': 770, 'averag': 771, 'master': 772, 'describ': 773, 'treat': 774, 'male': 775, '20': 776, 'fantasi': 777, 'issu': 778, 'warn': 779, 'inde': 780, 'background': 781, 'forward': 782, 'free': 783, 'project': 784, 'memor': 785, 'japanes': 786, 'poorli': 787, 'award': 788, 'locat': 789, 'amus': 790, 'potenti': 791, 'struggl': 792, 'weird': 793, 'magic': 794, 'societi': 795, 'okay': 796, 'doctor': 797, 'imdb': 798, 'accent': 799, 'water': 800, 'hot': 801, '30': 802, 'express': 803, 'dr': 804, 'alien': 805, 'odd': 806, 'crazi': 807, 'choic': 808, 'studio': 809, 'fiction': 810, 'becam': 811, 'control': 812, 'masterpiec': 813, 'fli': 814, 'difficult': 815, 'joe': 816, 'scream': 817, 'costum': 818, 'lover': 819, 'uniqu': 820, 'refer': 821, 'remak': 822, 'girlfriend': 823, 'vampir': 824, 'prison': 825, 'execut': 826, 'wear': 827, 'jump': 828, 'unless': 829, 'wood': 830, 'creepi': 831, 'cheesi': 832, 'superb': 833, 'otherwis': 834, 'parti': 835, 'roll': 836, 'ghost': 837, 'public': 838, 'mad': 839, 'depict': 840, 'earlier': 841, 'jane': 842, 'badli': 843, 'moral': 844, 'week': 845, 'dumb': 846, 'fi': 847, 'grow': 848, 'flaw': 849, 'sci': 850, 'deep': 851, 'cat': 852, 'maker': 853, 'footag': 854, 'older': 855, 'connect': 856, 'plenti': 857, 'bother': 858, 'outsid': 859, 'stick': 860, 'gay': 861, 'catch': 862, 'plu': 863, 'co': 864, 'popular': 865, 'equal': 866, 'social': 867, 'disturb': 868, 'quickli': 869, 'perfectli': 870, 'dress': 871, '90': 872, 'era': 873, 'mistak': 874, 'lie': 875, 'ride': 876, 'previou': 877, 'combin': 878, 'band': 879, 'concept': 880, 'answer': 881, 'surviv': 882, 'rich': 883, 'front': 884, 'sweet': 885, 'christma': 886, 'insid': 887, 'eat': 888, 'bare': 889, 'concern': 890, 'beat': 891, 'ben': 892, 'listen': 893, 'c': 894, 'term': 895, 'serv': 896, 'la': 897, 'meant': 898, 'german': 899, 'hardli': 900, 'stereotyp': 901, 'innoc': 902, 'law': 903, 'desper': 904, 'memori': 905, 'promis': 906, 'cute': 907, 'intent': 908, 'variou': 909, 'steal': 910, 'inform': 911, 'brain': 912, 'post': 913, 'tone': 914, 'island': 915, 'amount': 916, 'nuditi': 917, 'track': 918, 'compani': 919, 'claim': 920, 'store': 921, '50': 922, 'flat': 923, 'hair': 924, 'univers': 925, 'land': 926, 'danger': 927, 'kick': 928, 'scott': 929, 'fairli': 930, 'player': 931, 'step': 932, 'plain': 933, 'crew': 934, 'toni': 935, 'share': 936, 'tast': 937, 'centuri': 938, 'engag': 939, 'achiev': 940, 'cold': 941, 'travel': 942, 'record': 943, 'rip': 944, 'suit': 945, 'sadli': 946, 'manner': 947, 'tension': 948, 'spot': 949, 'wrote': 950, 'fascin': 951, 'intens': 952, 'familiar': 953, 'remark': 954, 'depth': 955, 'burn': 956, 'destroy': 957, 'histor': 958, 'sleep': 959, 'purpos': 960, 'languag': 961, 'ruin': 962, 'ignor': 963, 'delight': 964, 'italian': 965, 'unbeliev': 966, 'abil': 967, 'collect': 968, 'soul': 969, 'clever': 970, 'detect': 971, 'violent': 972, 'rape': 973, 'reach': 974, 'door': 975, 'liter': 976, 'trash': 977, 'scienc': 978, 'caught': 979, 'commun': 980, 'reveng': 981, 'creatur': 982, 'trip': 983, 'approach': 984, 'intrigu': 985, 'fashion': 986, 'introduc': 987, 'paint': 988, 'skill': 989, 'channel': 990, 'complex': 991, 'camp': 992, 'christian': 993, 'hole': 994, 'extra': 995, 'immedi': 996, 'ann': 997, 'mental': 998, 'limit': 999, 'slightli': 1000, 'mere': 1001, 'million': 1002, 'comput': 1003, '6': 1004, 'conclus': 1005, 'slasher': 1006, 'suddenli': 1007, 'imposs': 1008, 'crimin': 1009, 'teen': 1010, 'neither': 1011, 'physic': 1012, 'spent': 1013, 'nation': 1014, 'respons': 1015, 'planet': 1016, 'receiv': 1017, 'fake': 1018, 'sick': 1019, 'blue': 1020, 'bizarr': 1021, 'embarrass': 1022, 'indian': 1023, '15': 1024, 'ring': 1025, 'pop': 1026, 'drop': 1027, 'drag': 1028, 'haunt': 1029, 'suspect': 1030, 'pointless': 1031, 'edg': 1032, 'search': 1033, 'handl': 1034, 'biggest': 1035, 'common': 1036, 'arriv': 1037, 'hurt': 1038, 'faith': 1039, 'technic': 1040, 'angel': 1041, 'dad': 1042, 'genuin': 1043, 'awesom': 1044, 'solid': 1045, 'f': 1046, 'van': 1047, 'focu': 1048, 'colleg': 1049, 'former': 1050, 'count': 1051, 'heavi': 1052, 'tear': 1053, 'rais': 1054, 'wall': 1055, 'younger': 1056, 'visit': 1057, 'laughabl': 1058, 'excus': 1059, 'fair': 1060, 'sign': 1061, 'cult': 1062, 'motion': 1063, 'key': 1064, 'tough': 1065, 'desir': 1066, 'super': 1067, 'stun': 1068, 'addit': 1069, 'cloth': 1070, 'exploit': 1071, 'tortur': 1072, 'smith': 1073, 'race': 1074, 'davi': 1075, 'author': 1076, 'cross': 1077, 'jim': 1078, 'consist': 1079, 'compel': 1080, 'focus': 1081, 'minor': 1082, 'chemistri': 1083, 'pathet': 1084, 'commit': 1085, 'park': 1086, 'obsess': 1087, 'frank': 1088, 'tradit': 1089, 'grade': 1090, '60': 1091, 'asid': 1092, 'brutal': 1093, 'steve': 1094, 'somewher': 1095, 'rule': 1096, 'opportun': 1097, 'u': 1098, 'grant': 1099, 'explor': 1100, 'depress': 1101, 'honest': 1102, 'besid': 1103, 'anti': 1104, 'dub': 1105, 'intend': 1106, 'trailer': 1107, 'bar': 1108, 'scientist': 1109, 'longer': 1110, 'west': 1111, 'regard': 1112, 'decad': 1113, 'judg': 1114, 'silent': 1115, 'creativ': 1116, 'armi': 1117, 'wild': 1118, 'south': 1119, 'stewart': 1120, 'g': 1121, 'draw': 1122, 'road': 1123, 'govern': 1124, 'ex': 1125, 'boss': 1126, 'practic': 1127, 'gang': 1128, 'motiv': 1129, 'festiv': 1130, 'club': 1131, 'surprisingli': 1132, 'green': 1133, 'page': 1134, 'redeem': 1135, 'london': 1136, 'idiot': 1137, 'aliv': 1138, 'machin': 1139, 'display': 1140, 'militari': 1141, 'thrill': 1142, 'repeat': 1143, '100': 1144, 'yeah': 1145, 'folk': 1146, 'nobodi': 1147, '40': 1148, 'journey': 1149, 'garbag': 1150, 'smile': 1151, 'tire': 1152, 'ground': 1153, 'bought': 1154, 'mood': 1155, 'cost': 1156, 'stone': 1157, 'sam': 1158, 'mouth': 1159, 'noir': 1160, 'terrif': 1161, 'agent': 1162, 'utterli': 1163, 'requir': 1164, 'honestli': 1165, 'area': 1166, 'sexi': 1167, 'geniu': 1168, 'report': 1169, 'humour': 1170, 'glad': 1171, 'investig': 1172, 'enter': 1173, 'serial': 1174, 'passion': 1175, 'occasion': 1176, 'narr': 1177, 'marriag': 1178, 'climax': 1179, 'industri': 1180, 'studi': 1181, 'ship': 1182, 'charli': 1183, 'nowher': 1184, 'demon': 1185, 'center': 1186, 'loos': 1187, 'bear': 1188, 'hors': 1189, 'hang': 1190, 'wow': 1191, 'graphic': 1192, 'giant': 1193, 'admir': 1194, 'send': 1195, 'damn': 1196, 'loud': 1197, 'nake': 1198, 'profession': 1199, 'rel': 1200, 'subtl': 1201, 'blow': 1202, 'bottom': 1203, 'insult': 1204, 'batman': 1205, 'boyfriend': 1206, 'doubl': 1207, 'r': 1208, 'kelli': 1209, 'initi': 1210, 'frame': 1211, 'gem': 1212, 'opera': 1213, 'church': 1214, 'challeng': 1215, 'affect': 1216, 'cinemat': 1217, 'drawn': 1218, 'j': 1219, 'fulli': 1220, 'evid': 1221, 'l': 1222, 'seek': 1223, 'nightmar': 1224, 'essenti': 1225, 'conflict': 1226, 'arm': 1227, 'wind': 1228, 'henri': 1229, 'grace': 1230, 'christoph': 1231, 'narrat': 1232, 'assum': 1233, 'witch': 1234, 'push': 1235, 'hunt': 1236, 'chri': 1237, 'wise': 1238, 'nomin': 1239, 'month': 1240, 'repres': 1241, 'sceneri': 1242, 'hide': 1243, 'affair': 1244, 'avail': 1245, 'smart': 1246, 'thu': 1247, 'justic': 1248, 'bond': 1249, 'outstand': 1250, 'flashback': 1251, 'interview': 1252, 'constantli': 1253, 'presenc': 1254, 'satisfi': 1255, 'bed': 1256, 'central': 1257, 'sell': 1258, 'content': 1259, 'iron': 1260, 'gag': 1261, 'everybodi': 1262, 'slowli': 1263, 'hotel': 1264, 'hire': 1265, 'system': 1266, 'hey': 1267, 'thrown': 1268, 'adam': 1269, 'charl': 1270, 'individu': 1271, 'mediocr': 1272, 'jone': 1273, 'allen': 1274, 'lesson': 1275, 'ray': 1276, 'billi': 1277, 'photographi': 1278, 'cameo': 1279, 'fellow': 1280, 'pari': 1281, 'strike': 1282, 'brief': 1283, 'independ': 1284, 'rise': 1285, 'absurd': 1286, 'neg': 1287, 'impact': 1288, 'phone': 1289, 'born': 1290, 'model': 1291, 'ill': 1292, 'fresh': 1293, 'spoil': 1294, 'angl': 1295, 'likabl': 1296, 'abus': 1297, 'discuss': 1298, 'hill': 1299, 'sight': 1300, 'ahead': 1301, 'photograph': 1302, 'sent': 1303, 'shine': 1304, 'blame': 1305, 'logic': 1306, 'occur': 1307, 'mainli': 1308, 'bruce': 1309, 'commerci': 1310, 'forev': 1311, 'skip': 1312, 'teacher': 1313, 'segment': 1314, 'surround': 1315, 'held': 1316, 'zero': 1317, 'blond': 1318, 'trap': 1319, 'summer': 1320, 'resembl': 1321, 'satir': 1322, 'six': 1323, 'ball': 1324, 'queen': 1325, 'fool': 1326, 'sub': 1327, 'twice': 1328, 'tragedi': 1329, 'reaction': 1330, 'pack': 1331, 'bomb': 1332, 'protagonist': 1333, 'will': 1334, 'hospit': 1335, 'sport': 1336, 'mile': 1337, 'jerri': 1338, 'drink': 1339, 'trust': 1340, 'vote': 1341, 'mom': 1342, 'encount': 1343, 'plane': 1344, 'station': 1345, 'al': 1346, 'current': 1347, 'program': 1348, 'martin': 1349, 'celebr': 1350, 'choos': 1351, 'join': 1352, 'field': 1353, 'favourit': 1354, 'round': 1355, 'lord': 1356, 'tragic': 1357, 'vision': 1358, 'robot': 1359, 'jean': 1360, 'arthur': 1361, 'tie': 1362, 'random': 1363, 'roger': 1364, 'fortun': 1365, 'psycholog': 1366, 'dread': 1367, 'intern': 1368, 'nonsens': 1369, 'improv': 1370, 'prefer': 1371, 'epic': 1372, 'highlight': 1373, 'formula': 1374, 'pleasur': 1375, 'legend': 1376, 'tape': 1377, 'dollar': 1378, '11': 1379, 'fox': 1380, 'thin': 1381, 'wide': 1382, 'porn': 1383, 'object': 1384, 'gorgeou': 1385, 'influenc': 1386, 'buddi': 1387, 'ugli': 1388, 'ii': 1389, 'nasti': 1390, 'prepar': 1391, 'progress': 1392, 'reflect': 1393, 'supposedli': 1394, 'warm': 1395, 'youth': 1396, 'worthi': 1397, 'length': 1398, 'latter': 1399, 'unusu': 1400, 'crash': 1401, 'childhood': 1402, 'shop': 1403, 'superior': 1404, 'seven': 1405, 'remot': 1406, 'theatr': 1407, 'funniest': 1408, 'pilot': 1409, 'paid': 1410, 'disgust': 1411, 'trick': 1412, 'fell': 1413, 'convers': 1414, 'castl': 1415, 'gangster': 1416, 'establish': 1417, 'disast': 1418, 'rob': 1419, 'heaven': 1420, 'mine': 1421, 'disappear': 1422, 'ident': 1423, 'suicid': 1424, 'singer': 1425, 'forgotten': 1426, 'decis': 1427, 'mask': 1428, 'tend': 1429, 'heroin': 1430, 'partner': 1431, 'brian': 1432, 'desert': 1433, 'alan': 1434, 'recogn': 1435, 'p': 1436, 'thoroughli': 1437, 'sky': 1438, 'stuck': 1439, 'ms': 1440, 'accur': 1441, 'replac': 1442, 'market': 1443, 'uncl': 1444, 'clue': 1445, 'commentari': 1446, 'seemingli': 1447, 'andi': 1448, 'eddi': 1449, 'danni': 1450, 'jackson': 1451, 'devil': 1452, 'pair': 1453, 'that': 1454, 'refus': 1455, 'therefor': 1456, 'river': 1457, 'fault': 1458, 'ed': 1459, 'unit': 1460, 'accid': 1461, 'fate': 1462, 'tune': 1463, 'afraid': 1464, 'stephen': 1465, 'hidden': 1466, 'clean': 1467, 'russian': 1468, 'instanc': 1469, 'irrit': 1470, 'readi': 1471, 'quick': 1472, 'test': 1473, 'convey': 1474, 'captain': 1475, 'european': 1476, 'daniel': 1477, 'insan': 1478, 'frustrat': 1479, 'food': 1480, 'rescu': 1481, 'wed': 1482, '1950': 1483, 'chines': 1484, 'angri': 1485, 'dirti': 1486, 'lock': 1487, 'joy': 1488, 'steven': 1489, 'price': 1490, 'cage': 1491, 'bland': 1492, 'rang': 1493, 'anymor': 1494, 'wooden': 1495, 'n': 1496, 'rush': 1497, 'jason': 1498, 'news': 1499, 'board': 1500, '12': 1501, 'worri': 1502, 'twenti': 1503, 'martial': 1504, 'led': 1505, 'cgi': 1506, 'symbol': 1507, 'transform': 1508, 'hunter': 1509, 'invent': 1510, 'x': 1511, 'onto': 1512, 'piti': 1513, 'sentiment': 1514, 'johnni': 1515, 'attitud': 1516, 'explan': 1517, 'process': 1518, 'owner': 1519, 'awar': 1520, 'aim': 1521, 'favor': 1522, 'target': 1523, 'necessari': 1524, 'energi': 1525, 'floor': 1526, 'opposit': 1527, 'religi': 1528, 'chick': 1529, 'window': 1530, 'blind': 1531, 'insight': 1532, 'movement': 1533, 'mountain': 1534, 'comparison': 1535, 'research': 1536, 'deepli': 1537, 'possess': 1538, 'whatsoev': 1539, 'rain': 1540, 'grand': 1541, 'comed': 1542, 'shadow': 1543, 'bank': 1544, 'mid': 1545, 'began': 1546, 'parodi': 1547, 'princ': 1548, 'credibl': 1549, 'friendship': 1550, 'pre': 1551, 'taylor': 1552, 'weapon': 1553, 'teach': 1554, 'flesh': 1555, 'dougla': 1556, 'hint': 1557, 'terror': 1558, 'bloodi': 1559, 'protect': 1560, 'marvel': 1561, 'accord': 1562, 'anybodi': 1563, 'watchabl': 1564, 'load': 1565, 'drunk': 1566, 'superman': 1567, 'leader': 1568, 'brown': 1569, 'freddi': 1570, 'jeff': 1571, 'appropri': 1572, 'seat': 1573, 'hitler': 1574, 'tim': 1575, 'charg': 1576, 'knock': 1577, 'unknown': 1578, 'keaton': 1579, 'villag': 1580, 'empti': 1581, 'enemi': 1582, 'unnecessari': 1583, 'england': 1584, 'media': 1585, 'wave': 1586, 'strength': 1587, 'craft': 1588, 'buck': 1589, 'perspect': 1590, 'dare': 1591, 'utter': 1592, 'nativ': 1593, 'contrast': 1594, 'ford': 1595, 'correct': 1596, 'kiss': 1597, 'magnific': 1598, 'anywher': 1599, 'chill': 1600, 'distract': 1601, 'soap': 1602, 'speed': 1603, 'knowledg': 1604, 'nazi': 1605, 'mission': 1606, 'ice': 1607, 'breath': 1608, '1980': 1609, 'fred': 1610, 'jr': 1611, 'moon': 1612, 'joan': 1613, 'crowd': 1614, 'kate': 1615, 'frighten': 1616, 'soft': 1617, '000': 1618, 'dan': 1619, 'hundr': 1620, 'nick': 1621, 'dick': 1622, 'radio': 1623, 'dozen': 1624, 'somebodi': 1625, 'simon': 1626, 'andrew': 1627, 'loss': 1628, 'shakespear': 1629, 'academi': 1630, 'thousand': 1631, 'account': 1632, 'sum': 1633, 'quot': 1634, 'vehicl': 1635, 'root': 1636, 'convent': 1637, 'leg': 1638, 'behavior': 1639, '1970': 1640, 'regular': 1641, 'gold': 1642, 'pretenti': 1643, 'compet': 1644, 'demand': 1645, 'worker': 1646, 'interpret': 1647, 'stretch': 1648, 'notabl': 1649, 'privat': 1650, 'candi': 1651, 'japan': 1652, 'explos': 1653, 'lynch': 1654, 'constant': 1655, 'debut': 1656, 'tarzan': 1657, 'sea': 1658, 'translat': 1659, 'spi': 1660, 'prais': 1661, 'revolv': 1662, 'quiet': 1663, 'ass': 1664, 'sat': 1665, 'jesu': 1666, 'failur': 1667, 'technolog': 1668, 'franc': 1669, 'threaten': 1670, 'kevin': 1671, 'toy': 1672, 'punch': 1673, 'met': 1674, 'higher': 1675, 'aid': 1676, 'mike': 1677, 'abandon': 1678, 'vh': 1679, 'interact': 1680, 'command': 1681, 'confront': 1682, 'separ': 1683, 'bet': 1684, 'recal': 1685, 'gotten': 1686, 'servic': 1687, 'techniqu': 1688, 'stunt': 1689, 'belong': 1690, 'site': 1691, 'freak': 1692, 'cabl': 1693, 'bug': 1694, 'foot': 1695, 'jimmi': 1696, 'capabl': 1697, 'fu': 1698, 'bright': 1699, 'african': 1700, 'boat': 1701, 'fat': 1702, 'succeed': 1703, 'stock': 1704, 'presid': 1705, 'clark': 1706, 'spanish': 1707, 'gene': 1708, 'structur': 1709, 'paper': 1710, 'kidnap': 1711, 'whilst': 1712, 'belief': 1713, 'factor': 1714, 'tree': 1715, 'bob': 1716, 'complic': 1717, 'educ': 1718, 'witti': 1719, 'attend': 1720, 'realis': 1721, 'realism': 1722, 'finest': 1723, 'broken': 1724, 'assist': 1725, 'santa': 1726, 'determin': 1727, 'depart': 1728, 'observ': 1729, 'smoke': 1730, 'up': 1731, 'v': 1732, 'domin': 1733, 'routin': 1734, 'rubbish': 1735, 'hat': 1736, 'fame': 1737, 'oper': 1738, 'lewi': 1739, 'kinda': 1740, 'morgan': 1741, 'foreign': 1742, 'hook': 1743, 'advanc': 1744, 'safe': 1745, 'lone': 1746, 'rank': 1747, 'numer': 1748, 'civil': 1749, 'rose': 1750, 'shape': 1751, 'shallow': 1752, 'werewolf': 1753, 'vs': 1754, 'washington': 1755, 'morn': 1756, 'gari': 1757, 'ordinari': 1758, 'winner': 1759, 'kong': 1760, 'accomplish': 1761, 'peac': 1762, 'virtual': 1763, 'whenev': 1764, 'grab': 1765, 'h': 1766, 'luck': 1767, 'offens': 1768, 'bigger': 1769, 'patient': 1770, 'contriv': 1771, 'complain': 1772, 'activ': 1773, 'welcom': 1774, 'unfunni': 1775, 'dimension': 1776, 'con': 1777, 'pretend': 1778, 'trek': 1779, 'cain': 1780, 'lesbian': 1781, 'code': 1782, 'dri': 1783, 'flash': 1784, 'wake': 1785, 'eric': 1786, 'statu': 1787, 'manipul': 1788, 'albert': 1789, 'dancer': 1790, 'corrupt': 1791, 'guard': 1792, 'gain': 1793, 'sourc': 1794, 'signific': 1795, 'speech': 1796, 'context': 1797, 'awkward': 1798, 'clip': 1799, 'anthoni': 1800, 'corni': 1801, 'sean': 1802, '13': 1803, 'psycho': 1804, 'reli': 1805, 'w': 1806, 'curiou': 1807, 'priest': 1808, 'advic': 1809, 'theatric': 1810, 'religion': 1811, 'flow': 1812, 'addict': 1813, 'specif': 1814, 'howard': 1815, 'skin': 1816, 'jennif': 1817, 'asian': 1818, 'secur': 1819, 'golden': 1820, 'promot': 1821, 'luke': 1822, 'core': 1823, 'organ': 1824, 'comfort': 1825, 'cheat': 1826, 'lucki': 1827, 'cash': 1828, 'dislik': 1829, 'associ': 1830, 'lower': 1831, 'frankli': 1832, 'regret': 1833, 'balanc': 1834, 'spell': 1835, 'frequent': 1836, 'degre': 1837, 'devic': 1838, 'wing': 1839, 'contribut': 1840, 'sake': 1841, 'print': 1842, 'lake': 1843, 'forgiv': 1844, 'mass': 1845, 'betti': 1846, 'thoma': 1847, 'unexpect': 1848, 'gordon': 1849, 'crack': 1850, 'amateur': 1851, 'categori': 1852, 'grown': 1853, 'unfold': 1854, 'invit': 1855, 'depend': 1856, 'construct': 1857, 'matur': 1858, 'grew': 1859, 'condit': 1860, 'honor': 1861, 'walter': 1862, 'anna': 1863, 'intellectu': 1864, 'sole': 1865, 'mirror': 1866, 'spectacular': 1867, 'sudden': 1868, 'veteran': 1869, 'meanwhil': 1870, 'overli': 1871, 'robin': 1872, 'grip': 1873, 'card': 1874, 'demonstr': 1875, 'gift': 1876, 'liner': 1877, 'experienc': 1878, 'freedom': 1879, 'brilliantli': 1880, 'unabl': 1881, 'subtitl': 1882, 'circumst': 1883, 'section': 1884, 'theori': 1885, 'sheriff': 1886, 'crappi': 1887, 'colour': 1888, 'drew': 1889, 'oliv': 1890, 'cook': 1891, 'matt': 1892, 'sheer': 1893, 'altern': 1894, 'laughter': 1895, 'path': 1896, 'parker': 1897, 'pile': 1898, 'accident': 1899, 'hall': 1900, 'lawyer': 1901, 'treatment': 1902, 'defin': 1903, 'relief': 1904, 'wander': 1905, 'sinatra': 1906, 'dragon': 1907, 'captiv': 1908, 'hank': 1909, 'gratuit': 1910, 'halloween': 1911, 'moor': 1912, 'unintent': 1913, 'wound': 1914, 'wayn': 1915, 'kung': 1916, 'cowboy': 1917, 'barbara': 1918, 'jacki': 1919, 'k': 1920, 'broadway': 1921, 'canadian': 1922, 'surreal': 1923, 'statement': 1924, 'spoof': 1925, 'winter': 1926, 'treasur': 1927, 'compos': 1928, 'gonna': 1929, 'fish': 1930, 'fare': 1931, 'cheer': 1932, 'emerg': 1933, 'victor': 1934, 'unrealist': 1935, 'sensit': 1936, 'woodi': 1937, 'sympathet': 1938, 'driven': 1939, 'neighbor': 1940, 'ran': 1941, 'glass': 1942, 'overlook': 1943, 'menac': 1944, 'authent': 1945, 'expos': 1946, 'topic': 1947, 'gross': 1948, 'ancient': 1949, 'handsom': 1950, 'chief': 1951, 'michel': 1952, 'feet': 1953, 'nevertheless': 1954, 'russel': 1955, 'cinderella': 1956, 'comedian': 1957, 'contemporari': 1958, 'stranger': 1959, 'built': 1960, 'network': 1961, 'pleasant': 1962, 'underr': 1963, 'miser': 1964, 'gori': 1965, 'consider': 1966, 'blockbust': 1967, 'endless': 1968, 'earn': 1969, 'letter': 1970, 'switch': 1971, 'brook': 1972, 'solv': 1973, 'bullet': 1974, 'victoria': 1975, 'edward': 1976, 'convict': 1977, 'joseph': 1978, 'virgin': 1979, 'scale': 1980, 'alex': 1981, 'cynic': 1982, '0': 1983, 'scenario': 1984, 'chosen': 1985, 'sword': 1986, 'curs': 1987, 'gut': 1988, 'com': 1989, 'outrag': 1990, 'substanc': 1991, 'juli': 1992, 'proper': 1993, 'wrap': 1994, 'monkey': 1995, 'uk': 1996, 'driver': 1997, 'screenwrit': 1998, 'par': 1999, 'remov': 2000, 'indic': 2001, 'bird': 2002, 'court': 2003, 'rental': 2004, 'consequ': 2005, 'loser': 2006, 'roy': 2007, 'grave': 2008, 'naiv': 2009, 'nanci': 2010, 'inevit': 2011, 'advertis': 2012, 'fatal': 2013, 'brave': 2014, 'slap': 2015, 'le': 2016, 'bridg': 2017, 'germani': 2018, 'invis': 2019, 'loui': 2020, 'ador': 2021, 'footbal': 2022, 'anger': 2023, 'provok': 2024, 'alcohol': 2025, 'anderson': 2026, 'chan': 2027, 'professor': 2028, 'stumbl': 2029, 'willi': 2030, 'ryan': 2031, '1930': 2032, 'assassin': 2033, 'sharp': 2034, 'patrick': 2035, 'bat': 2036, 'australian': 2037, 'cell': 2038, 'lousi': 2039, 'trilog': 2040, 'refresh': 2041, 'heck': 2042, 'amateurish': 2043, 'eight': 2044, 'deni': 2045, 'strongli': 2046, 'saturday': 2047, 'ape': 2048, 'liber': 2049, 'sin': 2050, 'vagu': 2051, 'resid': 2052, 'san': 2053, 'justifi': 2054, 'defeat': 2055, 'reput': 2056, 'mini': 2057, 'indi': 2058, 'creator': 2059, 'sympathi': 2060, 'terrifi': 2061, 'expert': 2062, 'endur': 2063, 'tabl': 2064, 'tediou': 2065, 'task': 2066, 'prevent': 2067, 'imit': 2068, 'basebal': 2069, 'rival': 2070, 'employ': 2071, 'trial': 2072, 'offend': 2073, 'che': 2074, 'max': 2075, 'dig': 2076, 'pitch': 2077, 'fairi': 2078, 'complaint': 2079, 'europ': 2080, 'weekend': 2081, 'beach': 2082, 'format': 2083, 'purchas': 2084, 'risk': 2085, 'murphi': 2086, 'reminisc': 2087, 'nois': 2088, 'powel': 2089, 'tini': 2090, 'bite': 2091, 'harsh': 2092, 'glimps': 2093, 'titan': 2094, 'hype': 2095, 'till': 2096, 'strip': 2097, 'asleep': 2098, 'prime': 2099, 'fals': 2100, 'north': 2101, '14': 2102, 'destruct': 2103, 'revel': 2104, 'texa': 2105, 'descript': 2106, 'africa': 2107, 'uninterest': 2108, 'spin': 2109, 'excess': 2110, 'semi': 2111, 'sitcom': 2112, 'arrest': 2113, 'surfac': 2114, 'inner': 2115, 'dinosaur': 2116, 'massiv': 2117, 'makeup': 2118, 'argu': 2119, 'hitchcock': 2120, 'maintain': 2121, 'controversi': 2122, 'twin': 2123, 'insist': 2124, 'kim': 2125, 'stare': 2126, 'melodrama': 2127, 'expens': 2128, 'reject': 2129, 'ideal': 2130, 'ludicr': 2131, 'forest': 2132, 'atroci': 2133, 'supernatur': 2134, 'press': 2135, 'host': 2136, 'subplot': 2137, 'nail': 2138, 'ga': 2139, 'ala': 2140, 'erot': 2141, 'columbo': 2142, 'cant': 2143, 'presum': 2144, 'notch': 2145, 'dude': 2146, 'identifi': 2147, 'character': 2148, 'guest': 2149, 'closer': 2150, 'forgett': 2151, 'crude': 2152, 'plagu': 2153, 'method': 2154, 'landscap': 2155, 'foster': 2156, 'lion': 2157, 'border': 2158, 'beast': 2159, 'ear': 2160, 'princess': 2161, 'bound': 2162, 'aunt': 2163, 'pacino': 2164, 'accus': 2165, 'storytel': 2166, 'damag': 2167, 'urban': 2168, 'birth': 2169, 'previous': 2170, 'jungl': 2171, 'guid': 2172, 'chose': 2173, 'nude': 2174, 'thirti': 2175, 'doll': 2176, 'emma': 2177, 'propaganda': 2178, 'jess': 2179, 'pet': 2180, 'whoever': 2181, 'mainstream': 2182, 'mate': 2183, 'warrior': 2184, '25': 2185, 'gritti': 2186, 'exact': 2187, 'size': 2188, 'latest': 2189, 'friday': 2190, 'upset': 2191, 'deadli': 2192, 'merit': 2193, 'poster': 2194, 'cooper': 2195, 'rough': 2196, 'warner': 2197, 'ton': 2198, 'contact': 2199, 'wilson': 2200, 'blend': 2201, 'buff': 2202, 'contest': 2203, 'settl': 2204, 'citizen': 2205, 'popul': 2206, '1990': 2207, 'corps': 2208, 'sun': 2209, 'select': 2210, 'environ': 2211, 'alic': 2212, 'pitt': 2213, 'widow': 2214, 'overcom': 2215, 'rat': 2216, 'mgm': 2217, 'bu': 2218, 'metal': 2219, 'guilti': 2220, 'lift': 2221, 'particip': 2222, 'ted': 2223, 'revolut': 2224, 'link': 2225, 'exagger': 2226, 'accompani': 2227, 'matrix': 2228, 'moron': 2229, '1960': 2230, 'johnson': 2231, 'corpor': 2232, 'prostitut': 2233, 'afternoon': 2234, 'corner': 2235, 'hood': 2236, 'doom': 2237, 'leagu': 2238, 'holm': 2239, 'instal': 2240, 'multipl': 2241, 'sincer': 2242, 'friendli': 2243, 'clair': 2244, 'campi': 2245, 'blah': 2246, 'grim': 2247, 'junk': 2248, 'lugosi': 2249, 'advis': 2250, 'string': 2251, 'hip': 2252, 'aka': 2253, 'sunday': 2254, 'irish': 2255, 'defend': 2256, 'examin': 2257, 'confid': 2258, 'shake': 2259, 'tight': 2260, 'rachel': 2261, 'pro': 2262, 'varieti': 2263, 'icon': 2264, 'shut': 2265, 'goal': 2266, 'attach': 2267, 'jaw': 2268, 'denni': 2269, 'medic': 2270, 'directli': 2271, 'mexican': 2272, 'sullivan': 2273, 'dean': 2274, 'breast': 2275, 'vietnam': 2276, 'legendari': 2277, 'sentenc': 2278, 'bourn': 2279, 'courag': 2280, 'terrorist': 2281, 'truck': 2282, 'prior': 2283, 'duke': 2284, 'sarah': 2285, 'donald': 2286, 'yell': 2287, 'nose': 2288, 'split': 2289, 'entri': 2290, 'behav': 2291, 'proceed': 2292, 'un': 2293, 'hong': 2294, 'borrow': 2295, 'buri': 2296, 'unconvinc': 2297, 'jerk': 2298, 'everywher': 2299, 'forth': 2300, 'gather': 2301, 'confess': 2302, 'concentr': 2303, 'lifetim': 2304, 'stolen': 2305, 'swim': 2306, 'crush': 2307, 'spite': 2308, 'lip': 2309, 'turkey': 2310, 'pan': 2311, 'california': 2312, 'deliveri': 2313, 'julia': 2314, 'proud': 2315, 'hoffman': 2316, 'reward': 2317, 'offici': 2318, 'freeman': 2319, 'china': 2320, 'downright': 2321, 'flight': 2322, 'quest': 2323, 'sir': 2324, 'lazi': 2325, 'inept': 2326, 'jon': 2327, 'fabul': 2328, 'fade': 2329, 'notori': 2330, 'betray': 2331, 'encourag': 2332, 'worthwhil': 2333, 'jail': 2334, 'sink': 2335, 'teeth': 2336, 'cousin': 2337, 'imageri': 2338, 'survivor': 2339, 'shower': 2340, 'bell': 2341, 'relev': 2342, 'lisa': 2343, 'susan': 2344, 'bag': 2345, 'storm': 2346, 'retard': 2347, 'branagh': 2348, 'summari': 2349, 'facial': 2350, 'quirki': 2351, 'shark': 2352, 'bride': 2353, 'toler': 2354, 'tremend': 2355, 'hugh': 2356, 'mexico': 2357, 'stab': 2358, 'trade': 2359, 'finger': 2360, 'alright': 2361, 'von': 2362, 'ha': 2363, 'pose': 2364, 'hyster': 2365, 'bitter': 2366, 'blown': 2367, 'afterward': 2368, 'larri': 2369, 'address': 2370, 'ned': 2371, 'scheme': 2372, 'christ': 2373, 'ron': 2374, 'cruel': 2375, 'bone': 2376, 'screw': 2377, 'feed': 2378, 'swear': 2379, 'distinct': 2380, 'thumb': 2381, 'beg': 2382, 'snake': 2383, 'pursu': 2384, 'tour': 2385, 'traci': 2386, 'stomach': 2387, 'raw': 2388, 'photo': 2389, 'mechan': 2390, 'obscur': 2391, 'occas': 2392, 'chair': 2393, 'hardi': 2394, 'argument': 2395, 'necessarili': 2396, 'cabin': 2397, 'chain': 2398, 'southern': 2399, 'render': 2400, 'heavili': 2401, 'gruesom': 2402, 'resist': 2403, 'holiday': 2404, 'sidney': 2405, 'india': 2406, 'racist': 2407, 'philip': 2408, 'understood': 2409, 'indulg': 2410, 'satan': 2411, 'lay': 2412, 'tongu': 2413, 'belov': 2414, 'stalk': 2415, 'pregnant': 2416, 'outfit': 2417, 'forgot': 2418, 'integr': 2419, 'midnight': 2420, 'obnoxi': 2421, 'fourth': 2422, 'inhabit': 2423, 'ticket': 2424, 'magazin': 2425, 'deeper': 2426, 'garden': 2427, 'slapstick': 2428, 'restor': 2429, '17': 2430, 'carol': 2431, 'incid': 2432, 'devot': 2433, 'brad': 2434, 'lincoln': 2435, 'shoe': 2436, 'guarante': 2437, 'elizabeth': 2438, 'disbelief': 2439, 'divorc': 2440, 'lili': 2441, 'underground': 2442, 'anticip': 2443, 'maria': 2444, 'benefit': 2445, 'sandler': 2446, 'slave': 2447, 'princip': 2448, 'capit': 2449, 'amazingli': 2450, 'mildli': 2451, 'bbc': 2452, 'creation': 2453, 'explod': 2454, 'cring': 2455, 'greater': 2456, 'funnier': 2457, 'lesli': 2458, 'halfway': 2459, 'extraordinari': 2460, 'introduct': 2461, 'tap': 2462, 'punish': 2463, 'transfer': 2464, 'extent': 2465, 'advantag': 2466, 'text': 2467, 'enhanc': 2468, 'wreck': 2469, 'overwhelm': 2470, 'dynam': 2471, 'horrif': 2472, 'error': 2473, 'preview': 2474, 'deliber': 2475, 'jessica': 2476, 'plant': 2477, 'lo': 2478, 'east': 2479, 'lane': 2480, 'vacat': 2481, 'homosexu': 2482, 'ensu': 2483, 'vincent': 2484, 'basi': 2485, 'miller': 2486, 'miscast': 2487, 'sophist': 2488, 'appli': 2489, '2000': 2490, 'bollywood': 2491, 'extend': 2492, 'mansion': 2493, 'elev': 2494, 'spoken': 2495, 'via': 2496, 'uncomfort': 2497, 'steel': 2498, 'reed': 2499, 'measur': 2500, 'sleazi': 2501, 'conceiv': 2502, 'dentist': 2503, 'cathol': 2504, 'beer': 2505, 'fix': 2506, 'stanley': 2507, 'alter': 2508, 'overact': 2509, 'goofi': 2510, 'hippi': 2511, 'blair': 2512, 'savag': 2513, 'mous': 2514, 'daili': 2515, 'breathtak': 2516, 'melt': 2517, 'assign': 2518, 'subsequ': 2519, 'burt': 2520, 'succe': 2521, 'carpent': 2522, 'oppos': 2523, 'inspector': 2524, 'nowaday': 2525, 'sacrific': 2526, 'properli': 2527, 'everyday': 2528, 'block': 2529, 'laura': 2530, 'neck': 2531, 'circl': 2532, 'massacr': 2533, 'concert': 2534, 'pool': 2535, 'mob': 2536, 'fay': 2537, 'portrait': 2538, 'access': 2539, 'seagal': 2540, 'fallen': 2541, 'lesser': 2542, 'christi': 2543, 'grey': 2544, 'relax': 2545, 'sinist': 2546, 'chees': 2547, 'usa': 2548, 'isol': 2549, 'jake': 2550, 'competit': 2551, 'react': 2552, 'jewish': 2553, 'nonetheless': 2554, 'stink': 2555, 'spiritu': 2556, 'lyric': 2557, 'immens': 2558, 'suitabl': 2559, 'chop': 2560, '2006': 2561, 'creep': 2562, 'ironi': 2563, 'nine': 2564, 'appal': 2565, 'needless': 2566, 'reduc': 2567, 'sold': 2568, 'user': 2569, 'shirt': 2570, 'adopt': 2571, 'rage': 2572, 'franchis': 2573, 'navi': 2574, 'showcas': 2575, 'luci': 2576, 'retir': 2577, 'spring': 2578, 'nut': 2579, 'nurs': 2580, 'bulli': 2581, 'zone': 2582, 'digit': 2583, 'jay': 2584, 'uninspir': 2585, 'asham': 2586, 'stanwyck': 2587, 'bath': 2588, 'per': 2589, '1940': 2590, 'sutherland': 2591, 'laid': 2592, 'illustr': 2593, 'amongst': 2594, 'broadcast': 2595, '2001': 2596, 'oddli': 2597, 'upper': 2598, 'stylish': 2599, 'throat': 2600, 'fulfil': 2601, 'aspir': 2602, 'disguis': 2603, 'brando': 2604, 'baker': 2605, 'pride': 2606, 'impli': 2607, 'endear': 2608, 'em': 2609, 'wanna': 2610, 'pound': 2611, 'neighborhood': 2612, 'nobl': 2613, '18': 2614, 'wwii': 2615, 'thief': 2616, 'dinner': 2617, 'prop': 2618, 'albeit': 2619, 'shift': 2620, 'dawn': 2621, 'tens': 2622, 'coher': 2623, 'bett': 2624, 'cinematograph': 2625, 'diseas': 2626, 'shoulder': 2627, '16': 2628, 'rochest': 2629, 'distribut': 2630, 'bo': 2631, 'poignant': 2632, 'shout': 2633, 'function': 2634, 'contract': 2635, 'matthau': 2636, 'rebel': 2637, 'wash': 2638, 'knife': 2639, 'silenc': 2640, 'snow': 2641, 'forti': 2642, 'surf': 2643, 'elvira': 2644, 'proof': 2645, 'instinct': 2646, 'eeri': 2647, 'horrend': 2648, 'cancel': 2649, 'height': 2650, 'chuck': 2651, 'duti': 2652, 'reunion': 2653, 'silver': 2654, 'heat': 2655, 'mindless': 2656, 'internet': 2657, 'henc': 2658, 'cannib': 2659, 'derek': 2660, 'widmark': 2661, 'innov': 2662, 'musician': 2663, 'pie': 2664, 'mill': 2665, 'torn': 2666, 'greatli': 2667, 'neat': 2668, 'elvi': 2669, 'alik': 2670, 'glori': 2671, 'absorb': 2672, 'etern': 2673, 'premier': 2674, 'incoher': 2675, 'repetit': 2676, 'spielberg': 2677, 'announc': 2678, 'crisi': 2679, 'britain': 2680, 'wealthi': 2681, 'homag': 2682, 'precis': 2683, 'redempt': 2684, 'trite': 2685, 'fbi': 2686, 'infam': 2687, 'racism': 2688, 'lovabl': 2689, 'diamond': 2690, 'itali': 2691, 'horrifi': 2692, 'nelson': 2693, 'burton': 2694, 'bang': 2695, 'blank': 2696, 'chaplin': 2697, 'resolut': 2698, 'hammer': 2699, 'parallel': 2700, 'flop': 2701, 'dedic': 2702, 'pat': 2703, 'happili': 2704, 'streisand': 2705, 'ensembl': 2706, 'helen': 2707, 'wilder': 2708, 'factori': 2709, 'st': 2710, 'conclud': 2711, 'triumph': 2712, 'oil': 2713, 'broke': 2714, 'mar': 2715, 'carter': 2716, 'disagre': 2717, 'cube': 2718, 'plastic': 2719, 'vega': 2720, 'row': 2721, 'chuckl': 2722, 'march': 2723, 'fighter': 2724, 'rocket': 2725, 'own': 2726, 'climb': 2727, 'weight': 2728, 'bush': 2729, 'boot': 2730, 'wherea': 2731, 'unforgett': 2732, 'lust': 2733, 'meaning': 2734, 'dane': 2735, 'sensibl': 2736, 'dump': 2737, 'thug': 2738, 'spare': 2739, 'enorm': 2740, 'luca': 2741, 'mst3k': 2742, 'kurt': 2743, 'engin': 2744, 'adequ': 2745, 'caricatur': 2746, 'threat': 2747, 'rap': 2748, 'bobbi': 2749, 'difficulti': 2750, 'arnold': 2751, 'brand': 2752, 'stress': 2753, 'karloff': 2754, 'butt': 2755, 'dear': 2756, 'fifti': 2757, 'elabor': 2758, 'flynn': 2759, 'ego': 2760, 'homeless': 2761, 'polish': 2762, 'journalist': 2763, 'ralph': 2764, 'fest': 2765, 'secretari': 2766, 'barri': 2767, 'arrog': 2768, 'swing': 2769, 'hamlet': 2770, 'induc': 2771, 'tool': 2772, 'arrang': 2773, 'float': 2774, 'spike': 2775, 'puppet': 2776, 'unbear': 2777, 'grate': 2778, 'fanci': 2779, 'simpson': 2780, 'conspiraci': 2781, 'resort': 2782, 'basement': 2783, 'phillip': 2784, 'guilt': 2785, 'exercis': 2786, 'cruis': 2787, 'choreograph': 2788, 'tribut': 2789, 'muppet': 2790, 'pig': 2791, 'boll': 2792, 'stan': 2793, 'editor': 2794, 'fianc': 2795, 'korean': 2796, '24': 2797, 'scarecrow': 2798, 'ward': 2799, 'slip': 2800, 'puzzl': 2801, 'tower': 2802, 'document': 2803, 'medium': 2804, 'toilet': 2805, 'item': 2806, 'babe': 2807, 'file': 2808, 'layer': 2809, 'ham': 2810, 'spark': 2811, 'assur': 2812, 'inexplic': 2813, 'philosoph': 2814, 'doc': 2815, 'librari': 2816, 'territori': 2817, 'persona': 2818, 'larger': 2819, 'orient': 2820, 'transit': 2821, 'slaughter': 2822, 'minim': 2823, 'catherin': 2824, 'superfici': 2825, 'glover': 2826, 'denzel': 2827, 'portion': 2828, 'jeremi': 2829, 'pg': 2830, 'owe': 2831, 'wolf': 2832, 'shi': 2833, 'ban': 2834, 'walken': 2835, 'jet': 2836, 'boredom': 2837, 'financi': 2838, 'curti': 2839, 'dorothi': 2840, 'sneak': 2841, 'backdrop': 2842, 'metaphor': 2843, 'eleph': 2844, 'ambigu': 2845, 'cusack': 2846, 'whale': 2847, 'multi': 2848, 'profound': 2849, 'hudson': 2850, 'elsewher': 2851, 'hack': 2852, 'birthday': 2853, 'rave': 2854, 'notion': 2855, 'viru': 2856, '2005': 2857, 'implaus': 2858, 'stiff': 2859, 'ultra': 2860, 'union': 2861, 'gadget': 2862, 'squar': 2863, '1st': 2864, 'lloyd': 2865, 'hawk': 2866, 'slight': 2867, 'afford': 2868, 'pad': 2869, 'bibl': 2870, 'poison': 2871, 'deriv': 2872, 'disc': 2873, 'reader': 2874, 'distanc': 2875, 'newspap': 2876, 'eastwood': 2877, 'superhero': 2878, 'urg': 2879, 'eva': 2880, 'canada': 2881, 'drown': 2882, 'huh': 2883, 'sadist': 2884, 'essenc': 2885, 'cure': 2886, 'button': 2887, 'charisma': 2888, 'spread': 2889, 'skit': 2890, 'montag': 2891, 'heston': 2892, 'health': 2893, 'restaur': 2894, 'godfath': 2895, 'invest': 2896, 'scoobi': 2897, 'dealt': 2898, 'fetch': 2899, 'companion': 2900, 'gradual': 2901, 'estat': 2902, 'muslim': 2903, 'peak': 2904, 'lab': 2905, 'maniac': 2906, 'alli': 2907, 'subtleti': 2908, 'countless': 2909, 'cup': 2910, 'tea': 2911, 'servant': 2912, 'kane': 2913, 'ritter': 2914, 'miik': 2915, 'gothic': 2916, 'salli': 2917, 'iii': 2918, 'electr': 2919, 'charismat': 2920, 'briefli': 2921, 'heroic': 2922, 'elect': 2923, 'toss': 2924, 'bud': 2925, 'nuanc': 2926, 'reel': 2927, 'grandmoth': 2928, 'wannab': 2929, 'admittedli': 2930, 'resourc': 2931, 'ingredi': 2932, 'tender': 2933, 'neil': 2934, 'cole': 2935, 'punk': 2936, 'kubrick': 2937, 'pauli': 2938, 'mafia': 2939, 'carrey': 2940, 'stronger': 2941, 'stood': 2942, 'shall': 2943, 'reev': 2944, 'dawson': 2945, 'poverti': 2946, 'mild': 2947, 'pit': 2948, 'label': 2949, 'gate': 2950, 'easier': 2951, 'cox': 2952, 'ian': 2953, 'updat': 2954, 'smooth': 2955, 'bakshi': 2956, 'outcom': 2957, 'fond': 2958, 'cardboard': 2959, 'burst': 2960, 'smash': 2961, 'tag': 2962, 'useless': 2963, 'astair': 2964, 'assault': 2965, 'terri': 2966, 'fist': 2967, 'divers': 2968, 'melodramat': 2969, 'resolv': 2970, 'vulner': 2971, 'vari': 2972, 'sketch': 2973, 'qualifi': 2974, 'increasingli': 2975, 'samurai': 2976, '2002': 2977, 'exchang': 2978, 'rex': 2979, 'coincid': 2980, 'luckili': 2981, 'insert': 2982, 'tame': 2983, 'suspend': 2984, 'blast': 2985, 'brillianc': 2986, 'reynold': 2987, 'be': 2988, 'scratch': 2989, 'conveni': 2990, 'templ': 2991, 'jami': 2992, 'hamilton': 2993, 'matthew': 2994, 'seventi': 2995, 'farm': 2996, 'pin': 2997, 'coach': 2998, 'ambiti': 2999, 'strictli': 3000, 'meat': 3001, 'fisher': 3002, 'walker': 3003, 'soprano': 3004, 'gotta': 3005, 'nuclear': 3006, 'eccentr': 3007, 'discoveri': 3008, 'butcher': 3009, 'struck': 3010, 'grasp': 3011, 'recreat': 3012, 'empir': 3013, 'joey': 3014, 'timeless': 3015, 'kudo': 3016, 'instantli': 3017, 'spooki': 3018, 'worthless': 3019, 'monk': 3020, 'clock': 3021, 'revers': 3022, 'brosnan': 3023, 'ninja': 3024, 'closet': 3025, 'convolut': 3026, 'cave': 3027, 'pal': 3028, 'sidekick': 3029, 'bleak': 3030, 'eighti': 3031, 'miracl': 3032, 'wipe': 3033, 'norman': 3034, 'sloppi': 3035, 'selfish': 3036, 'mitchel': 3037, 'cliff': 3038, 'fifteen': 3039, 'inconsist': 3040, 'communist': 3041, 'evok': 3042, 'seller': 3043, 'clown': 3044, 'gray': 3045, 'declar': 3046, 'importantli': 3047, 'partli': 3048, 'cheek': 3049, 'chew': 3050, 'flawless': 3051, 'enthusiast': 3052, 'ho': 3053, '45': 3054, 'psychiatrist': 3055, 'aforement': 3056, 'superbl': 3057, 'lifestyl': 3058, 'destin': 3059, 'websit': 3060, 'piano': 3061, 'seed': 3062, 'farc': 3063, 'debat': 3064, 'stoog': 3065, 'australia': 3066, 'incompet': 3067, 'akshay': 3068, 'drivel': 3069, 'emili': 3070, 'slice': 3071, 'directori': 3072, 'bash': 3073, 'anni': 3074, 'wrestl': 3075, 'regardless': 3076, 'dire': 3077, 'dash': 3078, 'kitchen': 3079, 'pressur': 3080, 'wick': 3081, 'splatter': 3082, 'abc': 3083, 'soviet': 3084, 'suppli': 3085, 'helicopt': 3086, 'artifici': 3087, 'doo': 3088, 'cagney': 3089, 'blob': 3090, 'dave': 3091, 'distant': 3092, 'recov': 3093, 'pleasantli': 3094, 'jar': 3095, 'ken': 3096, 'glow': 3097, 'cia': 3098, 'increas': 3099, 'cameron': 3100, 'judi': 3101, 'boil': 3102, 'curios': 3103, 'seduc': 3104, 'chapter': 3105, 'mann': 3106, 'lou': 3107, 'duo': 3108, 'beaten': 3109, 'prize': 3110, 'flower': 3111, 'laurel': 3112, 'eleg': 3113, 'combat': 3114, 'ranger': 3115, 'ellen': 3116, 'turner': 3117, 'craven': 3118, 'favour': 3119, 'glenn': 3120, 'perri': 3121, 'hop': 3122, 'splendid': 3123, 'craig': 3124, 'web': 3125, 'drunken': 3126, 'psychot': 3127, 'goldberg': 3128, 'francisco': 3129, 'panic': 3130, 'graduat': 3131, 'fx': 3132, 'slightest': 3133, 'gentl': 3134, '20th': 3135, 'wizard': 3136, 'flip': 3137, 'rid': 3138, 'plausibl': 3139, 'shortli': 3140, 'min': 3141, 'philosophi': 3142, 'alexand': 3143, 'greek': 3144, 'hatr': 3145, 'ruth': 3146, 'gandhi': 3147, 'modesti': 3148, 'falk': 3149, 'tall': 3150, 'holi': 3151, 'we': 3152, 'knight': 3153, 'lend': 3154, 'dracula': 3155, 'harm': 3156, 'felix': 3157, 'jealou': 3158, 'fund': 3159, 'manhattan': 3160, 'preciou': 3161, 'futurist': 3162, 'legal': 3163, 'ocean': 3164, 'unpleas': 3165, 'forbidden': 3166, 'reviv': 3167, 'childish': 3168, 'digniti': 3169, 'scientif': 3170, 'overdon': 3171, 'giallo': 3172, 'ami': 3173, 'mock': 3174, 'nod': 3175, 'bless': 3176, 'tank': 3177, 'thread': 3178, 'explicit': 3179, 'nerv': 3180, 'awe': 3181, 'broad': 3182, 'eve': 3183, '2004': 3184, 'margaret': 3185, 'pirat': 3186, '99': 3187, 'repeatedli': 3188, 'fever': 3189, 'unwatch': 3190, 'mel': 3191, 'elderli': 3192, 'awaken': 3193, 'yesterday': 3194, 'thick': 3195, 'verhoeven': 3196, 'torment': 3197, 'romero': 3198, 'eas': 3199, 'kay': 3200, 'acclaim': 3201, 'bin': 3202, 'rivet': 3203, 'ambit': 3204, 'automat': 3205, 'custom': 3206, 'ah': 3207, 'politician': 3208, 'stiller': 3209, 'uniform': 3210, 'publish': 3211, 'absenc': 3212, 'royal': 3213, 'launch': 3214, 'griffith': 3215, 'timothi': 3216, 'roman': 3217, 'lean': 3218, 'foul': 3219, 'pierc': 3220, 'phrase': 3221, 'transport': 3222, 'pulp': 3223, 'stinker': 3224, 'crook': 3225, 'darker': 3226, 'sunshin': 3227, 'tomato': 3228, 'antic': 3229, 'wallac': 3230, 'warren': 3231, 'homicid': 3232, 'purpl': 3233, 'bathroom': 3234, 'termin': 3235, 'gabriel': 3236, 'pray': 3237, 'album': 3238, 'prom': 3239, 'marin': 3240, 'brazil': 3241, 'contrari': 3242, 'juvenil': 3243, 'donna': 3244, 'q': 3245, 'evolv': 3246, 'choreographi': 3247, 'ought': 3248, 'revolutionari': 3249, 'viciou': 3250, 'li': 3251, 'sixti': 3252, 'horrid': 3253, 'awak': 3254, '2003': 3255, 'coloni': 3256, 'kenneth': 3257, 'saint': 3258, 'hollow': 3259, 'eyr': 3260, 'packag': 3261, 'rambo': 3262, 'karen': 3263, 'ramon': 3264, 'defi': 3265, 'option': 3266, 'mummi': 3267, 'blade': 3268, 'overr': 3269, 'stole': 3270, 'beatti': 3271, 'mildr': 3272, 'dose': 3273, 'conserv': 3274, 'ireland': 3275, 'kapoor': 3276, 'twelv': 3277, 'candid': 3278, 'nerd': 3279, 'boast': 3280, 'trio': 3281, 'global': 3282, 'detract': 3283, 'flame': 3284, 'protest': 3285, 'kirk': 3286, 'astonish': 3287, 'funer': 3288, 'collabor': 3289, 'natali': 3290, 'jazz': 3291, 'confirm': 3292, 'altman': 3293, 'fulci': 3294, 'leap': 3295, 'bottl': 3296, 'nicholson': 3297, 'racial': 3298, 'audio': 3299, 'tommi': 3300, 'bull': 3301, 'mystic': 3302, 'enterpris': 3303, 'spit': 3304, 'whip': 3305, 'blake': 3306, 'delici': 3307, 'shade': 3308, 'destini': 3309, 'yellow': 3310, 'popcorn': 3311, 'harder': 3312, 'fonda': 3313, 'enchant': 3314, 'bedroom': 3315, 'adolesc': 3316, 'neo': 3317, 'pseudo': 3318, 'visibl': 3319, 'staff': 3320, 'threw': 3321, 'swedish': 3322, 'reunit': 3323, 'merci': 3324, 'inherit': 3325, 'meaningless': 3326, 'altogeth': 3327, 'todd': 3328, 'vivid': 3329, 'roommat': 3330, 'befriend': 3331, 'edi': 3332, 'madonna': 3333, 'reserv': 3334, 'bust': 3335, 'await': 3336, 'moodi': 3337, 'suspici': 3338, 'crocodil': 3339, 'kennedi': 3340, 'uneven': 3341, 'synopsi': 3342, 'voight': 3343, 'lawrenc': 3344, 'wire': 3345, 'exhibit': 3346, 'respond': 3347, 'ruthless': 3348, 'jew': 3349, 'tip': 3350, 'decor': 3351, 'leonard': 3352, 'fanat': 3353, 'lemmon': 3354, 'atlanti': 3355, 'clumsi': 3356, 'clint': 3357, 'chao': 3358, 'centr': 3359, 'bold': 3360, 'bradi': 3361, 'carl': 3362, 'unsettl': 3363, 'ventur': 3364, 'bargain': 3365, 'garner': 3366, 'incident': 3367, 'abysm': 3368, 'rural': 3369, 'audit': 3370, 'voyag': 3371, '2007': 3372, 'holli': 3373, 'dimens': 3374, 'palma': 3375, 'tiger': 3376, 'poetic': 3377, 'nearbi': 3378, 'ant': 3379, 'echo': 3380, 'cari': 3381, 'daddi': 3382, 'acknowledg': 3383, 'mall': 3384, '2nd': 3385, 'lit': 3386, 'wealth': 3387, 'trail': 3388, 'cd': 3389, 'hart': 3390, 'neglect': 3391, 'characterist': 3392, 'humili': 3393, 'immigr': 3394, 'troop': 3395, 'imperson': 3396, 'versu': 3397, 'cuba': 3398, 'elimin': 3399, 'timon': 3400, 'pun': 3401, 'celluloid': 3402, 'mistaken': 3403, 'infect': 3404, 'paus': 3405, 'repuls': 3406, 'saga': 3407, 'collaps': 3408, 'domest': 3409, 'mickey': 3410, 'prejudic': 3411, 'marshal': 3412, 'jeffrey': 3413, 'solo': 3414, 'homer': 3415, 'assembl': 3416, 'milk': 3417, 'tribe': 3418, 'hbo': 3419, 'inappropri': 3420, 'inan': 3421, 'sore': 3422, 'equip': 3423, 'pant': 3424, 'cake': 3425, 'interrupt': 3426, 'ginger': 3427, 'harvey': 3428, 'apolog': 3429, 'chest': 3430, '1996': 3431, 'olivi': 3432, 'gear': 3433, 'coat': 3434, 'promin': 3435, 'undoubtedli': 3436, 'coffe': 3437, 'leon': 3438, 'aveng': 3439, 'highest': 3440, 'humbl': 3441, 'colonel': 3442, 'primari': 3443, 'pen': 3444, 'retain': 3445, 'consum': 3446, 'devast': 3447, 'institut': 3448, 'vulgar': 3449, 'airplan': 3450, 'trace': 3451, 'colleagu': 3452, 'instant': 3453, 'pot': 3454, 'embrac': 3455, 'brooklyn': 3456, 'jenni': 3457, 'exot': 3458, 'maggi': 3459, 'solut': 3460, 'furthermor': 3461, 'florida': 3462, 'polanski': 3463, 'linda': 3464, 'bowl': 3465, 'poke': 3466, 'cope': 3467, '3rd': 3468, 'descend': 3469, '1999': 3470, 'ya': 3471, 'rick': 3472, 'sale': 3473, 'smaller': 3474, 'dutch': 3475, 'dian': 3476, 'gender': 3477, 'strain': 3478, 'illog': 3479, 'disabl': 3480, 'wive': 3481, 'principl': 3482, 'seduct': 3483, 'outer': 3484, 'godzilla': 3485, 'hal': 3486, 'inferior': 3487, 'devoid': 3488, 'rabbit': 3489, 'dive': 3490, 'beneath': 3491, 'mixtur': 3492, 'yard': 3493, 'gloriou': 3494, 'blatant': 3495, 'predecessor': 3496, 'scope': 3497, 'secondli': 3498, 'dud': 3499, 'cue': 3500, 'bubbl': 3501, 'glamor': 3502, 'primarili': 3503, 'vast': 3504, 'lol': 3505, 'gundam': 3506, 'breed': 3507, 'museum': 3508, 'streep': 3509, 'countrysid': 3510, 'z': 3511, 'hideou': 3512, 'casual': 3513, 'disjoint': 3514, 'domino': 3515, 'aggress': 3516, 'invas': 3517, 'arab': 3518, 'myer': 3519, 'simplist': 3520, 'alfr': 3521, 'talki': 3522, 'grinch': 3523, 'april': 3524, 'et': 3525, 'shelf': 3526, 'alert': 3527, 'shirley': 3528, 'senseless': 3529, 'pearl': 3530, 'garbo': 3531, 'trademark': 3532, 'loyal': 3533, 'hopeless': 3534, 'sh': 3535, 'rendit': 3536, 'unhappi': 3537, 'slide': 3538, 'acid': 3539, 'obtain': 3540, 'maci': 3541, 'mail': 3542, 'mayor': 3543, 'applaud': 3544, 'stir': 3545, 'robinson': 3546, 'oz': 3547, 'vanish': 3548, 'experiment': 3549, 'khan': 3550, 'defens': 3551, 'disgrac': 3552, 'boom': 3553, 'stellar': 3554, 'uwe': 3555, 'robberi': 3556, 'hardcor': 3557, 'illeg': 3558, 'stack': 3559, 'span': 3560, 'wont': 3561, 'amanda': 3562, 'recruit': 3563, 'tenant': 3564, 'counter': 3565, 'psychic': 3566, 'topless': 3567, 'fri': 3568, 'tempt': 3569, 'grandfath': 3570, 'scroog': 3571, 'blew': 3572, 'emphasi': 3573, 'dismiss': 3574, 'incomprehens': 3575, 'rifl': 3576, 'diana': 3577, 'dicken': 3578, 'craze': 3579, 'declin': 3580, 'berlin': 3581, 'hartley': 3582, 'soccer': 3583, 'spider': 3584, 'porno': 3585, 'trashi': 3586, 'woo': 3587, 'riot': 3588, 'bitch': 3589, 'parad': 3590, 'ration': 3591, 'shed': 3592, 'sibl': 3593, 'faster': 3594, 'resurrect': 3595, 'niro': 3596, 'wet': 3597, 'justin': 3598, 'goer': 3599, 'sympath': 3600, 'intim': 3601, 'lumet': 3602, 'shaw': 3603, 'ethnic': 3604, 'revolt': 3605, 'slick': 3606, 'hopper': 3607, 'immort': 3608, 'region': 3609, 'ballet': 3610, 'rider': 3611, 'weakest': 3612, 'enlighten': 3613, 'eager': 3614, 'commend': 3615, 'steam': 3616, 'nephew': 3617, 'wheel': 3618, 'feminist': 3619, 'honesti': 3620, 'unreal': 3621, 'wendi': 3622, 'lena': 3623, 'biographi': 3624, 'hesit': 3625, 'patriot': 3626, '00': 3627, 'partial': 3628, 'worm': 3629, 'choru': 3630, 'dealer': 3631, 'jonathan': 3632, 'ensur': 3633, 'farmer': 3634, 'andr': 3635, 'mario': 3636, 'gap': 3637, 'snap': 3638, 'nostalg': 3639, 'morri': 3640, 'psychopath': 3641, 'sappi': 3642, 'blunt': 3643, 'mutant': 3644, 'safeti': 3645, 'vice': 3646, 'franco': 3647, 'owen': 3648, 'victori': 3649, 'sandra': 3650, 'composit': 3651, 'leo': 3652, 'similarli': 3653, 'wore': 3654, 'properti': 3655, 'hung': 3656, 'util': 3657, 'charlott': 3658, 'repress': 3659, 'kingdom': 3660, 'prequel': 3661, 'confin': 3662, 'skull': 3663, 'macarthur': 3664, 'rope': 3665, 'cg': 3666, 'bonu': 3667, 'del': 3668, 'deed': 3669, 'kyle': 3670, 'montana': 3671, 'recycl': 3672, 'acquir': 3673, 'hyde': 3674, 'nervou': 3675, 'miseri': 3676, 'exit': 3677, 'repli': 3678, 'bow': 3679, 'dust': 3680, 'valuabl': 3681, '1972': 3682, 'drum': 3683, 'heartbreak': 3684, 'tad': 3685, 'rocki': 3686, 'bergman': 3687, 'snl': 3688, 'campbel': 3689, 'speci': 3690, 'thru': 3691, 'compass': 3692, 'farrel': 3693, 'emperor': 3694, 'pattern': 3695, 'drain': 3696, 'latin': 3697, 'despair': 3698, 'tail': 3699, 'bumbl': 3700, 'whoopi': 3701, 'strand': 3702, 'dalton': 3703, 'rambl': 3704, 'compens': 3705, 'olli': 3706, 'romp': 3707, 'mistress': 3708, 'percept': 3709, 'orson': 3710, 'slug': 3711, 'airport': 3712, 'downhil': 3713, 'gimmick': 3714, 'wacki': 3715, 'radic': 3716, 'martian': 3717, 'contempl': 3718, 'bleed': 3719, 'gal': 3720, 'rotten': 3721, 'pour': 3722, '35': 3723, 'da': 3724, 'chess': 3725, 'oppress': 3726, 'carradin': 3727, 'roth': 3728, 'rapist': 3729, 'tonight': 3730, 'dazzl': 3731, 'pervert': 3732, 'taught': 3733, 'mislead': 3734, 'paltrow': 3735, 'preach': 3736, 'edgar': 3737, 'attorney': 3738, 'pervers': 3739, 'arc': 3740, 'melodi': 3741, 'champion': 3742, 'tooth': 3743, 'tackl': 3744, 'stilt': 3745, 'belt': 3746, 'shelley': 3747, 'programm': 3748, 'heal': 3749, 'pursuit': 3750, '1983': 3751, 'slash': 3752, 'arguabl': 3753, 'unpredict': 3754, 'banal': 3755, 'graham': 3756, 'uplift': 3757, 'orang': 3758, 'duval': 3759, 'mesmer': 3760, 'tiresom': 3761, 'chicken': 3762, 'cleverli': 3763, 'vocal': 3764, 'sensat': 3765, 'bela': 3766, 'dixon': 3767, 'employe': 3768, 'raymond': 3769, 'poem': 3770, 'maid': 3771, 'conneri': 3772, 'marti': 3773, 'rubi': 3774, 'closest': 3775, 'vengeanc': 3776, 'plight': 3777, 'virginia': 3778, 'gambl': 3779, 'passeng': 3780, 'franki': 3781, 'crystal': 3782, 'whine': 3783, '1968': 3784, 'volum': 3785, 'swallow': 3786, 'yawn': 3787, 'calm': 3788, 'climact': 3789, 'paranoia': 3790, 'secretli': 3791, 'extens': 3792, 'amitabh': 3793, 'clone': 3794, 'abraham': 3795, 'convincingli': 3796, 'monologu': 3797, 'giggl': 3798, 'iran': 3799, 'suffic': 3800, 'gerard': 3801, 'outing': 3802, 'profan': 3803, 'bay': 3804, 'engross': 3805, 'inject': 3806, 'tube': 3807, 'sirk': 3808, 'scottish': 3809, 'quarter': 3810, 'habit': 3811, 'numb': 3812, 'mute': 3813, 'lundgren': 3814, 'pokemon': 3815, 'poetri': 3816, 'earl': 3817, 'frankenstein': 3818, 'austen': 3819, 'underst': 3820, 'chicago': 3821, 'junior': 3822, 'surpass': 3823, 'profess': 3824, 'meander': 3825, 'expand': 3826, 'backward': 3827, 'dispos': 3828, 'septemb': 3829, 'franci': 3830, 'plod': 3831, 'trend': 3832, 'nichola': 3833, 'linger': 3834, 'bend': 3835, 'abort': 3836, 'taxi': 3837, 'lowest': 3838, 'richardson': 3839, 'ethan': 3840, 'grotesqu': 3841, 'im': 3842, 'fed': 3843, 'spock': 3844, 'instrument': 3845, 'myth': 3846, 'muddl': 3847, 'sue': 3848, 'hum': 3849, 'lure': 3850, 'mundan': 3851, 'eugen': 3852, 'simplic': 3853, 'greedi': 3854, 'compliment': 3855, 'econom': 3856, 'descent': 3857, 'nostalgia': 3858, 'cannon': 3859, 'rubber': 3860, 'household': 3861, 'rant': 3862, 'catchi': 3863, 'der': 3864, 'dysfunct': 3865, 'literatur': 3866, 'stallon': 3867, 'waitress': 3868, 'tourist': 3869, 'spoke': 3870, 'firstli': 3871, 'phantom': 3872, 'equival': 3873, 'map': 3874, 'eaten': 3875, 'coast': 3876, 'bacal': 3877, 'damon': 3878, 'crucial': 3879, 'recognit': 3880, 'sissi': 3881, 'alongsid': 3882, 'irrelev': 3883, 'cent': 3884, 'phoni': 3885, 'dictat': 3886, 'molli': 3887, 'mankind': 3888, 'insur': 3889, 'duck': 3890, 'dement': 3891, 'hello': 3892, 'mortal': 3893, 'lang': 3894, 'recognis': 3895, 'furi': 3896, 'occupi': 3897, 'flee': 3898, 'deaf': 3899, 'louis': 3900, 'randi': 3901, 'omen': 3902, 'june': 3903, 'carel': 3904, 'stale': 3905, 'likewis': 3906, '1973': 3907, 'lengthi': 3908, 'newli': 3909, 'loyalti': 3910, 'damm': 3911, 'bump': 3912, 'heel': 3913, 'distinguish': 3914, 'blackmail': 3915, 'dreari': 3916, 'buffalo': 3917, 'onlin': 3918, 'daisi': 3919, 'antwon': 3920, 'bike': 3921, 'twilight': 3922, 'wisdom': 3923, 'freez': 3924, 'rude': 3925, 'cyborg': 3926, 'labor': 3927, 'drake': 3928, 'ashley': 3929, 'reign': 3930, 'rooney': 3931, 'biko': 3932, 'grayson': 3933, 'baddi': 3934, 'exposur': 3935, 'boxer': 3936, 'analysi': 3937, 'worn': 3938, 'interior': 3939, 'provoc': 3940, 'unorigin': 3941, 'tunnel': 3942, 'nineti': 3943, 'prey': 3944, 'barrymor': 3945, 'proce': 3946, 'vein': 3947, 'basketbal': 3948, 'incorpor': 3949, 'emphas': 3950, 'inher': 3951, 'chronicl': 3952, 'approv': 3953, 'ridden': 3954, 'butler': 3955, 'attribut': 3956, 'startl': 3957, 'pink': 3958, 'keith': 3959, 'sailor': 3960, 'belushi': 3961, 'mormon': 3962, 'walsh': 3963, 'elm': 3964, 'undeni': 3965, 'robbin': 3966, 'er': 3967, 'nicol': 3968, 'substitut': 3969, 'indiffer': 3970, 'barrel': 3971, 'mighti': 3972, 'simmon': 3973, 'underli': 3974, 'bunni': 3975, 'predat': 3976, 'julian': 3977, 'millionair': 3978, 'hypnot': 3979, 'drift': 3980, 'fleet': 3981, 'stalker': 3982, 'othello': 3983, 'unrel': 3984, 'meyer': 3985, 'condemn': 3986, 'carla': 3987, 'improvis': 3988, 'meg': 3989, 'degrad': 3990, 'hay': 3991, 'priceless': 3992, 'nyc': 3993, 'reid': 3994, 'greed': 3995, 'unawar': 3996, 'disord': 3997, 'palac': 3998, 'mtv': 3999, 'vital': 4000, '3d': 4001, 'errol': 4002, 'warmth': 4003, 'lampoon': 4004, 'agenda': 4005, 'firm': 4006, 'edgi': 4007, 'shove': 4008, 'roof': 4009, 'watson': 4010, 'enthusiasm': 4011, 'alarm': 4012, 'exquisit': 4013, 'novak': 4014, 'rukh': 4015, 'marion': 4016, 'alison': 4017, 'dolph': 4018, 'showdown': 4019, 'minimum': 4020, 'sergeant': 4021, 'peril': 4022, 'unleash': 4023, 'spain': 4024, 'peck': 4025, 'ponder': 4026, 'angela': 4027, 'session': 4028, 'glanc': 4029, '13th': 4030, 'drip': 4031, 'preserv': 4032, 'pamela': 4033, 'what': 4034, 'distort': 4035, 'randomli': 4036, 'israel': 4037, 'campaign': 4038, 'championship': 4039, 'petti': 4040, '1933': 4041, 'nun': 4042, 'beatl': 4043, 'gestur': 4044, 'valentin': 4045, 'crown': 4046, 'simultan': 4047, 'coup': 4048, 'iraq': 4049, 'profit': 4050, 'eastern': 4051, 'orlean': 4052, 'thompson': 4053, 'testament': 4054, 'cassidi': 4055, 'zizek': 4056, 'empathi': 4057, 'valley': 4058, 'stake': 4059, 'exposit': 4060, 'bro': 4061, '1984': 4062, 'contradict': 4063, 'sabrina': 4064, 'realm': 4065, 'calib': 4066, 'cooki': 4067, 'crow': 4068, 'scotland': 4069, 'rout': 4070, 'mon': 4071, 'climat': 4072, 'shootout': 4073, 'han': 4074, 'din': 4075, 'wig': 4076, 'regist': 4077, 'represent': 4078, 'miyazaki': 4079, 'unimagin': 4080, 'stroke': 4081, 'restrain': 4082, 'crawl': 4083, 'brenda': 4084, 'jan': 4085, 'quinn': 4086, 'reson': 4087, 'fido': 4088, 'buster': 4089, 'travesti': 4090, 'kurosawa': 4091, 'gentleman': 4092, 'perpetu': 4093, 'cream': 4094, 'warrant': 4095, 'perceiv': 4096, 'unseen': 4097, 'sucker': 4098, 'femm': 4099, 'baldwin': 4100, 'meryl': 4101, 'businessman': 4102, 'compromis': 4103, 'geek': 4104, 'wax': 4105, 'spacey': 4106, '1987': 4107, 'shoddi': 4108, 'demis': 4109, 'abomin': 4110, 'monoton': 4111, 'pretens': 4112, 'derang': 4113, 'passabl': 4114, 'mclaglen': 4115, 'stargat': 4116, 'unsatisfi': 4117, 'censor': 4118, 'ross': 4119, 'soderbergh': 4120, 'cloud': 4121, 'painter': 4122, 'tacki': 4123, 'dana': 4124, 'delic': 4125, 'distress': 4126, '1997': 4127, 'josh': 4128, 'ustinov': 4129, 'greg': 4130, 'absent': 4131, 'darren': 4132, 'traumat': 4133, 'crawford': 4134, 'shaki': 4135, 'fuller': 4136, 'pole': 4137, 'sammi': 4138, 'seal': 4139, 'kumar': 4140, 'deniro': 4141, 'tarantino': 4142, 'click': 4143, 'polici': 4144, 'uncov': 4145, 'verbal': 4146, 'jewel': 4147, 'reluct': 4148, 'austin': 4149, 'fog': 4150, 'dee': 4151, 'deceas': 4152, 'nathan': 4153, 'fenc': 4154, 'sid': 4155, 'exclus': 4156, 'unravel': 4157, 'anchor': 4158, 'tech': 4159, 'norm': 4160, 'antonioni': 4161, 'furiou': 4162, 'accuraci': 4163, '1993': 4164, 'expedit': 4165, 'correctli': 4166, 'primit': 4167, 'wholli': 4168, 'clash': 4169, 'valid': 4170, 'judgment': 4171, 'roller': 4172, 'sand': 4173, 'shanghai': 4174, 'fart': 4175, 'dreck': 4176, 'patienc': 4177, 'sustain': 4178, 'pocket': 4179, 'hallucin': 4180, 'temper': 4181, 'slam': 4182, 'nicola': 4183, 'joel': 4184, 'vanc': 4185, '1971': 4186, 'enforc': 4187, 'darn': 4188, 'clerk': 4189, 'alec': 4190, 'logan': 4191, 'murray': 4192, 'conduct': 4193, '3000': 4194, '2008': 4195, 'bake': 4196, 'debt': 4197, 'sunni': 4198, 'unfair': 4199, 'crippl': 4200, '1995': 4201, 'seldom': 4202, 'behold': 4203, 'mode': 4204, 'fought': 4205, 'sheet': 4206, 'wang': 4207, 'ritual': 4208, 'wretch': 4209, 'tax': 4210, 'fabric': 4211, 'trait': 4212, 'malon': 4213, 'rita': 4214, 'helpless': 4215, 'fundament': 4216, 'soup': 4217, 'runner': 4218, 'legaci': 4219, 'bridget': 4220, 'robber': 4221, 'conscious': 4222, 'preston': 4223, 'despis': 4224, 'stuart': 4225, 'penni': 4226, 'technicolor': 4227, 'phil': 4228, 'divid': 4229, 'grief': 4230, 'tactic': 4231, 'critiqu': 4232, 'isabel': 4233, 'guitar': 4234, 'sweep': 4235, 'scriptwrit': 4236, 'squad': 4237, 'schedul': 4238, 'canyon': 4239, 'clau': 4240, 'preposter': 4241, 'bias': 4242, 'exhaust': 4243, 'outlin': 4244, 'stark': 4245, 'pete': 4246, 'shell': 4247, 'delv': 4248, 'bloom': 4249, 'lacklust': 4250, 'boyl': 4251, 'alley': 4252, 'gregori': 4253, 'rear': 4254, 'consciou': 4255, 'sugar': 4256, 'flair': 4257, 'russia': 4258, 'drove': 4259, 'invad': 4260, 'vomit': 4261, 'cigarett': 4262, 'jacket': 4263, 'newman': 4264, 'marc': 4265, 'liberti': 4266, 'rehash': 4267, 'kansa': 4268, 'palanc': 4269, 'unexpectedli': 4270, 'inabl': 4271, 'sniper': 4272, 'culmin': 4273, 'connor': 4274, 'passag': 4275, 'propos': 4276, 'downey': 4277, 'agenc': 4278, 'jodi': 4279, 'alicia': 4280, 'sentinel': 4281, 'implic': 4282, 'restrict': 4283, 'horn': 4284, 'rampag': 4285, 'pale': 4286, 'wrench': 4287, 'lush': 4288, 'awhil': 4289, 'rehears': 4290, 'vet': 4291, 'kolchak': 4292, 'tendenc': 4293, 'karl': 4294, 'chainsaw': 4295, 'asylum': 4296, 'ladder': 4297, 'aesthet': 4298, 'behaviour': 4299, 'mccoy': 4300, 'cap': 4301, 'rod': 4302, 'feat': 4303, 'arrow': 4304, 'bacon': 4305, 'tripe': 4306, '22': 4307, '1936': 4308, 'delet': 4309, 'sharon': 4310, 'improb': 4311, 'foxx': 4312, 'yeti': 4313, 'filler': 4314, 'financ': 4315, '1978': 4316, 'sung': 4317, '1988': 4318, 'basing': 4319, 'aristocrat': 4320, '19th': 4321, 'prank': 4322, 'newcom': 4323, 'globe': 4324, 'shortcom': 4325, 'wagner': 4326, 'suffici': 4327, 'amazon': 4328, 'stream': 4329, 'rhythm': 4330, 'conscienc': 4331, 'underneath': 4332, 'paradis': 4333, 'lurk': 4334, 'paramount': 4335, 'wildli': 4336, 'weav': 4337, 'coaster': 4338, 'fright': 4339, '1920': 4340, 'hulk': 4341, 'hackney': 4342, 'suspicion': 4343, 'el': 4344, 'tasteless': 4345, 'tomorrow': 4346, 'minu': 4347, 'spice': 4348, 'visitor': 4349, 'elit': 4350, 'hungri': 4351, 'rumor': 4352, 'loneli': 4353, 'scoop': 4354, 'thunderbird': 4355, 'bread': 4356, 'ingeni': 4357, 'quietli': 4358, 'brit': 4359, 'iv': 4360, 'grudg': 4361, 'literari': 4362, 'couch': 4363, 'immers': 4364, 'naughti': 4365, 'heist': 4366, 'paxton': 4367, 'straightforward': 4368, 'impos': 4369, '1939': 4370, 'springer': 4371, 'teas': 4372, 'rub': 4373, 'penn': 4374, 'hopkin': 4375, '75': 4376, 'wwe': 4377, 'entranc': 4378, 'smell': 4379, 'inmat': 4380, 'dirt': 4381, 'standout': 4382, 'worship': 4383, 'abrupt': 4384, 'curli': 4385, 'lectur': 4386, '1989': 4387, 'beverli': 4388, 'chamberlain': 4389, 'en': 4390, 'leigh': 4391, 'minist': 4392, 'ram': 4393, 'recogniz': 4394, 'secondari': 4395, 'posey': 4396, 'choppi': 4397, 'tierney': 4398, 'cancer': 4399, 'counterpart': 4400, 'atroc': 4401, 'chavez': 4402, 'morbid': 4403, 'sassi': 4404, 'variat': 4405, 'heartfelt': 4406, 'skeptic': 4407, 'missil': 4408, 'lindsay': 4409, 'nolan': 4410, 'duel': 4411, 'entitl': 4412, 'enthral': 4413, 'sublim': 4414, 'watcher': 4415, 'moreov': 4416, 'clan': 4417, 'injuri': 4418, 'cattl': 4419, 'ace': 4420, 'net': 4421, 'policeman': 4422, 'nemesi': 4423, 'convert': 4424, 'bernard': 4425, 'transcend': 4426, 'laurenc': 4427, 'quaid': 4428, '1986': 4429, 'attenborough': 4430, 'misguid': 4431, 'esther': 4432, 'geni': 4433, 'yearn': 4434, 'ratso': 4435, 'youngest': 4436, 'moder': 4437, 'artsi': 4438, 'setup': 4439, 'bean': 4440, 'characteris': 4441, 'vader': 4442, 'puppi': 4443, 'kidman': 4444, 'enabl': 4445, 'hopelessli': 4446, 'unexplain': 4447, 'egg': 4448, 'cruelti': 4449, 'poe': 4450, 'reliabl': 4451, 'brood': 4452, 'bye': 4453, 'grin': 4454, 'out': 4455, 'carlito': 4456, 'buzz': 4457, 'kitti': 4458, 'rosemari': 4459, 'obstacl': 4460, '1979': 4461, 'diari': 4462, 'tyler': 4463, 'facil': 4464, 'spiral': 4465, 'graini': 4466, 'steadi': 4467, 'uncut': 4468, 'hk': 4469, 'mytholog': 4470, 'dont': 4471, 'narrow': 4472, 'martha': 4473, 'hammi': 4474, 'clueless': 4475, 'exterior': 4476, 'effici': 4477, 'bounc': 4478, 'disastr': 4479, 'preming': 4480, 'bewar': 4481, 'acquaint': 4482, 'despic': 4483, '1969': 4484, 'bronson': 4485, 'brendan': 4486, 'gina': 4487, 'hain': 4488, 'weather': 4489, 'heap': 4490, 'sweat': 4491, 'athlet': 4492, 'gillian': 4493, 'christin': 4494, 'niec': 4495, 'patricia': 4496, 'underworld': 4497, 'baffl': 4498, 'decept': 4499, 'kline': 4500, 'fuel': 4501, 'spontan': 4502, 'oblig': 4503, 'astound': 4504, 'headach': 4505, 'shatter': 4506, 'insipid': 4507, 'housewif': 4508, 'injur': 4509, 'dandi': 4510, 'mayhem': 4511, 'analyz': 4512, 'angst': 4513, 'dilemma': 4514, 'fontain': 4515, 'rome': 4516, 'outlaw': 4517, 'sleepwalk': 4518, 'uh': 4519, 'renaiss': 4520, 'enlist': 4521, '19': 4522, 'tick': 4523, 'sooner': 4524, 'harmless': 4525, 'lester': 4526, 'biker': 4527, 'mermaid': 4528, 'hepburn': 4529, 'circu': 4530, 'loath': 4531, 'suprem': 4532, 'goof': 4533, 'viewpoint': 4534, 'loi': 4535, 'candl': 4536, '73': 4537, 'taboo': 4538, 'scar': 4539, 'virtu': 4540, 'preachi': 4541, 'trigger': 4542, 'hostag': 4543, 'amor': 4544, 'glorifi': 4545, 'surgeri': 4546, 'camcord': 4547, 'intric': 4548, 'stair': 4549, 'stimul': 4550, 'idol': 4551, 'overlong': 4552, 'boston': 4553, 'immatur': 4554, 'oldest': 4555, 'hooker': 4556, 'contempt': 4557, 'bent': 4558, 'whore': 4559, 'phenomenon': 4560, 'hokey': 4561, 'tripl': 4562, 'filth': 4563, 'dish': 4564, 'macho': 4565, 'fluff': 4566, 'foolish': 4567, 'salt': 4568, 'ariel': 4569, 'sox': 4570, 'steer': 4571, 'zoom': 4572, 'dismal': 4573, 'spade': 4574, 'claustrophob': 4575, 'slimi': 4576, 'redund': 4577, 'gere': 4578, 'guin': 4579, 'corbett': 4580, 'cassavet': 4581, 'scorses': 4582, 'ebert': 4583, 'fascist': 4584, 'strongest': 4585, 'astronaut': 4586, 'shred': 4587, 'spinal': 4588, 'preced': 4589, 'harold': 4590, 'cow': 4591, 'proport': 4592, 'muscl': 4593, 'beard': 4594, 'cush': 4595, 'shield': 4596, 'alvin': 4597, 'gasp': 4598, 'flag': 4599, 'mutual': 4600, 'spree': 4601, 'margin': 4602, 'flashi': 4603, 'obligatori': 4604, 'corman': 4605, 'conquer': 4606, 'zane': 4607, 'mount': 4608, '1981': 4609, 'assert': 4610, '1976': 4611, 'dwarf': 4612, 'widescreen': 4613, 'gabl': 4614, 'trivia': 4615, 'rhyme': 4616, 'frantic': 4617, 'cohen': 4618, 'antagonist': 4619, 'transplant': 4620, 'flirt': 4621, 'messi': 4622, 'nolt': 4623, 'down': 4624, 'keen': 4625, 'faint': 4626, 'radiat': 4627, 'remad': 4628, 'joker': 4629, 'perman': 4630, 'schlock': 4631, 'naschi': 4632, 'ritchi': 4633, 'wield': 4634, 'off': 4635, '28': 4636, 'boob': 4637, 'info': 4638, 'resum': 4639, 'deer': 4640, 'archiv': 4641, 'triangl': 4642, 'bitten': 4643, 'neurot': 4644, 'interestingli': 4645, 'discern': 4646, 'mol': 4647, 'vaniti': 4648, 'persuad': 4649, 'repris': 4650, 'instruct': 4651, 'strive': 4652, '95': 4653, 'divin': 4654, 'carey': 4655, 'raj': 4656, 'sensual': 4657, 'www': 4658, 'fishburn': 4659, 'departur': 4660, 'brush': 4661, '1945': 4662, 'bachelor': 4663, 'danish': 4664, 'inflict': 4665, 'scandal': 4666, 'flock': 4667, 'hara': 4668, 'someday': 4669, 'mobil': 4670, 'aborigin': 4671, 'barn': 4672, 'claud': 4673, 'heartwarm': 4674, 'cb': 4675, 'earnest': 4676, 'proclaim': 4677, 'ish': 4678, 'undermin': 4679, 'melissa': 4680, 'artwork': 4681, 'frontier': 4682, 'wendigo': 4683, 'bate': 4684, 'recit': 4685, 'pixar': 4686, 'submit': 4687, 'traffic': 4688, 'axe': 4689, 'neill': 4690, 'cliffhang': 4691, 'cycl': 4692, 'pacif': 4693, 'banter': 4694, 'hug': 4695, 'senior': 4696, 'luka': 4697, 'loretta': 4698, 'casino': 4699, 'mobster': 4700, 'hilar': 4701, 'anton': 4702, 'colin': 4703, 'fragil': 4704, 'harrison': 4705, 'clad': 4706, 'europa': 4707, 'miracul': 4708, 'carlo': 4709, 'dim': 4710, 'kathryn': 4711, 'dylan': 4712, 'dame': 4713, 'prophet': 4714, 'helm': 4715, 'hapless': 4716, 'biblic': 4717, 'rot': 4718, 'vibrant': 4719, 'jade': 4720, 'timberlak': 4721, 'cher': 4722, 'pickford': 4723, 'parson': 4724, 'electron': 4725, 'milo': 4726, 'bikini': 4727, 'static': 4728, 'legitim': 4729, 'illus': 4730, 'lui': 4731, 'venom': 4732, 'seedi': 4733, 'antholog': 4734, 'uma': 4735, 'aris': 4736, 'toronto': 4737, 'breakfast': 4738, 'trier': 4739, 'northern': 4740, 'feast': 4741, 'blatantli': 4742, 'redneck': 4743, 'token': 4744, 'estrang': 4745, 'nope': 4746, 'cerebr': 4747, 'razor': 4748, 'vile': 4749, 'articl': 4750, 'pc': 4751, 'sicken': 4752, 'alexandr': 4753, 'eli': 4754, 'bondag': 4755, 'wardrob': 4756, 'choke': 4757, 'vanessa': 4758, 'orphan': 4759, 'winchest': 4760, 'rooki': 4761, 'shepherd': 4762, 'foil': 4763, 'jo': 4764, 'jordan': 4765, 'marlon': 4766, 'http': 4767, 'holocaust': 4768, 'lucil': 4769, 'flavor': 4770, 'akin': 4771, 'mason': 4772, 'misfortun': 4773, 'isra': 4774, 'mathieu': 4775, 'shorter': 4776, 'retriev': 4777, 'comprehend': 4778, 'howl': 4779, 'cartoonish': 4780, 'boyer': 4781, 'affleck': 4782, 'swept': 4783, 'wrestler': 4784, 'highway': 4785, 'disregard': 4786, 'nightclub': 4787, 'turd': 4788, 'gunga': 4789, 'feminin': 4790, 'audrey': 4791, 'peer': 4792, 'ceremoni': 4793, 'leather': 4794, 'smack': 4795, 'charlton': 4796, 'tack': 4797, 'knightley': 4798, 'ideolog': 4799, 'dudley': 4800, 'gilbert': 4801, 'deem': 4802, 'psych': 4803, 'oppon': 4804, 'linear': 4805, 'outdat': 4806, 'clinic': 4807, 'fifth': 4808, 'frog': 4809, 'abund': 4810, 'huston': 4811, 'glare': 4812, 'styliz': 4813, 'magician': 4814, 'newer': 4815, 'spine': 4816, 'spawn': 4817, 'bastard': 4818, 'tara': 4819, 'potter': 4820, 'chip': 4821, 'snatch': 4822, '4th': 4823, 'lighter': 4824, 'corn': 4825, 'energet': 4826, '1994': 4827, 'compris': 4828, 'salman': 4829, 'deliver': 4830, 'goldsworthi': 4831, 'btw': 4832, 'sleaz': 4833, 'greet': 4834, 'durat': 4835, 'boo': 4836, 'bogu': 4837, 'moe': 4838, 'cuban': 4839, 'evolut': 4840, 'phenomen': 4841, 'senat': 4842, 'cemeteri': 4843, 'plate': 4844, '1991': 4845, 'collector': 4846, 'whack': 4847, 'summar': 4848, 'lifeless': 4849, 'monument': 4850, 'client': 4851, 'toe': 4852, 'breakdown': 4853, 'braveheart': 4854, 'uniformli': 4855, 'conrad': 4856, 'lavish': 4857, 'mitch': 4858, 'einstein': 4859, 'bori': 4860, 'mcqueen': 4861, 'signal': 4862, 'creek': 4863, 'cecil': 4864, 'bulk': 4865, 'firmli': 4866, 'occup': 4867, 'neatli': 4868, 'ol': 4869, 'undead': 4870, 'constitut': 4871, 'sorrow': 4872, 'jare': 4873, 'alleg': 4874, 'randolph': 4875, 'lex': 4876, 'undertak': 4877, 'evelyn': 4878, '1977': 4879, 'kazan': 4880, 'clara': 4881, 'replay': 4882, 'liu': 4883, 'jule': 4884, 'pronounc': 4885, 'judd': 4886, 'nina': 4887, 'healthi': 4888, 'belli': 4889, 'capot': 4890, 'ie': 4891, 'kent': 4892, 'spectacl': 4893, 'armstrong': 4894, 'trauma': 4895, 'appl': 4896, 'embark': 4897, 'historian': 4898, 'wtf': 4899, 'jedi': 4900, 'outright': 4901, 'inaccuraci': 4902, 'luxuri': 4903, '1974': 4904, 'fluid': 4905, 'gilliam': 4906, 'eleven': 4907, 'jam': 4908, 'meal': 4909, 'lauren': 4910, 'id': 4911, 'knee': 4912, 'lanc': 4913, 'relentless': 4914, 'groan': 4915, 'porter': 4916, 'congratul': 4917, 'paula': 4918, 'galaxi': 4919, 'unsuspect': 4920, 'abound': 4921, 'inclus': 4922, 'sacrif': 4923, 'curtain': 4924, 'subtli': 4925, 'decapit': 4926, 'spray': 4927, 'roar': 4928, 'kiddi': 4929, 'truman': 4930, 'cape': 4931, 'poker': 4932, 'blur': 4933, 'genet': 4934, 'miami': 4935, 'comprehens': 4936, 'aussi': 4937, '1985': 4938, 'mum': 4939, 'comb': 4940, 'carmen': 4941, 'propheci': 4942, 'pioneer': 4943, 'rosario': 4944, 'bait': 4945, 'tokyo': 4946, 'basket': 4947, 'antonio': 4948, 'ash': 4949, 'fruit': 4950, 'vain': 4951, 'walt': 4952, 'palm': 4953, 'forgiven': 4954, 'goldblum': 4955, 'conan': 4956, 'vignett': 4957, 'inaccur': 4958, 'unattract': 4959, 'sidewalk': 4960, 'pepper': 4961, 'miniseri': 4962, 'bsg': 4963, 'epitom': 4964, 'growth': 4965, 'omin': 4966, 'substanti': 4967, 'modest': 4968, 'macabr': 4969, 'mice': 4970, 'rapidli': 4971, 'ingrid': 4972, 'drone': 4973, 'asset': 4974, 'jill': 4975, 'assort': 4976, 'scariest': 4977, 'incorrect': 4978, '21st': 4979, 'hostil': 4980, 'vastli': 4981, 'weaker': 4982, 'weari': 4983, 'monti': 4984, 'handicap': 4985, 'victorian': 4986, 'orchestr': 4987, 'bach': 4988, 'dubiou': 4989, 'bravo': 4990, 'playboy': 4991, 'profil': 4992, 'verg': 4993, 'optimist': 4994, 'hackman': 4995, 'detach': 4996, 'cypher': 4997, 'frontal': 4998, 'scarfac': 4999}\n"
     ]
    }
   ],
   "source": [
    "print(len(word_dict))\n",
    "print(word_dict)"
   ]
  },
  {
   "cell_type": "markdown",
   "metadata": {},
   "source": [
    "**Question:** What are the five most frequently appearing (tokenized) words in the training set? Does it makes sense that these words appear frequently in the training set?"
   ]
  },
  {
   "cell_type": "markdown",
   "metadata": {},
   "source": [
    "**Answer:**\n",
    "\n",
    "The five most frequently appearing (tokenized) words in the training set are printed in the cell below.\n",
    "\n",
    "The two most frequently occuring (tokenized) words are 'movi' and 'film'. This makes sense because the dataset is a collection of movie reviews.\n",
    "\n",
    "The next 3 most frequently occuring (tokenized) words also make sense because they are common words we can expect to find in movie reviews. For example, 'like' is used for comparison - a common way of reviewing a movie.\n",
    "\n",
    "-"
   ]
  },
  {
   "cell_type": "code",
   "execution_count": 18,
   "metadata": {},
   "outputs": [
    {
     "name": "stdout",
     "output_type": "stream",
     "text": [
      "movi, 2\n",
      "film, 3\n",
      "one, 4\n",
      "like, 5\n",
      "time, 6\n"
     ]
    }
   ],
   "source": [
    "# Determine the five most frequently appearing words in the training set.\n",
    "\n",
    "check_dictionary(word_dict, limit=5)"
   ]
  },
  {
   "cell_type": "markdown",
   "metadata": {},
   "source": [
    "### Save `word_dict`\n",
    "\n",
    "Later on when we construct an endpoint which processes a submitted review we will need to make use of the `word_dict` which we have created. As such, we will save it to a file now for future use."
   ]
  },
  {
   "cell_type": "code",
   "execution_count": 19,
   "metadata": {},
   "outputs": [],
   "source": [
    "data_dir = '../data/pytorch' # The folder we will use for storing data\n",
    "if not os.path.exists(data_dir): # Make sure that the folder exists\n",
    "    os.makedirs(data_dir)"
   ]
  },
  {
   "cell_type": "code",
   "execution_count": 20,
   "metadata": {},
   "outputs": [],
   "source": [
    "with open(os.path.join(data_dir, 'word_dict.pkl'), \"wb\") as f:\n",
    "    pickle.dump(word_dict, f)"
   ]
  },
  {
   "cell_type": "markdown",
   "metadata": {},
   "source": [
    "### Transform the reviews\n",
    "\n",
    "Now that we have our word dictionary which allows us to transform the words appearing in the reviews into integers, it is time to make use of it and convert our reviews to their integer sequence representation, making sure to pad or truncate to a fixed length, which in our case is `500`."
   ]
  },
  {
   "cell_type": "code",
   "execution_count": 21,
   "metadata": {},
   "outputs": [],
   "source": [
    "def convert_and_pad(word_dict, sentence, pad=500):\n",
    "    \n",
    "    NOWORD = 0 # We will use 0 to represent the 'no word' category\n",
    "    INFREQ = 1 # and we use 1 to represent the infrequent words, i.e., words not appearing in word_dict\n",
    "    \n",
    "    working_sentence = [NOWORD] * pad\n",
    "    \n",
    "    for word_index, word in enumerate(sentence[:pad]):\n",
    "        \n",
    "        if word in word_dict:\n",
    "            working_sentence[word_index] = word_dict[word]\n",
    "            \n",
    "        else:\n",
    "            working_sentence[word_index] = INFREQ\n",
    "            \n",
    "    return working_sentence, min(len(sentence), pad)\n",
    "\n",
    "\n",
    "def convert_and_pad_data(word_dict, data, pad=500):\n",
    "    \n",
    "    result = []\n",
    "    lengths = []\n",
    "    \n",
    "    for sentence in data:\n",
    "        \n",
    "        converted, leng = convert_and_pad(word_dict, sentence, pad)\n",
    "        \n",
    "        result.append(converted)\n",
    "        lengths.append(leng)\n",
    "        \n",
    "    return np.array(result), np.array(lengths)"
   ]
  },
  {
   "cell_type": "code",
   "execution_count": 22,
   "metadata": {},
   "outputs": [],
   "source": [
    "train_X, train_X_len = convert_and_pad_data(word_dict, train_X)\n",
    "\n",
    "test_X, test_X_len = convert_and_pad_data(word_dict, test_X)"
   ]
  },
  {
   "cell_type": "markdown",
   "metadata": {},
   "source": [
    "As a quick check to make sure that things are working as intended, check to see what one of the reviews in the training set looks like after having been processeed. Does this look reasonable? What is the length of a review in the training set?"
   ]
  },
  {
   "cell_type": "code",
   "execution_count": 23,
   "metadata": {},
   "outputs": [
    {
     "name": "stdout",
     "output_type": "stream",
     "text": [
      "(500,)\n",
      "(25000,)\n",
      "(500,)\n",
      "(25000,)\n",
      "[ 243  493 1803   44   72  377   11    3  304  964    1  176    3  995\n",
      "  751  237  283  254 1402   14  305   77    3  187    1 1615    1    1\n",
      "  237  793 2041   11    3    1   20  237   89  780  149  319  867 2118\n",
      "  237   16  147  486   35  275  882  133   13  759  349  581   77    3\n",
      "   21  377 1379   44   72  132  423    1   44   72 1206  390   11    2\n",
      "  323   91   78   91   14  176  209    6  110  226 2854 1467  964   32\n",
      " 1551 3316   73 2087  168  241 1692 4104   62  128    1  382  602 1692\n",
      " 4104  882   28  506 2568  197  279   11  187  237   61 4550 1414  176\n",
      " 3645   89   29 1097 2868   38  237  793  240    0    0    0    0    0\n",
      "    0    0    0    0    0    0    0    0    0    0    0    0    0    0\n",
      "    0    0    0    0    0    0    0    0    0    0    0    0    0    0\n",
      "    0    0    0    0    0    0    0    0    0    0    0    0    0    0\n",
      "    0    0    0    0    0    0    0    0    0    0    0    0    0    0\n",
      "    0    0    0    0    0    0    0    0    0    0    0    0    0    0\n",
      "    0    0    0    0    0    0    0    0    0    0    0    0    0    0\n",
      "    0    0    0    0    0    0    0    0    0    0    0    0    0    0\n",
      "    0    0    0    0    0    0    0    0    0    0    0    0    0    0\n",
      "    0    0    0    0    0    0    0    0    0    0    0    0    0    0\n",
      "    0    0    0    0    0    0    0    0    0    0    0    0    0    0\n",
      "    0    0    0    0    0    0    0    0    0    0    0    0    0    0\n",
      "    0    0    0    0    0    0    0    0    0    0    0    0    0    0\n",
      "    0    0    0    0    0    0    0    0    0    0    0    0    0    0\n",
      "    0    0    0    0    0    0    0    0    0    0    0    0    0    0\n",
      "    0    0    0    0    0    0    0    0    0    0    0    0    0    0\n",
      "    0    0    0    0    0    0    0    0    0    0    0    0    0    0\n",
      "    0    0    0    0    0    0    0    0    0    0    0    0    0    0\n",
      "    0    0    0    0    0    0    0    0    0    0    0    0    0    0\n",
      "    0    0    0    0    0    0    0    0    0    0    0    0    0    0\n",
      "    0    0    0    0    0    0    0    0    0    0    0    0    0    0\n",
      "    0    0    0    0    0    0    0    0    0    0    0    0    0    0\n",
      "    0    0    0    0    0    0    0    0    0    0    0    0    0    0\n",
      "    0    0    0    0    0    0    0    0    0    0    0    0    0    0\n",
      "    0    0    0    0    0    0    0    0    0    0    0    0    0    0\n",
      "    0    0    0    0    0    0    0    0    0    0    0    0    0    0\n",
      "    0    0    0    0    0    0    0    0    0    0    0    0    0    0\n",
      "    0    0    0    0    0    0    0    0    0    0]\n"
     ]
    }
   ],
   "source": [
    "# Examine one of the processed reviews to make sure everything is working as intended.\n",
    "\n",
    "print(train_X[100].shape)\n",
    "print(train_X_len.shape)\n",
    "print(test_X[100].shape)\n",
    "print(test_X_len.shape)\n",
    "print(train_X[100])"
   ]
  },
  {
   "cell_type": "markdown",
   "metadata": {},
   "source": [
    "**Question:** In the cells above we use the `preprocess_data` and `convert_and_pad_data` methods to process both the training and testing set. Why or why not might this be a problem?"
   ]
  },
  {
   "cell_type": "markdown",
   "metadata": {},
   "source": [
    "**Answer:**\n",
    "\n",
    "Using the preprocess_data function is necessary to convert raw movie reviews into a clean, tokenized format more suitable for training machine learning models (it's not enough preprocessing because they are not numerical representations, but it's a good first step).\n",
    "\n",
    "Using the convert_and_pad_data function is also necessary to convert words into integer encodings since we will be training a recurrent neural network (RNNs only accept tensors as input, which are numerical representations of dataset slices). This function also converts variable-length sequences into tensors of a specific shape (which we must specify in the RNN architecture), while retaining our ability to accept arbitrary-length sequences as inputs.\n",
    "\n",
    "However, there are two downsides to this function:\n",
    "\n",
    "The resulting tensors are sparse (in general, most indices in a given array may be zero).\n",
    "\n",
    "The integer-encoding is arbitrary (it does not capture any relationship between words).\n",
    "\n",
    "An integer-encoding can be challenging for a model to interpret. A linear classifier, for example, learns a single weight for each feature. Because there is no relationship between the similarity of any two words and the similarity of their encodings, this feature-weight combination is not meaningful (source: https://www.tensorflow.org/tutorials/text/word_embeddings).\n",
    "\n",
    "These challenges can be addressed by including a word embedding layer in our RNN architecture.\n",
    "\n",
    "-"
   ]
  },
  {
   "cell_type": "markdown",
   "metadata": {},
   "source": [
    "## Step 3: Upload the data to S3\n",
    "\n",
    "As in the XGBoost notebook, we will need to upload the training dataset to S3 in order for our training code to access it. For now we will save it locally and we will upload to S3 later on.\n",
    "\n",
    "### Save the processed training dataset locally\n",
    "\n",
    "It is important to note the format of the data that we are saving as we will need to know it when we write the training code. In our case, each row of the dataset has the form `label`, `length`, `review[500]` where `review[500]` is a sequence of `500` integers representing the words in the review."
   ]
  },
  {
   "cell_type": "raw",
   "metadata": {},
   "source": [
    "# Run this cell if you do not need a validation set\n",
    "\n",
    "import pandas as pd\n",
    "    \n",
    "pd.concat([pd.DataFrame(train_y), pd.DataFrame(train_X_len), pd.DataFrame(train_X)], axis=1) \\\n",
    "        .to_csv(os.path.join(data_dir, 'train.csv'), header=False, index=False)"
   ]
  },
  {
   "cell_type": "code",
   "execution_count": 24,
   "metadata": {},
   "outputs": [
    {
     "name": "stdout",
     "output_type": "stream",
     "text": [
      "(25000, 502)\n"
     ]
    }
   ],
   "source": [
    "import pandas as pd\n",
    "\n",
    "df = pd.concat([pd.DataFrame(train_y), pd.DataFrame(train_X_len), pd.DataFrame(train_X)], axis=1)\n",
    "\n",
    "print(df.shape)\n",
    "\n",
    "# Already shuffled\n",
    "val_df = df[:10000]\n",
    "train_df = df[10000:]\n",
    "\n",
    "train_df.to_csv(os.path.join(data_dir, 'train.csv'), header=False, index=False)\n",
    "val_df.to_csv(os.path.join(data_dir, 'validation.csv'), header=False, index=False)"
   ]
  },
  {
   "cell_type": "markdown",
   "metadata": {},
   "source": [
    "### Uploading the training data\n",
    "\n",
    "\n",
    "Next, we need to upload the training data to the SageMaker default S3 bucket so that we can provide access to it while training our model."
   ]
  },
  {
   "cell_type": "code",
   "execution_count": 25,
   "metadata": {},
   "outputs": [],
   "source": [
    "import sagemaker\n",
    "\n",
    "sagemaker_session = sagemaker.Session()\n",
    "\n",
    "bucket = sagemaker_session.default_bucket()\n",
    "prefix = 'sagemaker/sentiment_rnn'\n",
    "\n",
    "role = sagemaker.get_execution_role()"
   ]
  },
  {
   "cell_type": "code",
   "execution_count": 26,
   "metadata": {},
   "outputs": [],
   "source": [
    "input_data = sagemaker_session.upload_data(path=data_dir, bucket=bucket, key_prefix=prefix)"
   ]
  },
  {
   "cell_type": "markdown",
   "metadata": {},
   "source": [
    "**NOTE:** The cell above uploads the entire contents of our data directory. This includes the `word_dict.pkl` file. This is fortunate as we will need this later on when we create an endpoint that accepts an arbitrary review. For now, we will just take note of the fact that it resides in the data directory (and so also in the S3 training bucket) and that we will need to make sure it gets saved in the model directory."
   ]
  },
  {
   "cell_type": "markdown",
   "metadata": {},
   "source": [
    "## Step 4: Build and Train the PyTorch Model\n",
    "\n",
    "In the XGBoost notebook we discussed what a model is in the SageMaker framework. In particular, a model comprises three objects\n",
    "\n",
    " - Model Artifacts,\n",
    " - Training Code, and\n",
    " - Inference Code,\n",
    " \n",
    "each of which interact with one another. In the XGBoost example we used training and inference code that was provided by Amazon. Here we will still be using containers provided by Amazon with the added benefit of being able to include our own custom code.\n",
    "\n",
    "We will start by implementing our own neural network in PyTorch along with a training script. For the purposes of this project we have provided the necessary model object in the `model.py` file, inside of the `train` folder. You can see the provided implementation by running the cell below."
   ]
  },
  {
   "cell_type": "code",
   "execution_count": 27,
   "metadata": {},
   "outputs": [
    {
     "name": "stdout",
     "output_type": "stream",
     "text": [
      "\u001b[34mimport\u001b[39;49;00m \u001b[04m\u001b[36mtorch.nn\u001b[39;49;00m \u001b[34mas\u001b[39;49;00m \u001b[04m\u001b[36mnn\u001b[39;49;00m\r\n",
      "\r\n",
      "\u001b[34mclass\u001b[39;49;00m \u001b[04m\u001b[32mLSTMClassifier\u001b[39;49;00m(nn.Module):\r\n",
      "    \u001b[33m\"\"\"\u001b[39;49;00m\r\n",
      "\u001b[33m    This is the simple RNN model we will be using to perform Sentiment Analysis.\u001b[39;49;00m\r\n",
      "\u001b[33m    \"\"\"\u001b[39;49;00m\r\n",
      "\r\n",
      "    \u001b[34mdef\u001b[39;49;00m \u001b[32m__init__\u001b[39;49;00m(\u001b[36mself\u001b[39;49;00m, embedding_dim, hidden_dim, vocab_size, dropout=\u001b[34m0.5\u001b[39;49;00m):\r\n",
      "        \u001b[33m\"\"\"\u001b[39;49;00m\r\n",
      "\u001b[33m        Initialize the model by settingg up the various layers.\u001b[39;49;00m\r\n",
      "\u001b[33m        \"\"\"\u001b[39;49;00m\r\n",
      "        \u001b[36msuper\u001b[39;49;00m(LSTMClassifier, \u001b[36mself\u001b[39;49;00m).\u001b[32m__init__\u001b[39;49;00m()\r\n",
      "\r\n",
      "        \u001b[36mself\u001b[39;49;00m.embedding = nn.Embedding(vocab_size, embedding_dim, padding_idx=\u001b[34m0\u001b[39;49;00m)\r\n",
      "        \u001b[36mself\u001b[39;49;00m.lstm = nn.LSTM(embedding_dim, hidden_dim)\r\n",
      "        \u001b[36mself\u001b[39;49;00m.dropout = nn.Dropout(dropout)\r\n",
      "        \u001b[36mself\u001b[39;49;00m.dense = nn.Linear(in_features=hidden_dim, out_features=\u001b[34m1\u001b[39;49;00m)\r\n",
      "        \u001b[36mself\u001b[39;49;00m.sig = nn.Sigmoid()\r\n",
      "        \r\n",
      "        \u001b[36mself\u001b[39;49;00m.word_dict = \u001b[36mNone\u001b[39;49;00m\r\n",
      "\r\n",
      "    \u001b[34mdef\u001b[39;49;00m \u001b[32mforward\u001b[39;49;00m(\u001b[36mself\u001b[39;49;00m, x):\r\n",
      "        \u001b[33m\"\"\"\u001b[39;49;00m\r\n",
      "\u001b[33m        Perform a forward pass of our model on some input.\u001b[39;49;00m\r\n",
      "\u001b[33m        \"\"\"\u001b[39;49;00m\r\n",
      "        x = x.t()\r\n",
      "        lengths = x[\u001b[34m0\u001b[39;49;00m,:]\r\n",
      "        reviews = x[\u001b[34m1\u001b[39;49;00m:,:]\r\n",
      "        embeds = \u001b[36mself\u001b[39;49;00m.embedding(reviews)\r\n",
      "        lstm_out, _ = \u001b[36mself\u001b[39;49;00m.lstm(embeds)\r\n",
      "        out = \u001b[36mself\u001b[39;49;00m.dropout(lstm_out)\r\n",
      "        out = \u001b[36mself\u001b[39;49;00m.dense(out)\r\n",
      "        out = out[lengths - \u001b[34m1\u001b[39;49;00m, \u001b[36mrange\u001b[39;49;00m(\u001b[36mlen\u001b[39;49;00m(lengths))]\r\n",
      "        \u001b[34mreturn\u001b[39;49;00m \u001b[36mself\u001b[39;49;00m.sig(out.squeeze())\r\n"
     ]
    }
   ],
   "source": [
    "!pygmentize train/model.py"
   ]
  },
  {
   "cell_type": "markdown",
   "metadata": {},
   "source": [
    "The important takeaway from the implementation provided is that there are three parameters that we may wish to tweak to improve the performance of our model. These are the embedding dimension, the hidden dimension and the size of the vocabulary. We will likely want to make these parameters configurable in the training script so that if we wish to modify them we do not need to modify the script itself. We will see how to do this later on. To start we will write some of the training code in the notebook so that we can more easily diagnose any issues that arise.\n",
    "\n",
    "First we will load a small portion of the training data set to use as a sample. It would be very time consuming to try and train the model completely in the notebook as we do not have access to a gpu and the compute instance that we are using is not particularly powerful. However, we can work on a small bit of the data to get a feel for how our training script is behaving."
   ]
  },
  {
   "cell_type": "code",
   "execution_count": 28,
   "metadata": {},
   "outputs": [],
   "source": [
    "import torch\n",
    "import torch.utils.data\n",
    "\n",
    "# Read in only the first 250 rows\n",
    "train_sample = pd.read_csv(os.path.join(data_dir, 'train.csv'), header=None, names=None, nrows=250)\n",
    "\n",
    "# Read in only the first 50 rows\n",
    "val_sample = pd.read_csv(os.path.join(data_dir, 'validation.csv'), header=None, names=None, nrows=50)\n",
    "\n",
    "# Turn the input pandas dataframe into tensors; why do we cast the tensors?\n",
    "train_sample_y = torch.from_numpy(train_sample[[0]].values).float().squeeze() # squeeze out the extra outer dimension of length 1\n",
    "train_sample_X = torch.from_numpy(train_sample.drop([0], axis=1).values).long()\n",
    "\n",
    "val_sample_y = torch.from_numpy(val_sample[[0]].values).float().squeeze() \n",
    "val_sample_X = torch.from_numpy(val_sample.drop([0], axis=1).values).long()\n",
    "\n",
    "# Build the train dataset\n",
    "train_sample_ds = torch.utils.data.TensorDataset(train_sample_X, train_sample_y)\n",
    "\n",
    "# Build the validation dataset\n",
    "val_sample_ds = torch.utils.data.TensorDataset(val_sample_X, val_sample_y)\n",
    "\n",
    "# Build the train dataloader\n",
    "train_sample_dl = torch.utils.data.DataLoader(train_sample_ds, batch_size=50)\n",
    "\n",
    "# Build the validation dataloader\n",
    "val_sample_dl = torch.utils.data.DataLoader(val_sample_ds, batch_size=10)"
   ]
  },
  {
   "cell_type": "code",
   "execution_count": 29,
   "metadata": {},
   "outputs": [
    {
     "name": "stdout",
     "output_type": "stream",
     "text": [
      "(250, 502)\n",
      "torch.Size([250])\n",
      "torch.Size([250, 501])\n",
      "<class 'torch.utils.data.dataset.TensorDataset'>\n",
      "(50, 502)\n",
      "torch.Size([50])\n",
      "torch.Size([50, 501])\n",
      "<class 'torch.utils.data.dataset.TensorDataset'>\n"
     ]
    }
   ],
   "source": [
    "print(train_sample.shape)\n",
    "print(train_sample_y.shape)\n",
    "print(train_sample_X.shape)\n",
    "\n",
    "print(type(train_sample_ds))\n",
    "\n",
    "print(val_sample.shape)\n",
    "print(val_sample_y.shape)\n",
    "print(val_sample_X.shape)\n",
    "\n",
    "print(type(val_sample_ds))"
   ]
  },
  {
   "cell_type": "markdown",
   "metadata": {},
   "source": [
    "### (TODO) Writing the training method\n",
    "\n",
    "Next we need to write the training code itself. This should be very similar to training methods that you have written before to train PyTorch models. We will leave any difficult aspects such as model saving / loading and parameter loading until a little later."
   ]
  },
  {
   "cell_type": "code",
   "execution_count": 30,
   "metadata": {},
   "outputs": [],
   "source": [
    "def validate(model, val_loader):\n",
    "    \n",
    "    ''' Function to compute validation metrics during model training. \n",
    "    \n",
    "    Args: \n",
    "    \n",
    "    model: Model object\n",
    "    val_loader: Validation data loader object\n",
    "    \n",
    "    '''\n",
    "    \n",
    "    # Get validation loss\n",
    "    total_val_loss = 0\n",
    "                \n",
    "    # Switch model to evaluation mode (no dropout, batchnorm, etc)\n",
    "    model.eval()\n",
    "                \n",
    "    # Turn off gradients\n",
    "    with torch.no_grad():\n",
    "                \n",
    "        for val_batch in val_loader:\n",
    "\n",
    "            val_batch_X, val_batch_y = val_batch\n",
    "            \n",
    "            val_batch_X = val_batch_X.to(device)\n",
    "            val_batch_y = val_batch_y.to(device)\n",
    "\n",
    "            val_output = model(val_batch_X)\n",
    "            \n",
    "            val_loss = loss_fn(val_output, val_batch_y)\n",
    "            \n",
    "            total_val_loss += val_loss.data.item()\n",
    "            \n",
    "    return total_val_loss, model"
   ]
  },
  {
   "cell_type": "code",
   "execution_count": 31,
   "metadata": {},
   "outputs": [],
   "source": [
    "def train(model, train_loader, val_loader, epochs, optimizer, loss_fn, device):\n",
    "    \"\"\"\" This function is used for training our LSTM model \"\"\"\n",
    "    \n",
    "    counter = 0\n",
    "    print_every = 100\n",
    "    \n",
    "    for epoch in range(1, epochs + 1):\n",
    "        \n",
    "        model.train()\n",
    "        \n",
    "        total_loss = 0\n",
    "        \n",
    "        for batch in train_loader:\n",
    "            \n",
    "            counter += 1\n",
    "            \n",
    "            # PyTorch accumulates gradients. We need to clear them out before each batch pass.\n",
    "            model.zero_grad()\n",
    "            \n",
    "            batch_X, batch_y = batch\n",
    "            \n",
    "            batch_X = batch_X.to(device)\n",
    "            batch_y = batch_y.to(device)\n",
    "            \n",
    "            # TODO: Complete this train method to train the model provided.\n",
    "            \n",
    "            # Run the forward pass for a given batch\n",
    "            output = model(batch_X)\n",
    "            \n",
    "            # Compute the loss for a given batch\n",
    "            loss = loss_fn(output, batch_y)\n",
    "            \n",
    "            # Accumulate the loss for each batch to get the total loss per epoch\n",
    "            total_loss += loss.data.item()\n",
    "        \n",
    "            # Compute the gradients\n",
    "            loss.backward()\n",
    "            \n",
    "            # Update the model's trainable parameters\n",
    "            optimizer.step()\n",
    "            \n",
    "            # Validation check\n",
    "            if counter % print_every == 0:\n",
    "                \n",
    "                # Compute validation metrics\n",
    "                total_val_loss, model = validate(model, val_loader)\n",
    "\n",
    "                # Switch model back to training mode\n",
    "                model.train()\n",
    "                \n",
    "                print(\"Epoch: {}/{}...\".format(epoch, epochs),\n",
    "                      \"Step: {}...\".format(counter),\n",
    "                      \"BCELoss: {:.6f}...\".format(loss.item()),\n",
    "                      \"Val Loss: {:.6f}\".format(total_val_loss / len(val_loader)))\n",
    "\n",
    "        # For each epoch, log the average loss per batch\n",
    "        print(\"Epoch: {}, BCELoss: {}\".format(epoch, total_loss / len(train_loader)))"
   ]
  },
  {
   "cell_type": "markdown",
   "metadata": {},
   "source": [
    "Supposing we have the training method above, we will test that it is working by writing a bit of code in the notebook that executes our training method on the small sample training set that we loaded earlier. The reason for doing this in the notebook is so that we have an opportunity to fix any errors that arise early when they are easier to diagnose."
   ]
  },
  {
   "cell_type": "code",
   "execution_count": 32,
   "metadata": {},
   "outputs": [
    {
     "name": "stdout",
     "output_type": "stream",
     "text": [
      "Epoch: 1, BCELoss: 0.6904426217079163\n",
      "Epoch: 2, BCELoss: 0.6866111636161805\n",
      "Epoch: 3, BCELoss: 0.6786683440208435\n",
      "Epoch: 4, BCELoss: 0.6749716401100159\n",
      "Epoch: 5, BCELoss: 0.6687509894371033\n",
      "Epoch: 6, BCELoss: 0.6656842470169068\n",
      "Epoch: 7, BCELoss: 0.6598123550415039\n",
      "Epoch: 8, BCELoss: 0.6452728986740113\n",
      "Epoch: 9, BCELoss: 0.6337792158126831\n",
      "Epoch: 10, BCELoss: 0.6175179600715637\n",
      "Epoch: 11, BCELoss: 0.5888906955718994\n",
      "Epoch: 12, BCELoss: 0.5507838368415833\n",
      "Epoch: 13, BCELoss: 0.5280527770519257\n",
      "Epoch: 14, BCELoss: 0.5195475935935974\n",
      "Epoch: 15, BCELoss: 0.4883092105388641\n",
      "Epoch: 16, BCELoss: 0.45836010575294495\n",
      "Epoch: 17, BCELoss: 0.4282156527042389\n",
      "Epoch: 18, BCELoss: 0.3877768039703369\n",
      "Epoch: 19, BCELoss: 0.3465302884578705\n",
      "Epoch: 20/20... Step: 100... BCELoss: 0.272369... Val Loss: 0.771220\n",
      "Epoch: 20, BCELoss: 0.32077698707580565\n"
     ]
    }
   ],
   "source": [
    "import torch.optim as optim\n",
    "from train.model import LSTMClassifier\n",
    "\n",
    "device = torch.device(\"cuda\" if torch.cuda.is_available() else \"cpu\")\n",
    "\n",
    "model = LSTMClassifier(32, 100, 5000).to(device)\n",
    "\n",
    "optimizer = optim.Adam(model.parameters())\n",
    "\n",
    "loss_fn = torch.nn.BCELoss()\n",
    "\n",
    "train(model, train_sample_dl, val_sample_dl, 20, optimizer, loss_fn, device)"
   ]
  },
  {
   "cell_type": "markdown",
   "metadata": {},
   "source": [
    "In order to construct a PyTorch model using SageMaker we must provide SageMaker with a training script. We may optionally include a directory which will be copied to the container and from which our training code will be run. When the training container is executed it will check the uploaded directory (if there is one) for a `requirements.txt` file and install any required Python libraries, after which the training script will be run."
   ]
  },
  {
   "cell_type": "markdown",
   "metadata": {},
   "source": [
    "### (TODO) Training the model\n",
    "\n",
    "When a PyTorch model is constructed in SageMaker, an entry point must be specified. This is the Python file which will be executed when the model is trained. Inside of the `train` directory is a file called `train.py` which has been provided and which contains most of the necessary code to train our model. The only thing that is missing is the implementation of the `train()` method which you wrote earlier in this notebook.\n",
    "\n",
    "**TODO**: Copy the `train()` method written above and paste it into the `train/train.py` file where required.\n",
    "\n",
    "The way that SageMaker passes hyperparameters to the training script is by way of arguments. These arguments can then be parsed and used in the training script. To see how this is done take a look at the provided `train/train.py` file."
   ]
  },
  {
   "cell_type": "code",
   "execution_count": 33,
   "metadata": {},
   "outputs": [],
   "source": [
    "from sagemaker.pytorch import PyTorch\n",
    "\n",
    "estimator = PyTorch(entry_point=\"train.py\",\n",
    "                    source_dir=\"train\",\n",
    "                    role=role,\n",
    "                    framework_version='1.4.0',\n",
    "                    train_instance_count=1,\n",
    "                    train_instance_type='ml.p2.xlarge',\n",
    "                    hyperparameters={\n",
    "                        'batch-size': 32,\n",
    "                        'epochs': 15,\n",
    "                        'embedding_dim': 16,\n",
    "                        'hidden_dim': 100,\n",
    "                        'dropout': 0.5,\n",
    "                    })"
   ]
  },
  {
   "cell_type": "code",
   "execution_count": null,
   "metadata": {},
   "outputs": [
    {
     "name": "stdout",
     "output_type": "stream",
     "text": [
      "2020-04-07 19:08:31 Starting - Starting the training job...\n",
      "2020-04-07 19:08:33 Starting - Launching requested ML instances...\n",
      "2020-04-07 19:09:31 Starting - Preparing the instances for training.........\n",
      "2020-04-07 19:10:57 Downloading - Downloading input data......\n",
      "2020-04-07 19:11:57 Training - Downloading the training image.........\n",
      "2020-04-07 19:13:22 Training - Training image download completed. Training in progress.\u001b[34mbash: cannot set terminal process group (-1): Inappropriate ioctl for device\u001b[0m\n",
      "\u001b[34mbash: no job control in this shell\u001b[0m\n",
      "\u001b[34m2020-04-07 19:13:23,656 sagemaker-containers INFO     Imported framework sagemaker_pytorch_container.training\u001b[0m\n",
      "\u001b[34m2020-04-07 19:13:23,682 sagemaker_pytorch_container.training INFO     Block until all host DNS lookups succeed.\u001b[0m\n",
      "\u001b[34m2020-04-07 19:13:23,687 sagemaker_pytorch_container.training INFO     Invoking user training script.\u001b[0m\n",
      "\u001b[34m2020-04-07 19:13:23,977 sagemaker-containers INFO     Module default_user_module_name does not provide a setup.py. \u001b[0m\n",
      "\u001b[34mGenerating setup.py\u001b[0m\n",
      "\u001b[34m2020-04-07 19:13:23,977 sagemaker-containers INFO     Generating setup.cfg\u001b[0m\n",
      "\u001b[34m2020-04-07 19:13:23,977 sagemaker-containers INFO     Generating MANIFEST.in\u001b[0m\n",
      "\u001b[34m2020-04-07 19:13:23,977 sagemaker-containers INFO     Installing module with the following command:\u001b[0m\n",
      "\u001b[34m/opt/conda/bin/python -m pip install . -r requirements.txt\u001b[0m\n",
      "\u001b[34mProcessing /tmp/tmp0i1ylowj/module_dir\u001b[0m\n",
      "\u001b[34mRequirement already satisfied: pandas in /opt/conda/lib/python3.6/site-packages (from -r requirements.txt (line 1)) (0.25.0)\u001b[0m\n",
      "\u001b[34mRequirement already satisfied: numpy in /opt/conda/lib/python3.6/site-packages (from -r requirements.txt (line 2)) (1.16.4)\u001b[0m\n",
      "\u001b[34mCollecting nltk\n",
      "  Downloading nltk-3.4.5.zip (1.5 MB)\u001b[0m\n",
      "\u001b[34mRequirement already satisfied: beautifulsoup4 in /opt/conda/lib/python3.6/site-packages (from -r requirements.txt (line 4)) (4.8.2)\u001b[0m\n",
      "\u001b[34mCollecting html5lib\n",
      "  Downloading html5lib-1.0.1-py2.py3-none-any.whl (117 kB)\u001b[0m\n",
      "\u001b[34mRequirement already satisfied: python-dateutil>=2.6.1 in /opt/conda/lib/python3.6/site-packages (from pandas->-r requirements.txt (line 1)) (2.8.1)\u001b[0m\n",
      "\u001b[34mRequirement already satisfied: pytz>=2017.2 in /opt/conda/lib/python3.6/site-packages (from pandas->-r requirements.txt (line 1)) (2019.3)\u001b[0m\n",
      "\u001b[34mRequirement already satisfied: six in /opt/conda/lib/python3.6/site-packages (from nltk->-r requirements.txt (line 3)) (1.14.0)\u001b[0m\n",
      "\u001b[34mRequirement already satisfied: soupsieve>=1.2 in /opt/conda/lib/python3.6/site-packages (from beautifulsoup4->-r requirements.txt (line 4)) (2.0)\u001b[0m\n",
      "\u001b[34mCollecting webencodings\n",
      "  Downloading webencodings-0.5.1-py2.py3-none-any.whl (11 kB)\u001b[0m\n",
      "\u001b[34mBuilding wheels for collected packages: nltk, default-user-module-name\n",
      "  Building wheel for nltk (setup.py): started\u001b[0m\n",
      "\u001b[34m  Building wheel for nltk (setup.py): finished with status 'done'\n",
      "  Created wheel for nltk: filename=nltk-3.4.5-py3-none-any.whl size=1449909 sha256=5e79fc49e90aab726844a91b024f3b47bc3ed05585db78da9a3e4c63426ff5fb\n",
      "  Stored in directory: /root/.cache/pip/wheels/e3/c9/b0/ed26a73ef75a53145820825afa8e2d2c9b30fe9f6c10cd3202\n",
      "  Building wheel for default-user-module-name (setup.py): started\n",
      "  Building wheel for default-user-module-name (setup.py): finished with status 'done'\n",
      "  Created wheel for default-user-module-name: filename=default_user_module_name-1.0.0-py2.py3-none-any.whl size=15406 sha256=7aa777685177393e244433ecccc0cbcdf36fd3b757082bf77a7dd4aa109abc20\n",
      "  Stored in directory: /tmp/pip-ephem-wheel-cache-r60z4icn/wheels/52/ea/2d/5e463700d31b3a2e8c95faeb28ed5a8e0e2e8692ce38e10e83\u001b[0m\n",
      "\u001b[34mSuccessfully built nltk default-user-module-name\u001b[0m\n",
      "\u001b[34mInstalling collected packages: nltk, webencodings, html5lib, default-user-module-name\u001b[0m\n",
      "\u001b[34mSuccessfully installed default-user-module-name-1.0.0 html5lib-1.0.1 nltk-3.4.5 webencodings-0.5.1\u001b[0m\n",
      "\u001b[34m2020-04-07 19:13:29,184 sagemaker-containers INFO     Invoking user script\n",
      "\u001b[0m\n",
      "\u001b[34mTraining Env:\n",
      "\u001b[0m\n",
      "\u001b[34m{\n",
      "    \"additional_framework_parameters\": {},\n",
      "    \"channel_input_dirs\": {\n",
      "        \"training\": \"/opt/ml/input/data/training\"\n",
      "    },\n",
      "    \"current_host\": \"algo-1\",\n",
      "    \"framework_module\": \"sagemaker_pytorch_container.training:main\",\n",
      "    \"hosts\": [\n",
      "        \"algo-1\"\n",
      "    ],\n",
      "    \"hyperparameters\": {\n",
      "        \"batch-size\": 32,\n",
      "        \"hidden_dim\": 100,\n",
      "        \"dropout\": 0.5,\n",
      "        \"embedding_dim\": 16,\n",
      "        \"epochs\": 15\n",
      "    },\n",
      "    \"input_config_dir\": \"/opt/ml/input/config\",\n",
      "    \"input_data_config\": {\n",
      "        \"training\": {\n",
      "            \"TrainingInputMode\": \"File\",\n",
      "            \"S3DistributionType\": \"FullyReplicated\",\n",
      "            \"RecordWrapperType\": \"None\"\n",
      "        }\n",
      "    },\n",
      "    \"input_dir\": \"/opt/ml/input\",\n",
      "    \"is_master\": true,\n",
      "    \"job_name\": \"pytorch-training-2020-04-07-19-08-31-138\",\n",
      "    \"log_level\": 20,\n",
      "    \"master_hostname\": \"algo-1\",\n",
      "    \"model_dir\": \"/opt/ml/model\",\n",
      "    \"module_dir\": \"s3://sagemaker-us-east-2-470523073883/pytorch-training-2020-04-07-19-08-31-138/source/sourcedir.tar.gz\",\n",
      "    \"module_name\": \"train\",\n",
      "    \"network_interface_name\": \"eth0\",\n",
      "    \"num_cpus\": 4,\n",
      "    \"num_gpus\": 1,\n",
      "    \"output_data_dir\": \"/opt/ml/output/data\",\n",
      "    \"output_dir\": \"/opt/ml/output\",\n",
      "    \"output_intermediate_dir\": \"/opt/ml/output/intermediate\",\n",
      "    \"resource_config\": {\n",
      "        \"current_host\": \"algo-1\",\n",
      "        \"hosts\": [\n",
      "            \"algo-1\"\n",
      "        ],\n",
      "        \"network_interface_name\": \"eth0\"\n",
      "    },\n",
      "    \"user_entry_point\": \"train.py\"\u001b[0m\n",
      "\u001b[34m}\n",
      "\u001b[0m\n",
      "\u001b[34mEnvironment variables:\n",
      "\u001b[0m\n",
      "\u001b[34mSM_HOSTS=[\"algo-1\"]\u001b[0m\n",
      "\u001b[34mSM_NETWORK_INTERFACE_NAME=eth0\u001b[0m\n",
      "\u001b[34mSM_HPS={\"batch-size\":32,\"dropout\":0.5,\"embedding_dim\":16,\"epochs\":15,\"hidden_dim\":100}\u001b[0m\n",
      "\u001b[34mSM_USER_ENTRY_POINT=train.py\u001b[0m\n",
      "\u001b[34mSM_FRAMEWORK_PARAMS={}\u001b[0m\n",
      "\u001b[34mSM_RESOURCE_CONFIG={\"current_host\":\"algo-1\",\"hosts\":[\"algo-1\"],\"network_interface_name\":\"eth0\"}\u001b[0m\n",
      "\u001b[34mSM_INPUT_DATA_CONFIG={\"training\":{\"RecordWrapperType\":\"None\",\"S3DistributionType\":\"FullyReplicated\",\"TrainingInputMode\":\"File\"}}\u001b[0m\n",
      "\u001b[34mSM_OUTPUT_DATA_DIR=/opt/ml/output/data\u001b[0m\n",
      "\u001b[34mSM_CHANNELS=[\"training\"]\u001b[0m\n",
      "\u001b[34mSM_CURRENT_HOST=algo-1\u001b[0m\n",
      "\u001b[34mSM_MODULE_NAME=train\u001b[0m\n",
      "\u001b[34mSM_LOG_LEVEL=20\u001b[0m\n",
      "\u001b[34mSM_FRAMEWORK_MODULE=sagemaker_pytorch_container.training:main\u001b[0m\n",
      "\u001b[34mSM_INPUT_DIR=/opt/ml/input\u001b[0m\n",
      "\u001b[34mSM_INPUT_CONFIG_DIR=/opt/ml/input/config\u001b[0m\n",
      "\u001b[34mSM_OUTPUT_DIR=/opt/ml/output\u001b[0m\n",
      "\u001b[34mSM_NUM_CPUS=4\u001b[0m\n",
      "\u001b[34mSM_NUM_GPUS=1\u001b[0m\n",
      "\u001b[34mSM_MODEL_DIR=/opt/ml/model\u001b[0m\n",
      "\u001b[34mSM_MODULE_DIR=s3://sagemaker-us-east-2-470523073883/pytorch-training-2020-04-07-19-08-31-138/source/sourcedir.tar.gz\u001b[0m\n",
      "\u001b[34mSM_TRAINING_ENV={\"additional_framework_parameters\":{},\"channel_input_dirs\":{\"training\":\"/opt/ml/input/data/training\"},\"current_host\":\"algo-1\",\"framework_module\":\"sagemaker_pytorch_container.training:main\",\"hosts\":[\"algo-1\"],\"hyperparameters\":{\"batch-size\":32,\"dropout\":0.5,\"embedding_dim\":16,\"epochs\":15,\"hidden_dim\":100},\"input_config_dir\":\"/opt/ml/input/config\",\"input_data_config\":{\"training\":{\"RecordWrapperType\":\"None\",\"S3DistributionType\":\"FullyReplicated\",\"TrainingInputMode\":\"File\"}},\"input_dir\":\"/opt/ml/input\",\"is_master\":true,\"job_name\":\"pytorch-training-2020-04-07-19-08-31-138\",\"log_level\":20,\"master_hostname\":\"algo-1\",\"model_dir\":\"/opt/ml/model\",\"module_dir\":\"s3://sagemaker-us-east-2-470523073883/pytorch-training-2020-04-07-19-08-31-138/source/sourcedir.tar.gz\",\"module_name\":\"train\",\"network_interface_name\":\"eth0\",\"num_cpus\":4,\"num_gpus\":1,\"output_data_dir\":\"/opt/ml/output/data\",\"output_dir\":\"/opt/ml/output\",\"output_intermediate_dir\":\"/opt/ml/output/intermediate\",\"resource_config\":{\"current_host\":\"algo-1\",\"hosts\":[\"algo-1\"],\"network_interface_name\":\"eth0\"},\"user_entry_point\":\"train.py\"}\u001b[0m\n",
      "\u001b[34mSM_USER_ARGS=[\"--batch-size\",\"32\",\"--dropout\",\"0.5\",\"--embedding_dim\",\"16\",\"--epochs\",\"15\",\"--hidden_dim\",\"100\"]\u001b[0m\n",
      "\u001b[34mSM_OUTPUT_INTERMEDIATE_DIR=/opt/ml/output/intermediate\u001b[0m\n",
      "\u001b[34mSM_CHANNEL_TRAINING=/opt/ml/input/data/training\u001b[0m\n",
      "\u001b[34mSM_HP_BATCH-SIZE=32\u001b[0m\n",
      "\u001b[34mSM_HP_HIDDEN_DIM=100\u001b[0m\n",
      "\u001b[34mSM_HP_DROPOUT=0.5\u001b[0m\n",
      "\u001b[34mSM_HP_EMBEDDING_DIM=16\u001b[0m\n",
      "\u001b[34mSM_HP_EPOCHS=15\u001b[0m\n",
      "\u001b[34mPYTHONPATH=/opt/ml/code:/opt/conda/bin:/opt/conda/lib/python36.zip:/opt/conda/lib/python3.6:/opt/conda/lib/python3.6/lib-dynload:/opt/conda/lib/python3.6/site-packages\n",
      "\u001b[0m\n",
      "\u001b[34mInvoking script with the following command:\n",
      "\u001b[0m\n",
      "\u001b[34m/opt/conda/bin/python train.py --batch-size 32 --dropout 0.5 --embedding_dim 16 --epochs 15 --hidden_dim 100\n",
      "\n",
      "\u001b[0m\n"
     ]
    },
    {
     "name": "stdout",
     "output_type": "stream",
     "text": [
      "\u001b[34mUsing device cuda.\u001b[0m\n",
      "\u001b[34mGet train data loader.\u001b[0m\n",
      "\u001b[34mGet validation data loader.\u001b[0m\n",
      "\u001b[34mModel loaded with embedding_dim 16, hidden_dim 100, vocab_size 5000, dropout 0.5.\u001b[0m\n",
      "\u001b[34m[2020-04-07 19:13:37.669 algo-1:48 INFO json_config.py:90] Creating hook from json_config at /opt/ml/input/config/debughookconfig.json.\u001b[0m\n",
      "\u001b[34m[2020-04-07 19:13:37.670 algo-1:48 INFO hook.py:170] tensorboard_dir has not been set for the hook. SMDebug will not be exporting tensorboard summaries.\u001b[0m\n",
      "\u001b[34m[2020-04-07 19:13:37.670 algo-1:48 INFO hook.py:215] Saving to /opt/ml/output/tensors\u001b[0m\n",
      "\u001b[34m[2020-04-07 19:13:37.682 algo-1:48 INFO hook.py:351] Monitoring the collections: losses\u001b[0m\n",
      "\u001b[34mEpoch: 1/15... Step: 100... BCELoss: 0.681036... Val Loss: 0.682783\u001b[0m\n",
      "\u001b[34mEpoch: 1/15... Step: 200... BCELoss: 0.688161... Val Loss: 0.671405\u001b[0m\n",
      "\u001b[34mEpoch: 1/15... Step: 300... BCELoss: 0.687457... Val Loss: 0.620301\u001b[0m\n",
      "\u001b[34mEpoch: 1/15... Step: 400... BCELoss: 0.668564... Val Loss: 0.605153\u001b[0m\n",
      "\u001b[34mEpoch: 1, BCELoss: 0.656347, Val Loss: 0.605153\u001b[0m\n",
      "\u001b[34mEpoch: 2/15... Step: 500... BCELoss: 0.495262... Val Loss: 0.569839\u001b[0m\n",
      "\u001b[34mEpoch: 2/15... Step: 600... BCELoss: 0.635659... Val Loss: 0.606265\u001b[0m\n",
      "\u001b[34mEpoch: 2/15... Step: 700... BCELoss: 0.626048... Val Loss: 0.595088\u001b[0m\n",
      "\u001b[34mEpoch: 2/15... Step: 800... BCELoss: 0.679025... Val Loss: 0.490667\u001b[0m\n",
      "\u001b[34mEpoch: 2/15... Step: 900... BCELoss: 0.310551... Val Loss: 0.468504\u001b[0m\n",
      "\u001b[34mEpoch: 2, BCELoss: 0.536995, Val Loss: 0.468504\u001b[0m\n",
      "\u001b[34mEpoch: 3/15... Step: 1000... BCELoss: 0.353204... Val Loss: 0.473199\u001b[0m\n",
      "\u001b[34mEpoch: 3/15... Step: 1100... BCELoss: 0.463072... Val Loss: 0.439212\u001b[0m\n",
      "\u001b[34mEpoch: 3/15... Step: 1200... BCELoss: 0.531422... Val Loss: 0.443669\u001b[0m\n",
      "\u001b[34mEpoch: 3/15... Step: 1300... BCELoss: 0.345935... Val Loss: 0.517023\u001b[0m\n",
      "\u001b[34mEpoch: 3/15... Step: 1400... BCELoss: 0.573797... Val Loss: 0.495925\u001b[0m\n",
      "\u001b[34mEpoch: 3, BCELoss: 0.434592, Val Loss: 0.495925\u001b[0m\n",
      "\u001b[34mEpoch: 4/15... Step: 1500... BCELoss: 0.174201... Val Loss: 0.423732\u001b[0m\n",
      "\u001b[34mEpoch: 4/15... Step: 1600... BCELoss: 0.307053... Val Loss: 0.406830\u001b[0m\n",
      "\u001b[34mEpoch: 4/15... Step: 1700... BCELoss: 0.281067... Val Loss: 0.416671\u001b[0m\n",
      "\u001b[34mEpoch: 4/15... Step: 1800... BCELoss: 0.343019... Val Loss: 0.404261\u001b[0m\n",
      "\u001b[34mEpoch: 4, BCELoss: 0.381678, Val Loss: 0.404261\u001b[0m\n",
      "\u001b[34mEpoch: 5/15... Step: 1900... BCELoss: 0.567066... Val Loss: 0.527713\u001b[0m\n",
      "\u001b[34mEpoch: 5/15... Step: 2000... BCELoss: 0.579991... Val Loss: 0.550188\u001b[0m\n",
      "\u001b[34mEpoch: 5/15... Step: 2100... BCELoss: 0.267398... Val Loss: 0.428852\u001b[0m\n",
      "\u001b[34mEpoch: 5/15... Step: 2200... BCELoss: 0.264196... Val Loss: 0.433075\u001b[0m\n",
      "\u001b[34mEpoch: 5/15... Step: 2300... BCELoss: 0.365740... Val Loss: 0.399406\u001b[0m\n",
      "\u001b[34mEpoch: 5, BCELoss: 0.425125, Val Loss: 0.399406\u001b[0m\n",
      "\u001b[34mEpoch: 6/15... Step: 2400... BCELoss: 0.380859... Val Loss: 0.402134\u001b[0m\n",
      "\u001b[34mEpoch: 6/15... Step: 2500... BCELoss: 0.242863... Val Loss: 0.405788\u001b[0m\n",
      "\u001b[34mEpoch: 6/15... Step: 2600... BCELoss: 0.398430... Val Loss: 0.381226\u001b[0m\n",
      "\u001b[34mEpoch: 6/15... Step: 2700... BCELoss: 0.224067... Val Loss: 0.400326\u001b[0m\n",
      "\u001b[34mEpoch: 6/15... Step: 2800... BCELoss: 0.283053... Val Loss: 0.387686\u001b[0m\n",
      "\u001b[34mEpoch: 6, BCELoss: 0.332996, Val Loss: 0.387686\u001b[0m\n",
      "\u001b[34mEpoch: 7/15... Step: 2900... BCELoss: 0.287886... Val Loss: 0.375066\u001b[0m\n",
      "\u001b[34mEpoch: 7/15... Step: 3000... BCELoss: 0.216396... Val Loss: 0.375237\u001b[0m\n",
      "\u001b[34mEpoch: 7/15... Step: 3100... BCELoss: 0.281659... Val Loss: 0.361129\u001b[0m\n",
      "\u001b[34mEpoch: 7/15... Step: 3200... BCELoss: 0.389228... Val Loss: 0.385498\u001b[0m\n",
      "\u001b[34mEpoch: 7, BCELoss: 0.312300, Val Loss: 0.385498\u001b[0m\n",
      "\u001b[34mEpoch: 8/15... Step: 3300... BCELoss: 0.564269... Val Loss: 0.376108\u001b[0m\n",
      "\u001b[34mEpoch: 8/15... Step: 3400... BCELoss: 0.339879... Val Loss: 0.373818\u001b[0m\n",
      "\u001b[34mEpoch: 8/15... Step: 3500... BCELoss: 0.156918... Val Loss: 0.384003\u001b[0m\n",
      "\u001b[34mEpoch: 8/15... Step: 3600... BCELoss: 0.340068... Val Loss: 0.353840\u001b[0m\n",
      "\u001b[34mEpoch: 8/15... Step: 3700... BCELoss: 0.190127... Val Loss: 0.351041\u001b[0m\n",
      "\u001b[34mEpoch: 8, BCELoss: 0.279910, Val Loss: 0.351041\u001b[0m\n",
      "\u001b[34mEpoch: 9/15... Step: 3800... BCELoss: 0.339721... Val Loss: 0.369125\u001b[0m\n",
      "\u001b[34mEpoch: 9/15... Step: 3900... BCELoss: 0.294523... Val Loss: 0.357057\u001b[0m\n",
      "\u001b[34mEpoch: 9/15... Step: 4000... BCELoss: 0.098105... Val Loss: 0.381191\u001b[0m\n",
      "\u001b[34mEpoch: 9/15... Step: 4100... BCELoss: 0.100060... Val Loss: 0.356259\u001b[0m\n",
      "\u001b[34mEpoch: 9/15... Step: 4200... BCELoss: 0.145145... Val Loss: 0.359088\u001b[0m\n",
      "\u001b[34mEpoch: 9, BCELoss: 0.261048, Val Loss: 0.359088\u001b[0m\n",
      "\u001b[34mEpoch: 10/15... Step: 4300... BCELoss: 0.509152... Val Loss: 0.350877\u001b[0m\n",
      "\u001b[34mEpoch: 10/15... Step: 4400... BCELoss: 0.325197... Val Loss: 0.357215\u001b[0m\n",
      "\u001b[34mEpoch: 10/15... Step: 4500... BCELoss: 0.263253... Val Loss: 0.357524\u001b[0m\n",
      "\u001b[34mEpoch: 10/15... Step: 4600... BCELoss: 0.307910... Val Loss: 0.355927\u001b[0m\n",
      "\u001b[34mEpoch: 10, BCELoss: 0.240772, Val Loss: 0.355927\u001b[0m\n",
      "\u001b[34mEpoch: 11/15... Step: 4700... BCELoss: 0.216197... Val Loss: 0.358047\u001b[0m\n",
      "\u001b[34mEpoch: 11/15... Step: 4800... BCELoss: 0.146900... Val Loss: 0.357248\u001b[0m\n",
      "\u001b[34mEpoch: 11/15... Step: 4900... BCELoss: 0.093559... Val Loss: 0.372675\u001b[0m\n",
      "\u001b[34mEpoch: 11/15... Step: 5000... BCELoss: 0.226702... Val Loss: 0.377692\u001b[0m\n",
      "\u001b[34mEpoch: 11/15... Step: 5100... BCELoss: 0.250131... Val Loss: 0.355349\u001b[0m\n",
      "\u001b[34mEpoch: 11, BCELoss: 0.227417, Val Loss: 0.355349\u001b[0m\n",
      "\u001b[34mEpoch: 12/15... Step: 5200... BCELoss: 0.199976... Val Loss: 0.370671\u001b[0m\n",
      "\u001b[34mEpoch: 12/15... Step: 5300... BCELoss: 0.222657... Val Loss: 0.350819\u001b[0m\n",
      "\u001b[34mEpoch: 12/15... Step: 5400... BCELoss: 0.238598... Val Loss: 0.357613\u001b[0m\n",
      "\u001b[34mEpoch: 12/15... Step: 5500... BCELoss: 0.167367... Val Loss: 0.368604\u001b[0m\n",
      "\u001b[34mEpoch: 12/15... Step: 5600... BCELoss: 0.617789... Val Loss: 0.535398\u001b[0m\n",
      "\u001b[34mEpoch: 12, BCELoss: 0.292246, Val Loss: 0.535398\u001b[0m\n",
      "\u001b[34mEpoch: 13/15... Step: 5700... BCELoss: 0.281834... Val Loss: 0.375369\u001b[0m\n",
      "\u001b[34mEpoch: 13/15... Step: 5800... BCELoss: 0.132128... Val Loss: 0.409128\u001b[0m\n",
      "\u001b[34mEpoch: 13/15... Step: 5900... BCELoss: 0.153139... Val Loss: 0.366115\u001b[0m\n",
      "\u001b[34mEpoch: 13/15... Step: 6000... BCELoss: 0.160796... Val Loss: 0.383785\u001b[0m\n",
      "\u001b[34mEpoch: 13, BCELoss: 0.260141, Val Loss: 0.383785\u001b[0m\n",
      "\u001b[34mEpoch: 14/15... Step: 6100... BCELoss: 0.405409... Val Loss: 0.387978\u001b[0m\n",
      "\u001b[34mEpoch: 14/15... Step: 6200... BCELoss: 0.103994... Val Loss: 0.396015\u001b[0m\n",
      "\u001b[34mEpoch: 14/15... Step: 6300... BCELoss: 0.289566... Val Loss: 0.361943\u001b[0m\n",
      "\u001b[34mEpoch: 14/15... Step: 6400... BCELoss: 0.110095... Val Loss: 0.360892\u001b[0m\n",
      "\u001b[34mEpoch: 14/15... Step: 6500... BCELoss: 0.164810... Val Loss: 0.356003\u001b[0m\n",
      "\u001b[34mEpoch: 14, BCELoss: 0.209997, Val Loss: 0.356003\u001b[0m\n",
      "\u001b[34mEpoch: 15/15... Step: 6600... BCELoss: 0.135219... Val Loss: 0.359237\u001b[0m\n",
      "\u001b[34mEpoch: 15/15... Step: 6700... BCELoss: 0.232957... Val Loss: 0.363332\u001b[0m\n",
      "\u001b[34mEpoch: 15/15... Step: 6800... BCELoss: 0.158117... Val Loss: 0.380286\u001b[0m\n",
      "\u001b[34mEpoch: 15/15... Step: 6900... BCELoss: 0.102086... Val Loss: 0.364245\u001b[0m\n",
      "\u001b[34mEpoch: 15/15... Step: 7000... BCELoss: 0.091641... Val Loss: 0.393825\u001b[0m\n",
      "\u001b[34mEpoch: 15, BCELoss: 0.187075, Val Loss: 0.393825\u001b[0m\n",
      "\u001b[34m[2020-04-07 19:29:45.191 algo-1:48 INFO utils.py:25] The end of training job file will not be written for jobs running under SageMaker.\u001b[0m\n",
      "\u001b[34m2020-04-07 19:29:45,656 sagemaker-containers INFO     Reporting training SUCCESS\u001b[0m\n",
      "\n",
      "2020-04-07 19:29:53 Uploading - Uploading generated training model\n",
      "2020-04-07 19:29:53 Completed - Training job completed\n",
      "Training seconds: 1136\n",
      "Billable seconds: 1136\n"
     ]
    }
   ],
   "source": [
    "estimator.fit({'training': input_data})"
   ]
  },
  {
   "cell_type": "markdown",
   "metadata": {},
   "source": [
    "## Step 5: Testing the model\n",
    "\n",
    "As mentioned at the top of this notebook, we will be testing this model by first deploying it and then sending the testing data to the deployed endpoint. We will do this so that we can make sure that the deployed model is working correctly.\n",
    "\n",
    "## Step 6: Deploy the model for testing\n",
    "\n",
    "Now that we have trained our model, we would like to test it to see how it performs. Currently our model takes input of the form `review_length, review[500]` where `review[500]` is a sequence of `500` integers which describe the words present in the review, encoded using `word_dict`. Fortunately for us, SageMaker provides built-in inference code for models with simple inputs such as this.\n",
    "\n",
    "There is one thing that we need to provide, however, and that is a function which loads the saved model. This function must be called `model_fn()` and takes as its only parameter a path to the directory where the model artifacts are stored. This function must also be present in the python file which we specified as the entry point. In our case the model loading function has been provided and so no changes need to be made.\n",
    "\n",
    "**NOTE**: When the built-in inference code is run it must import the `model_fn()` method from the `train.py` file. This is why the training code is wrapped in a main guard ( ie, `if __name__ == '__main__':` )\n",
    "\n",
    "Since we don't need to change anything in the code that was uploaded during training, we can simply deploy the current model as-is.\n",
    "\n",
    "**NOTE:** When deploying a model you are asking SageMaker to launch an compute instance that will wait for data to be sent to it. As a result, this compute instance will continue to run until *you* shut it down. This is important to know since the cost of a deployed endpoint depends on how long it has been running for.\n",
    "\n",
    "In other words **If you are no longer using a deployed endpoint, shut it down!**\n",
    "\n",
    "**TODO:** Deploy the trained model."
   ]
  },
  {
   "cell_type": "code",
   "execution_count": 35,
   "metadata": {},
   "outputs": [
    {
     "name": "stdout",
     "output_type": "stream",
     "text": [
      "-------------!"
     ]
    }
   ],
   "source": [
    "# TODO: Deploy the trained model\n",
    "\n",
    "estimator_predictor = estimator.deploy(initial_instance_count=1, instance_type='ml.m4.xlarge')"
   ]
  },
  {
   "cell_type": "markdown",
   "metadata": {},
   "source": [
    "## Step 7 - Use the model for testing\n",
    "\n",
    "Once deployed, we can read in the test data and send it off to our deployed model to get some results. Once we collect all of the results we can determine how accurate our model is."
   ]
  },
  {
   "cell_type": "code",
   "execution_count": 36,
   "metadata": {},
   "outputs": [],
   "source": [
    "test_X = pd.concat([pd.DataFrame(test_X_len), pd.DataFrame(test_X)], axis=1)"
   ]
  },
  {
   "cell_type": "code",
   "execution_count": 37,
   "metadata": {},
   "outputs": [],
   "source": [
    "# We split the data into chunks and send each chunk seperately, accumulating the results.\n",
    "\n",
    "def predict(data, rows=512):\n",
    "    split_array = np.array_split(data, int(data.shape[0] / float(rows) + 1))\n",
    "    predictions = np.array([])\n",
    "    for array in split_array:\n",
    "        predictions = np.append(predictions, estimator_predictor.predict(array))\n",
    "    \n",
    "    return predictions"
   ]
  },
  {
   "cell_type": "code",
   "execution_count": 38,
   "metadata": {},
   "outputs": [],
   "source": [
    "predictions = predict(test_X.values)\n",
    "predictions = [round(num) for num in predictions]"
   ]
  },
  {
   "cell_type": "code",
   "execution_count": 39,
   "metadata": {},
   "outputs": [
    {
     "data": {
      "text/plain": [
       "0.85132"
      ]
     },
     "execution_count": 39,
     "metadata": {},
     "output_type": "execute_result"
    }
   ],
   "source": [
    "from sklearn.metrics import accuracy_score\n",
    "accuracy_score(test_y, predictions)"
   ]
  },
  {
   "cell_type": "markdown",
   "metadata": {},
   "source": [
    "**Question:** How does this model compare to the XGBoost model you created earlier? Why might these two models perform differently on this dataset? Which do *you* think is better for sentiment analysis?"
   ]
  },
  {
   "cell_type": "markdown",
   "metadata": {},
   "source": [
    "**Answer:**\n",
    "\n",
    "XGBoost performs essentially the same as this RNN (accuracy score of 0.85784 for XGBoost vs 0.85132 for PyTorch RNN).\n",
    "\n",
    "These two models perform differently on a given dataset due to:\n",
    "\n",
    "* The specific way the data is preprocessed/encoded.\n",
    "* The specific way individual algorithms work.\n",
    "* The specific architecture of each type of algorithm.\n",
    "* The choice of hyperparameters and how relative combinations impact performance.\n",
    "\n",
    "Current RNN model is overfitting (as measured by logging training and validation error). A dropout layer with p = 0.5 was added for regularization, along with lowering the embedding_dim, hidden_dim, and batch_size.\n",
    "\n",
    "In general, RNN architectures may be better for sentiment analysis because of RNNs' ability to learn highly complex nonlinear functions that map text inputs to classification outputs. RNNs can also learn similarities, temporal dependencies, meanings, and relationships between words. RNNs are also able to increase performance with increasing amounts of data (vs traditional machine learning algorithms, such as XGBoost, which approach a limit after a dataset size threshold).\n",
    "\n",
    "-"
   ]
  },
  {
   "cell_type": "markdown",
   "metadata": {},
   "source": [
    "### (TODO) More testing\n",
    "\n",
    "We now have a trained model which has been deployed and which we can send processed reviews to and which returns the predicted sentiment. However, ultimately we would like to be able to send our model an unprocessed review. That is, we would like to send the review itself as a string. For example, suppose we wish to send the following review to our model."
   ]
  },
  {
   "cell_type": "code",
   "execution_count": 40,
   "metadata": {},
   "outputs": [],
   "source": [
    "test_review = 'The simplest pleasures in life are the best, and this film is one of them. Combining a rather basic storyline of love and adventure this movie transcends the usual weekend fair with wit and unmitigated charm.'"
   ]
  },
  {
   "cell_type": "markdown",
   "metadata": {},
   "source": [
    "The question we now need to answer is, how do we send this review to our model?\n",
    "\n",
    "Recall in the first section of this notebook we did a bunch of data processing to the IMDb dataset. In particular, we did two specific things to the provided reviews.\n",
    " - Removed any html tags and stemmed the input\n",
    " - Encoded the review as a sequence of integers using `word_dict`\n",
    " \n",
    "In order process the review we will need to repeat these two steps.\n",
    "\n",
    "**TODO**: Using the `review_to_words` and `convert_and_pad` methods from section one, convert `test_review` into a numpy array `test_data` suitable to send to our model. Remember that our model expects input of the form `review_length, review[500]`."
   ]
  },
  {
   "cell_type": "code",
   "execution_count": 41,
   "metadata": {},
   "outputs": [
    {
     "name": "stdout",
     "output_type": "stream",
     "text": [
      "[[  20    1 1375   50   53    3    4  878  173  392  682   29  723    2\n",
      "  4426  275 2081 1060  760    1  580    0    0    0    0    0    0    0\n",
      "     0    0    0    0    0    0    0    0    0    0    0    0    0    0\n",
      "     0    0    0    0    0    0    0    0    0    0    0    0    0    0\n",
      "     0    0    0    0    0    0    0    0    0    0    0    0    0    0\n",
      "     0    0    0    0    0    0    0    0    0    0    0    0    0    0\n",
      "     0    0    0    0    0    0    0    0    0    0    0    0    0    0\n",
      "     0    0    0    0    0    0    0    0    0    0    0    0    0    0\n",
      "     0    0    0    0    0    0    0    0    0    0    0    0    0    0\n",
      "     0    0    0    0    0    0    0    0    0    0    0    0    0    0\n",
      "     0    0    0    0    0    0    0    0    0    0    0    0    0    0\n",
      "     0    0    0    0    0    0    0    0    0    0    0    0    0    0\n",
      "     0    0    0    0    0    0    0    0    0    0    0    0    0    0\n",
      "     0    0    0    0    0    0    0    0    0    0    0    0    0    0\n",
      "     0    0    0    0    0    0    0    0    0    0    0    0    0    0\n",
      "     0    0    0    0    0    0    0    0    0    0    0    0    0    0\n",
      "     0    0    0    0    0    0    0    0    0    0    0    0    0    0\n",
      "     0    0    0    0    0    0    0    0    0    0    0    0    0    0\n",
      "     0    0    0    0    0    0    0    0    0    0    0    0    0    0\n",
      "     0    0    0    0    0    0    0    0    0    0    0    0    0    0\n",
      "     0    0    0    0    0    0    0    0    0    0    0    0    0    0\n",
      "     0    0    0    0    0    0    0    0    0    0    0    0    0    0\n",
      "     0    0    0    0    0    0    0    0    0    0    0    0    0    0\n",
      "     0    0    0    0    0    0    0    0    0    0    0    0    0    0\n",
      "     0    0    0    0    0    0    0    0    0    0    0    0    0    0\n",
      "     0    0    0    0    0    0    0    0    0    0    0    0    0    0\n",
      "     0    0    0    0    0    0    0    0    0    0    0    0    0    0\n",
      "     0    0    0    0    0    0    0    0    0    0    0    0    0    0\n",
      "     0    0    0    0    0    0    0    0    0    0    0    0    0    0\n",
      "     0    0    0    0    0    0    0    0    0    0    0    0    0    0\n",
      "     0    0    0    0    0    0    0    0    0    0    0    0    0    0\n",
      "     0    0    0    0    0    0    0    0    0    0    0    0    0    0\n",
      "     0    0    0    0    0    0    0    0    0    0    0    0    0    0\n",
      "     0    0    0    0    0    0    0    0    0    0    0    0    0    0\n",
      "     0    0    0    0    0    0    0    0    0    0    0    0    0    0\n",
      "     0    0    0    0    0    0    0    0    0    0    0]]\n",
      "20\n",
      "1\n",
      "(1, 501)\n"
     ]
    }
   ],
   "source": [
    "# TODO: Convert test_review into a form usable by the model and save the results in test_data\n",
    "\n",
    "encoded_data = review_to_words(test_review)\n",
    "\n",
    "test_data, review_length = convert_and_pad(word_dict, encoded_data, pad=500)\n",
    "\n",
    "#test_data = [review_length] + test_data\n",
    "#test_data = np.array([test_data])\n",
    "\n",
    "test_data = np.hstack((review_length, test_data))\n",
    "test_data = test_data.reshape(1, -1)\n",
    "\n",
    "print(test_data)\n",
    "print(review_length)\n",
    "print(len(test_data))\n",
    "print(test_data.shape)"
   ]
  },
  {
   "cell_type": "markdown",
   "metadata": {},
   "source": [
    "Now that we have processed the review, we can send the resulting array to our model to predict the sentiment of the review."
   ]
  },
  {
   "cell_type": "code",
   "execution_count": 42,
   "metadata": {},
   "outputs": [
    {
     "data": {
      "text/plain": [
       "array(0.98761111)"
      ]
     },
     "execution_count": 42,
     "metadata": {},
     "output_type": "execute_result"
    }
   ],
   "source": [
    "estimator_predictor.predict(test_data)"
   ]
  },
  {
   "cell_type": "markdown",
   "metadata": {},
   "source": [
    "Since the return value of our model is close to `1`, we can be certain that the review we submitted is positive."
   ]
  },
  {
   "cell_type": "markdown",
   "metadata": {},
   "source": [
    "### Delete the endpoint\n",
    "\n",
    "Of course, just like in the XGBoost notebook, once we've deployed an endpoint it continues to run until we tell it to shut down. Since we are done using our endpoint for now, we can delete it."
   ]
  },
  {
   "cell_type": "code",
   "execution_count": 43,
   "metadata": {},
   "outputs": [],
   "source": [
    "estimator_predictor.delete_endpoint()"
   ]
  },
  {
   "cell_type": "markdown",
   "metadata": {},
   "source": [
    "## Step 6 (again) - Deploy the model for the web app\n",
    "\n",
    "Now that we know that our model is working, it's time to create some custom inference code so that we can send the model a review which has not been processed and have it determine the sentiment of the review.\n",
    "\n",
    "As we saw above, by default the estimator which we created, when deployed, will use the entry script and directory which we provided when creating the model. However, since we now wish to accept a string as input and our model expects a processed review, we need to write some custom inference code.\n",
    "\n",
    "We will store the code that we write in the `serve` directory. Provided in this directory is the `model.py` file that we used to construct our model, a `utils.py` file which contains the `review_to_words` and `convert_and_pad` pre-processing functions which we used during the initial data processing, and `predict.py`, the file which will contain our custom inference code. Note also that `requirements.txt` is present which will tell SageMaker what Python libraries are required by our custom inference code.\n",
    "\n",
    "When deploying a PyTorch model in SageMaker, you are expected to provide four functions which the SageMaker inference container will use.\n",
    " - `model_fn`: This function is the same function that we used in the training script and it tells SageMaker how to load our model.\n",
    " - `input_fn`: This function receives the raw serialized input that has been sent to the model's endpoint and its job is to de-serialize and make the input available for the inference code.\n",
    " - `output_fn`: This function takes the output of the inference code and its job is to serialize this output and return it to the caller of the model's endpoint.\n",
    " - `predict_fn`: The heart of the inference script, this is where the actual prediction is done and is the function which you will need to complete.\n",
    "\n",
    "For the simple website that we are constructing during this project, the `input_fn` and `output_fn` methods are relatively straightforward. We only require being able to accept a string as input and we expect to return a single value as output. You might imagine though that in a more complex application the input or output may be image data or some other binary data which would require some effort to serialize.\n",
    "\n",
    "### (TODO) Writing inference code\n",
    "\n",
    "Before writing our custom inference code, we will begin by taking a look at the code which has been provided."
   ]
  },
  {
   "cell_type": "code",
   "execution_count": 55,
   "metadata": {},
   "outputs": [
    {
     "name": "stdout",
     "output_type": "stream",
     "text": [
      "\u001b[34mimport\u001b[39;49;00m \u001b[04m\u001b[36margparse\u001b[39;49;00m\r\n",
      "\u001b[34mimport\u001b[39;49;00m \u001b[04m\u001b[36mjson\u001b[39;49;00m\r\n",
      "\u001b[34mimport\u001b[39;49;00m \u001b[04m\u001b[36mos\u001b[39;49;00m\r\n",
      "\u001b[34mimport\u001b[39;49;00m \u001b[04m\u001b[36mpickle\u001b[39;49;00m\r\n",
      "\u001b[34mimport\u001b[39;49;00m \u001b[04m\u001b[36msys\u001b[39;49;00m\r\n",
      "\u001b[34mimport\u001b[39;49;00m \u001b[04m\u001b[36msagemaker_containers\u001b[39;49;00m\r\n",
      "\u001b[34mimport\u001b[39;49;00m \u001b[04m\u001b[36mpandas\u001b[39;49;00m \u001b[34mas\u001b[39;49;00m \u001b[04m\u001b[36mpd\u001b[39;49;00m\r\n",
      "\u001b[34mimport\u001b[39;49;00m \u001b[04m\u001b[36mnumpy\u001b[39;49;00m \u001b[34mas\u001b[39;49;00m \u001b[04m\u001b[36mnp\u001b[39;49;00m\r\n",
      "\u001b[34mimport\u001b[39;49;00m \u001b[04m\u001b[36mtorch\u001b[39;49;00m\r\n",
      "\u001b[34mimport\u001b[39;49;00m \u001b[04m\u001b[36mtorch.nn\u001b[39;49;00m \u001b[34mas\u001b[39;49;00m \u001b[04m\u001b[36mnn\u001b[39;49;00m\r\n",
      "\u001b[34mimport\u001b[39;49;00m \u001b[04m\u001b[36mtorch.optim\u001b[39;49;00m \u001b[34mas\u001b[39;49;00m \u001b[04m\u001b[36moptim\u001b[39;49;00m\r\n",
      "\u001b[34mimport\u001b[39;49;00m \u001b[04m\u001b[36mtorch.utils.data\u001b[39;49;00m\r\n",
      "\r\n",
      "\u001b[34mfrom\u001b[39;49;00m \u001b[04m\u001b[36mmodel\u001b[39;49;00m \u001b[34mimport\u001b[39;49;00m LSTMClassifier\r\n",
      "\r\n",
      "\u001b[34mfrom\u001b[39;49;00m \u001b[04m\u001b[36mutils\u001b[39;49;00m \u001b[34mimport\u001b[39;49;00m review_to_words, convert_and_pad\r\n",
      "\r\n",
      "\u001b[34mdef\u001b[39;49;00m \u001b[32mmodel_fn\u001b[39;49;00m(model_dir):\r\n",
      "    \u001b[33m\"\"\"Load the PyTorch model from the `model_dir` directory.\"\"\"\u001b[39;49;00m\r\n",
      "    \u001b[34mprint\u001b[39;49;00m(\u001b[33m\"\u001b[39;49;00m\u001b[33mLoading model.\u001b[39;49;00m\u001b[33m\"\u001b[39;49;00m)\r\n",
      "\r\n",
      "    \u001b[37m# First, load the parameters used to create the model.\u001b[39;49;00m\r\n",
      "    model_info = {}\r\n",
      "    model_info_path = os.path.join(model_dir, \u001b[33m'\u001b[39;49;00m\u001b[33mmodel_info.pth\u001b[39;49;00m\u001b[33m'\u001b[39;49;00m)\r\n",
      "    \u001b[34mwith\u001b[39;49;00m \u001b[36mopen\u001b[39;49;00m(model_info_path, \u001b[33m'\u001b[39;49;00m\u001b[33mrb\u001b[39;49;00m\u001b[33m'\u001b[39;49;00m) \u001b[34mas\u001b[39;49;00m f:\r\n",
      "        model_info = torch.load(f)\r\n",
      "\r\n",
      "    \u001b[34mprint\u001b[39;49;00m(\u001b[33m\"\u001b[39;49;00m\u001b[33mmodel_info: {}\u001b[39;49;00m\u001b[33m\"\u001b[39;49;00m.format(model_info))\r\n",
      "\r\n",
      "    \u001b[37m# Determine the device and construct the model.\u001b[39;49;00m\r\n",
      "    device = torch.device(\u001b[33m\"\u001b[39;49;00m\u001b[33mcuda\u001b[39;49;00m\u001b[33m\"\u001b[39;49;00m \u001b[34mif\u001b[39;49;00m torch.cuda.is_available() \u001b[34melse\u001b[39;49;00m \u001b[33m\"\u001b[39;49;00m\u001b[33mcpu\u001b[39;49;00m\u001b[33m\"\u001b[39;49;00m)\r\n",
      "    model = LSTMClassifier(model_info[\u001b[33m'\u001b[39;49;00m\u001b[33membedding_dim\u001b[39;49;00m\u001b[33m'\u001b[39;49;00m], model_info[\u001b[33m'\u001b[39;49;00m\u001b[33mhidden_dim\u001b[39;49;00m\u001b[33m'\u001b[39;49;00m], model_info[\u001b[33m'\u001b[39;49;00m\u001b[33mvocab_size\u001b[39;49;00m\u001b[33m'\u001b[39;49;00m], model_info[\u001b[33m'\u001b[39;49;00m\u001b[33mdropout\u001b[39;49;00m\u001b[33m'\u001b[39;49;00m])\r\n",
      "\r\n",
      "    \u001b[37m# Load the stored model parameters.\u001b[39;49;00m\r\n",
      "    model_path = os.path.join(model_dir, \u001b[33m'\u001b[39;49;00m\u001b[33mmodel.pth\u001b[39;49;00m\u001b[33m'\u001b[39;49;00m)\r\n",
      "    \u001b[34mwith\u001b[39;49;00m \u001b[36mopen\u001b[39;49;00m(model_path, \u001b[33m'\u001b[39;49;00m\u001b[33mrb\u001b[39;49;00m\u001b[33m'\u001b[39;49;00m) \u001b[34mas\u001b[39;49;00m f:\r\n",
      "        model.load_state_dict(torch.load(f))\r\n",
      "\r\n",
      "    \u001b[37m# Load the saved word_dict.\u001b[39;49;00m\r\n",
      "    word_dict_path = os.path.join(model_dir, \u001b[33m'\u001b[39;49;00m\u001b[33mword_dict.pkl\u001b[39;49;00m\u001b[33m'\u001b[39;49;00m)\r\n",
      "    \u001b[34mwith\u001b[39;49;00m \u001b[36mopen\u001b[39;49;00m(word_dict_path, \u001b[33m'\u001b[39;49;00m\u001b[33mrb\u001b[39;49;00m\u001b[33m'\u001b[39;49;00m) \u001b[34mas\u001b[39;49;00m f:\r\n",
      "        model.word_dict = pickle.load(f)\r\n",
      "\r\n",
      "    model.to(device).eval()\r\n",
      "\r\n",
      "    \u001b[34mprint\u001b[39;49;00m(\u001b[33m\"\u001b[39;49;00m\u001b[33mDone loading model.\u001b[39;49;00m\u001b[33m\"\u001b[39;49;00m)\r\n",
      "    \u001b[34mreturn\u001b[39;49;00m model\r\n",
      "\r\n",
      "\u001b[34mdef\u001b[39;49;00m \u001b[32minput_fn\u001b[39;49;00m(serialized_input_data, content_type):\r\n",
      "    \u001b[34mprint\u001b[39;49;00m(\u001b[33m'\u001b[39;49;00m\u001b[33mDeserializing the input data.\u001b[39;49;00m\u001b[33m'\u001b[39;49;00m)\r\n",
      "    \u001b[34mif\u001b[39;49;00m content_type == \u001b[33m'\u001b[39;49;00m\u001b[33mtext/plain\u001b[39;49;00m\u001b[33m'\u001b[39;49;00m:\r\n",
      "        data = serialized_input_data.decode(\u001b[33m'\u001b[39;49;00m\u001b[33mutf-8\u001b[39;49;00m\u001b[33m'\u001b[39;49;00m)\r\n",
      "        \u001b[34mreturn\u001b[39;49;00m data\r\n",
      "    \u001b[34mraise\u001b[39;49;00m \u001b[36mException\u001b[39;49;00m(\u001b[33m'\u001b[39;49;00m\u001b[33mRequested unsupported ContentType in content_type: \u001b[39;49;00m\u001b[33m'\u001b[39;49;00m + content_type)\r\n",
      "\r\n",
      "\u001b[34mdef\u001b[39;49;00m \u001b[32moutput_fn\u001b[39;49;00m(prediction_output, accept):\r\n",
      "    \u001b[34mprint\u001b[39;49;00m(\u001b[33m'\u001b[39;49;00m\u001b[33mSerializing the generated output.\u001b[39;49;00m\u001b[33m'\u001b[39;49;00m)\r\n",
      "    \u001b[34mreturn\u001b[39;49;00m \u001b[36mstr\u001b[39;49;00m(prediction_output)\r\n",
      "\r\n",
      "\u001b[34mdef\u001b[39;49;00m \u001b[32mpredict_fn\u001b[39;49;00m(input_data, model):\r\n",
      "    \u001b[34mprint\u001b[39;49;00m(\u001b[33m'\u001b[39;49;00m\u001b[33mInferring sentiment of input data.\u001b[39;49;00m\u001b[33m'\u001b[39;49;00m)\r\n",
      "\r\n",
      "    device = torch.device(\u001b[33m\"\u001b[39;49;00m\u001b[33mcuda\u001b[39;49;00m\u001b[33m\"\u001b[39;49;00m \u001b[34mif\u001b[39;49;00m torch.cuda.is_available() \u001b[34melse\u001b[39;49;00m \u001b[33m\"\u001b[39;49;00m\u001b[33mcpu\u001b[39;49;00m\u001b[33m\"\u001b[39;49;00m)\r\n",
      "    \r\n",
      "    \u001b[34mif\u001b[39;49;00m model.word_dict \u001b[35mis\u001b[39;49;00m \u001b[36mNone\u001b[39;49;00m:\r\n",
      "        \u001b[34mraise\u001b[39;49;00m \u001b[36mException\u001b[39;49;00m(\u001b[33m'\u001b[39;49;00m\u001b[33mModel has not been loaded properly, no word_dict.\u001b[39;49;00m\u001b[33m'\u001b[39;49;00m)\r\n",
      "    \r\n",
      "    \u001b[37m# TODO: Process input_data so that it is ready to be sent to our model.\u001b[39;49;00m\r\n",
      "    \u001b[37m#       You should produce two variables:\u001b[39;49;00m\r\n",
      "    \u001b[37m#         data_X   - A sequence of length 500 which represents the converted review\u001b[39;49;00m\r\n",
      "    \u001b[37m#         data_len - The length of the review\u001b[39;49;00m\r\n",
      "\r\n",
      "    data_X = \u001b[36mNone\u001b[39;49;00m\r\n",
      "    data_len = \u001b[36mNone\u001b[39;49;00m\r\n",
      "    \r\n",
      "    encoded_data = review_to_words(input_data)\r\n",
      "\r\n",
      "    data_X, data_len = convert_and_pad(model.word_dict, encoded_data, pad=\u001b[34m500\u001b[39;49;00m)\r\n",
      "\r\n",
      "    \u001b[37m#data_X = [data_len] + test_data\u001b[39;49;00m\r\n",
      "    \u001b[37m#data_X = np.array([data_X])\u001b[39;49;00m\r\n",
      "\r\n",
      "    \u001b[37m# Using data_X and data_len we construct an appropriate input tensor. Remember\u001b[39;49;00m\r\n",
      "    \u001b[37m# that our model expects input data of the form 'len, review[500]'.\u001b[39;49;00m\r\n",
      "    data_pack = np.hstack((data_len, data_X))\r\n",
      "    data_pack = data_pack.reshape(\u001b[34m1\u001b[39;49;00m, -\u001b[34m1\u001b[39;49;00m)\r\n",
      "    \r\n",
      "    data = torch.from_numpy(data_pack)\r\n",
      "    data = data.to(device)\r\n",
      "\r\n",
      "    \u001b[37m# Make sure to put the model into evaluation mode\u001b[39;49;00m\r\n",
      "    model.eval()\r\n",
      "\r\n",
      "    \u001b[37m# TODO: Compute the result of applying the model to the input data. The variable `result` should\u001b[39;49;00m\r\n",
      "    \u001b[37m#       be a numpy array which contains a single integer which is either 1 or 0\u001b[39;49;00m\r\n",
      "\r\n",
      "    result = model(data)\r\n",
      "    \r\n",
      "    \u001b[34mprint\u001b[39;49;00m(result.shape)\r\n",
      "    \u001b[34mprint\u001b[39;49;00m(\u001b[36mtype\u001b[39;49;00m(result))\r\n",
      "    \u001b[34mprint\u001b[39;49;00m(result)\r\n",
      "    \r\n",
      "    result = result.detach().numpy()\r\n",
      "    \r\n",
      "    \u001b[34mprint\u001b[39;49;00m(result.shape)\r\n",
      "    \u001b[34mprint\u001b[39;49;00m(\u001b[36mtype\u001b[39;49;00m(result))\r\n",
      "    \u001b[34mprint\u001b[39;49;00m(result)\r\n",
      "\r\n",
      "    \u001b[34mreturn\u001b[39;49;00m result\r\n"
     ]
    }
   ],
   "source": [
    "!pygmentize serve/predict.py"
   ]
  },
  {
   "cell_type": "markdown",
   "metadata": {},
   "source": [
    "As mentioned earlier, the `model_fn` method is the same as the one provided in the training code and the `input_fn` and `output_fn` methods are very simple and your task will be to complete the `predict_fn` method. Make sure that you save the completed file as `predict.py` in the `serve` directory.\n",
    "\n",
    "**TODO**: Complete the `predict_fn()` method in the `serve/predict.py` file."
   ]
  },
  {
   "cell_type": "markdown",
   "metadata": {},
   "source": [
    "### Deploying the model\n",
    "\n",
    "Now that the custom inference code has been written, we will create and deploy our model. To begin with, we need to construct a new PyTorchModel object which points to the model artifacts created during training and also points to the inference code that we wish to use. Then we can call the deploy method to launch the deployment container.\n",
    "\n",
    "**NOTE**: The default behaviour for a deployed PyTorch model is to assume that any input passed to the predictor is a `numpy` array. In our case we want to send a string so we need to construct a simple wrapper around the `RealTimePredictor` class to accomodate simple strings. In a more complicated situation you may want to provide a serialization object, for example if you wanted to sent image data."
   ]
  },
  {
   "cell_type": "code",
   "execution_count": null,
   "metadata": {},
   "outputs": [
    {
     "name": "stdout",
     "output_type": "stream",
     "text": [
      "-------------!"
     ]
    }
   ],
   "source": [
    "from sagemaker.predictor import RealTimePredictor\n",
    "from sagemaker.pytorch import PyTorchModel\n",
    "\n",
    "class StringPredictor(RealTimePredictor):\n",
    "    def __init__(self, endpoint_name, sagemaker_session):\n",
    "        super(StringPredictor, self).__init__(endpoint_name, sagemaker_session, content_type='text/plain')\n",
    "\n",
    "model = PyTorchModel(model_data=estimator.model_data,\n",
    "                     role = role,\n",
    "                     framework_version='1.4.0',\n",
    "                     entry_point='predict.py',\n",
    "                     source_dir='serve',\n",
    "                     predictor_cls=StringPredictor)\n",
    "\n",
    "predictor = model.deploy(initial_instance_count=1, instance_type='ml.m4.xlarge')"
   ]
  },
  {
   "cell_type": "markdown",
   "metadata": {},
   "source": [
    "### Testing the model\n",
    "\n",
    "Now that we have deployed our model with the custom inference code, we should test to see if everything is working. Here we test our model by loading the first `250` positive and negative reviews and send them to the endpoint, then collect the results. The reason for only sending some of the data is that the amount of time it takes for our model to process the input and then perform inference is quite long and so testing the entire data set would be prohibitive."
   ]
  },
  {
   "cell_type": "code",
   "execution_count": 70,
   "metadata": {},
   "outputs": [],
   "source": [
    "import glob\n",
    "\n",
    "def test_reviews(data_dir='../data/aclImdb', stop=250):\n",
    "    \n",
    "    results = []\n",
    "    ground = []\n",
    "    \n",
    "    # We make sure to test both positive and negative reviews    \n",
    "    for sentiment in ['pos', 'neg']:\n",
    "        \n",
    "        path = os.path.join(data_dir, 'test', sentiment, '*.txt')\n",
    "        files = glob.glob(path)\n",
    "        \n",
    "        files_read = 0\n",
    "        \n",
    "        print('Starting ', sentiment, ' files')\n",
    "        \n",
    "        # Iterate through the files and send them to the predictor\n",
    "        for f in files:\n",
    "            with open(f) as review:\n",
    "                # First, we store the ground truth (was the review positive or negative)\n",
    "                if sentiment == 'pos':\n",
    "                    ground.append(1)\n",
    "                else:\n",
    "                    ground.append(0)\n",
    "                # Read in the review and convert to 'utf-8' for transmission via HTTP\n",
    "                review_input = review.read().encode('utf-8')\n",
    "                \n",
    "                # Send the review to the predictor and store the results\n",
    "                output = predictor.predict(review_input)\n",
    "                \n",
    "                output = round(float(output.decode('utf-8')))\n",
    "                \n",
    "                results.append(int(output))\n",
    "                \n",
    "            # Sending reviews to our endpoint one at a time takes a while so we\n",
    "            # only send a small number of reviews\n",
    "            files_read += 1\n",
    "            if files_read == stop:\n",
    "                break\n",
    "            \n",
    "    return ground, results"
   ]
  },
  {
   "cell_type": "code",
   "execution_count": 71,
   "metadata": {},
   "outputs": [
    {
     "name": "stdout",
     "output_type": "stream",
     "text": [
      "Starting  pos  files\n",
      "Starting  neg  files\n"
     ]
    }
   ],
   "source": [
    "ground, results = test_reviews()"
   ]
  },
  {
   "cell_type": "code",
   "execution_count": 72,
   "metadata": {},
   "outputs": [
    {
     "data": {
      "text/plain": [
       "0.834"
      ]
     },
     "execution_count": 72,
     "metadata": {},
     "output_type": "execute_result"
    }
   ],
   "source": [
    "from sklearn.metrics import accuracy_score\n",
    "accuracy_score(ground, results)"
   ]
  },
  {
   "cell_type": "markdown",
   "metadata": {},
   "source": [
    "As an additional test, we can try sending the `test_review` that we looked at earlier."
   ]
  },
  {
   "cell_type": "code",
   "execution_count": 73,
   "metadata": {},
   "outputs": [
    {
     "data": {
      "text/plain": [
       "b'0.9876111'"
      ]
     },
     "execution_count": 73,
     "metadata": {},
     "output_type": "execute_result"
    }
   ],
   "source": [
    "predictor.predict(test_review)"
   ]
  },
  {
   "cell_type": "markdown",
   "metadata": {},
   "source": [
    "Now that we know our endpoint is working as expected, we can set up the web page that will interact with it. If you don't have time to finish the project now, make sure to skip down to the end of this notebook and shut down your endpoint. You can deploy it again when you come back."
   ]
  },
  {
   "cell_type": "markdown",
   "metadata": {},
   "source": [
    "## Step 7 (again): Use the model for the web app\n",
    "\n",
    "> **TODO:** This entire section and the next contain tasks for you to complete, mostly using the AWS console.\n",
    "\n",
    "So far we have been accessing our model endpoint by constructing a predictor object which uses the endpoint and then just using the predictor object to perform inference. What if we wanted to create a web app which accessed our model? The way things are set up currently makes that not possible since in order to access a SageMaker endpoint the app would first have to authenticate with AWS using an IAM role which included access to SageMaker endpoints. However, there is an easier way! We just need to use some additional AWS services.\n",
    "\n",
    "<img src=\"Web App Diagram.svg\">\n",
    "\n",
    "The diagram above gives an overview of how the various services will work together. On the far right is the model which we trained above and which is deployed using SageMaker. On the far left is our web app that collects a user's movie review, sends it off and expects a positive or negative sentiment in return.\n",
    "\n",
    "In the middle is where some of the magic happens. We will construct a Lambda function, which you can think of as a straightforward Python function that can be executed whenever a specified event occurs. We will give this function permission to send and recieve data from a SageMaker endpoint.\n",
    "\n",
    "Lastly, the method we will use to execute the Lambda function is a new endpoint that we will create using API Gateway. This endpoint will be a url that listens for data to be sent to it. Once it gets some data it will pass that data on to the Lambda function and then return whatever the Lambda function returns. Essentially it will act as an interface that lets our web app communicate with the Lambda function.\n",
    "\n",
    "### Setting up a Lambda function\n",
    "\n",
    "The first thing we are going to do is set up a Lambda function. This Lambda function will be executed whenever our public API has data sent to it. When it is executed it will receive the data, perform any sort of processing that is required, send the data (the review) to the SageMaker endpoint we've created and then return the result.\n",
    "\n",
    "#### Part A: Create an IAM Role for the Lambda function\n",
    "\n",
    "Since we want the Lambda function to call a SageMaker endpoint, we need to make sure that it has permission to do so. To do this, we will construct a role that we can later give the Lambda function.\n",
    "\n",
    "Using the AWS Console, navigate to the **IAM** page and click on **Roles**. Then, click on **Create role**. Make sure that the **AWS service** is the type of trusted entity selected and choose **Lambda** as the service that will use this role, then click **Next: Permissions**.\n",
    "\n",
    "In the search box type `sagemaker` and select the check box next to the **AmazonSageMakerFullAccess** policy. Then, click on **Next: Review**.\n",
    "\n",
    "Lastly, give this role a name. Make sure you use a name that you will remember later on, for example `LambdaSageMakerRole`. Then, click on **Create role**.\n",
    "\n",
    "#### Part B: Create a Lambda function\n",
    "\n",
    "Now it is time to actually create the Lambda function.\n",
    "\n",
    "Using the AWS Console, navigate to the AWS Lambda page and click on **Create a function**. When you get to the next page, make sure that **Author from scratch** is selected. Now, name your Lambda function, using a name that you will remember later on, for example `sentiment_analysis_func`. Make sure that the **Python 3.6** runtime is selected and then choose the role that you created in the previous part. Then, click on **Create Function**.\n",
    "\n",
    "On the next page you will see some information about the Lambda function you've just created. If you scroll down you should see an editor in which you can write the code that will be executed when your Lambda function is triggered. In our example, we will use the code below. \n",
    "\n",
    "```python\n",
    "# We need to use the low-level library to interact with SageMaker since the SageMaker API\n",
    "# is not available natively through Lambda.\n",
    "import boto3\n",
    "\n",
    "def lambda_handler(event, context):\n",
    "\n",
    "    # The SageMaker runtime is what allows us to invoke the endpoint that we've created.\n",
    "    runtime = boto3.Session().client('sagemaker-runtime')\n",
    "\n",
    "    # Now we use the SageMaker runtime to invoke our endpoint, sending the review we were given\n",
    "    response = runtime.invoke_endpoint(EndpointName = '**ENDPOINT NAME HERE**',    # The name of the endpoint we created\n",
    "                                       ContentType = 'text/plain',                 # The data format that is expected\n",
    "                                       Body = event['body'])                       # The actual review\n",
    "\n",
    "    # The response is an HTTP response whose body contains the result of our inference\n",
    "    result = response['Body'].read().decode('utf-8')\n",
    "\n",
    "    return {\n",
    "        'statusCode' : 200,\n",
    "        'headers' : { 'Content-Type' : 'text/plain', 'Access-Control-Allow-Origin' : '*' },\n",
    "        'body' : result\n",
    "    }\n",
    "```\n",
    "\n",
    "Once you have copy and pasted the code above into the Lambda code editor, replace the `**ENDPOINT NAME HERE**` portion with the name of the endpoint that we deployed earlier. You can determine the name of the endpoint using the code cell below."
   ]
  },
  {
   "cell_type": "code",
   "execution_count": 74,
   "metadata": {},
   "outputs": [
    {
     "data": {
      "text/plain": [
       "'pytorch-inference-2020-04-07-16-30-35-651'"
      ]
     },
     "execution_count": 74,
     "metadata": {},
     "output_type": "execute_result"
    }
   ],
   "source": [
    "predictor.endpoint"
   ]
  },
  {
   "cell_type": "markdown",
   "metadata": {},
   "source": [
    "Once you have added the endpoint name to the Lambda function, click on **Save**. Your Lambda function is now up and running. Next we need to create a way for our web app to execute the Lambda function.\n",
    "\n",
    "### Setting up API Gateway\n",
    "\n",
    "Now that our Lambda function is set up, it is time to create a new API using API Gateway that will trigger the Lambda function we have just created.\n",
    "\n",
    "Using AWS Console, navigate to **Amazon API Gateway** and then click on **Get started**.\n",
    "\n",
    "On the next page, make sure that **New API** is selected and give the new api a name, for example, `sentiment_analysis_api`. Then, click on **Create API**.\n",
    "\n",
    "Now we have created an API, however it doesn't currently do anything. What we want it to do is to trigger the Lambda function that we created earlier.\n",
    "\n",
    "Select the **Actions** dropdown menu and click **Create Method**. A new blank method will be created, select its dropdown menu and select **POST**, then click on the check mark beside it.\n",
    "\n",
    "For the integration point, make sure that **Lambda Function** is selected and click on the **Use Lambda Proxy integration**. This option makes sure that the data that is sent to the API is then sent directly to the Lambda function with no processing. It also means that the return value must be a proper response object as it will also not be processed by API Gateway.\n",
    "\n",
    "Type the name of the Lambda function you created earlier into the **Lambda Function** text entry box and then click on **Save**. Click on **OK** in the pop-up box that then appears, giving permission to API Gateway to invoke the Lambda function you created.\n",
    "\n",
    "The last step in creating the API Gateway is to select the **Actions** dropdown and click on **Deploy API**. You will need to create a new Deployment stage and name it anything you like, for example `prod`.\n",
    "\n",
    "You have now successfully set up a public API to access your SageMaker model. Make sure to copy or write down the URL provided to invoke your newly created public API as this will be needed in the next step. This URL can be found at the top of the page, highlighted in blue next to the text **Invoke URL**."
   ]
  },
  {
   "cell_type": "code",
   "execution_count": null,
   "metadata": {},
   "outputs": [],
   "source": [
    "# API URL: "
   ]
  },
  {
   "cell_type": "markdown",
   "metadata": {},
   "source": [
    "## Step 4: Deploying our web app\n",
    "\n",
    "Now that we have a publicly available API, we can start using it in a web app. For our purposes, we have provided a simple static html file which can make use of the public api you created earlier.\n",
    "\n",
    "In the `website` folder there should be a file called `index.html`. Download the file to your computer and open that file up in a text editor of your choice. There should be a line which contains **\\*\\*REPLACE WITH PUBLIC API URL\\*\\***. Replace this string with the url that you wrote down in the last step and then save the file.\n",
    "\n",
    "Now, if you open `index.html` on your local computer, your browser will behave as a local web server and you can use the provided site to interact with your SageMaker model.\n",
    "\n",
    "If you'd like to go further, you can host this html file anywhere you'd like, for example using github or hosting a static site on Amazon's S3. Once you have done this you can share the link with anyone you'd like and have them play with it too!\n",
    "\n",
    "> **Important Note** In order for the web app to communicate with the SageMaker endpoint, the endpoint has to actually be deployed and running. This means that you are paying for it. Make sure that the endpoint is running when you want to use the web app but that you shut it down when you don't need it, otherwise you will end up with a surprisingly large AWS bill.\n",
    "\n",
    "**TODO:** Make sure that you include the edited `index.html` file in your project submission."
   ]
  },
  {
   "cell_type": "markdown",
   "metadata": {},
   "source": [
    "Now that your web app is working, trying playing around with it and see how well it works.\n",
    "\n",
    "**Question**: Give an example of a review that you entered into your web app. What was the predicted sentiment of your example review?"
   ]
  },
  {
   "cell_type": "markdown",
   "metadata": {},
   "source": [
    "**Answer:**\n",
    "\n",
    "Positive input: This was an amazing film. I loved the acting and the plot. I definitely recommend this movie to everyone.\n",
    "\n",
    "Web app (model) output: Your review was POSITIVE!\n",
    "\n",
    "-\n",
    "\n",
    "Negative input: This movie was horrible. The actors are bad and terrible. Boring film. Never watch it!\n",
    "\n",
    "Web app (model) output: Your review was NEGATIVE!"
   ]
  },
  {
   "cell_type": "markdown",
   "metadata": {},
   "source": [
    "### Delete the endpoint\n",
    "\n",
    "Remember to always shut down your endpoint if you are no longer using it. You are charged for the length of time that the endpoint is running so if you forget and leave it on you could end up with an unexpectedly large bill."
   ]
  },
  {
   "cell_type": "code",
   "execution_count": 75,
   "metadata": {},
   "outputs": [],
   "source": [
    "predictor.delete_endpoint()"
   ]
  },
  {
   "cell_type": "code",
   "execution_count": 4,
   "metadata": {},
   "outputs": [
    {
     "name": "stdout",
     "output_type": "stream",
     "text": [
      "tar: Removing leading `../' from member names\r\n"
     ]
    }
   ],
   "source": [
    "!tar -czf project.tar.gz ../Project"
   ]
  },
  {
   "cell_type": "code",
   "execution_count": null,
   "metadata": {},
   "outputs": [],
   "source": []
  }
 ],
 "metadata": {
  "kernelspec": {
   "display_name": "Python 3",
   "language": "python",
   "name": "python3"
  },
  "language_info": {
   "codemirror_mode": {
    "name": "ipython",
    "version": 3
   },
   "file_extension": ".py",
   "mimetype": "text/x-python",
   "name": "python",
   "nbconvert_exporter": "python",
   "pygments_lexer": "ipython3",
   "version": "3.8.2"
  }
 },
 "nbformat": 4,
 "nbformat_minor": 2
}
